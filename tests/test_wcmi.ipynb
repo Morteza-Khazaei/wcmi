{
 "cells": [
  {
   "cell_type": "code",
   "execution_count": 1,
   "id": "48d28fa0-b4f4-46cc-ac68-0b70a8f2330e",
   "metadata": {},
   "outputs": [],
   "source": [
    "import numpy as np"
   ]
  },
  {
   "cell_type": "code",
   "execution_count": 2,
   "id": "190100ee-023c-42f8-9a3d-588f612d3fd1",
   "metadata": {},
   "outputs": [
    {
     "name": "stdout",
     "output_type": "stream",
     "text": [
      "2020-01-06 00:00:00, doy: 6\n",
      "[0.08808457 0.08382947 0.09242101 0.09316681 0.10900192 0.09916479\n",
      " 0.09905251 0.0910174  0.10212037 0.10399858 0.10254077 0.10490064\n",
      " 0.12366667 0.08910776 0.09215261 0.13311079 0.08964901 0.11081386\n",
      " 0.09133604 0.09182007 0.0908669  0.08874606 0.0940339  0.10435386\n",
      " 0.09461177 0.12366667 0.09954459 0.09910214 0.09111026 0.10119723\n",
      " 0.0915434  0.08674435 0.09868985]\n",
      "[-15.27318999 -15.99411644 -14.76401934 -14.70835622 -13.4108448\n",
      " -14.14994248 -14.23985906 -14.92733244 -14.08282359 -13.86647213\n",
      " -13.87142728 -13.78089556 -12.56761133 -15.2479594  -14.83332268\n",
      " -10.71009198 -15.2623532  -13.41965605 -15.04234472 -14.98605363\n",
      " -14.97485175 -15.32300942 -14.66533149 -13.73057604 -14.63956923\n",
      " -12.56778171 -14.11949768 -14.11646405 -15.02729282 -14.08795004\n",
      " -15.00038548 -15.45459782 -14.28192569]\n",
      "[0.07366667 0.09941105 0.08273141 0.10362578 0.09401075 0.08318904\n",
      " 0.09040927 0.0951148  0.09072163 0.08973831 0.10501565 0.10061193\n",
      " 0.08901761 0.08610692 0.08798128 0.10338286 0.09648791 0.08004842\n",
      " 0.08831658 0.09010236]\n",
      "[-14.8328705  -13.92460299 -15.93052663 -13.66097377 -14.47359756\n",
      " -15.76346799 -14.9395531  -14.44270413 -14.76759669 -14.92617871\n",
      " -13.53549122 -13.86625725 -15.03240269 -15.37112293 -15.16367772\n",
      " -13.71035815 -14.30735941 -16.64195472 -15.0715006  -14.99995385]\n",
      "[0.0909403  0.09024654 0.12482794 0.09490543 0.08496295 0.1012568\n",
      " 0.08594527 0.08990621 0.09988173 0.08812296 0.09324918 0.08999841\n",
      " 0.10578042 0.10174187 0.09416017 0.10804558 0.08501297 0.08895983\n",
      " 0.09549947 0.09229279 0.08709917 0.09576391 0.09874268 0.08888047\n",
      " 0.09191378]\n",
      "[-15.1971793  -15.42550275 -12.44717942 -14.78275871 -16.14792745\n",
      " -14.33806555 -15.80593146 -15.404224   -14.3458379  -16.02673092\n",
      " -15.08376449 -15.40081786 -13.95501231 -14.31856222 -14.90557755\n",
      " -13.71446352 -16.0285503  -15.57673244 -14.74493908 -15.07641311\n",
      " -15.83742713 -14.70573152 -14.43677307 -15.50152945 -15.08721189]\n",
      "[0.10215559 0.09298277]\n",
      "[-14.55538225 -15.37887725]\n",
      "[0.09864498 0.09946712 0.09773323 0.10107663 0.08804636 0.09772192\n",
      " 0.09223938 0.08371451 0.09727173 0.09763558 0.1014809 ]\n",
      "[-14.67322232 -14.61243146 -14.77704123 -14.41944227 -15.74194904\n",
      " -14.74103321 -15.35131103 -16.43564684 -14.90991016 -14.81561483\n",
      " -14.39854483]\n",
      "[0.09832034]\n",
      "[-13.93981973]\n"
     ]
    },
    {
     "name": "stderr",
     "output_type": "stream",
     "text": [
      "/home/morteza/.local/lib/python3.11/site-packages/wcmi/core.py:84: RuntimeWarning: invalid value encountered in log\n",
      "  return c * np.log(d * x)\n",
      "/home/morteza/.local/lib/python3.11/site-packages/wcmi/core.py:86: OptimizeWarning: Covariance of the parameters could not be estimated\n",
      "  params, covariance = curve_fit(exp_func, x_arr, y_arr)\n"
     ]
    },
    {
     "ename": "TypeError",
     "evalue": "Improper input: func input vector length N=2 must not exceed func output vector length M=1",
     "output_type": "error",
     "traceback": [
      "\u001b[0;31m---------------------------------------------------------------------------\u001b[0m",
      "\u001b[0;31mTypeError\u001b[0m                                 Traceback (most recent call last)",
      "Cell \u001b[0;32mIn[2], line 3\u001b[0m\n\u001b[1;32m      1\u001b[0m \u001b[38;5;28;01mfrom\u001b[39;00m \u001b[38;5;21;01mwcmi\u001b[39;00m \u001b[38;5;28;01mimport\u001b[39;00m VegParamCal\n\u001b[0;32m----> 3\u001b[0m opt_obj \u001b[38;5;241m=\u001b[39m \u001b[43mVegParamCal\u001b[49m\u001b[43m(\u001b[49m\u001b[43mdir_radar_sigma\u001b[49m\u001b[38;5;241;43m=\u001b[39;49m\u001b[38;5;124;43m'\u001b[39;49m\u001b[38;5;124;43m../datasets/backscatter/\u001b[39;49m\u001b[38;5;124;43m'\u001b[39;49m\u001b[43m,\u001b[49m\u001b[43m \u001b[49m\n\u001b[1;32m      4\u001b[0m \u001b[43m                      \u001b[49m\u001b[43mdir_risma\u001b[49m\u001b[38;5;241;43m=\u001b[39;49m\u001b[38;5;124;43m'\u001b[39;49m\u001b[38;5;124;43m../datasets/RISMA/\u001b[39;49m\u001b[38;5;124;43m'\u001b[39;49m\u001b[43m,\u001b[49m\u001b[43m \u001b[49m\n\u001b[1;32m      5\u001b[0m \u001b[43m                      \u001b[49m\u001b[43maafc_croptype\u001b[49m\u001b[38;5;241;43m=\u001b[39;49m\u001b[43m[\u001b[49m\u001b[38;5;241;43m158\u001b[39;49m\u001b[43m,\u001b[49m\u001b[43m \u001b[49m\u001b[43m]\u001b[49m\u001b[43m,\u001b[49m\u001b[43m \u001b[49m\n\u001b[1;32m      6\u001b[0m \u001b[43m                      \u001b[49m\u001b[43mrisma_station\u001b[49m\u001b[38;5;241;43m=\u001b[39;49m\u001b[43m[\u001b[49m\u001b[38;5;124;43m'\u001b[39;49m\u001b[38;5;124;43mMB5\u001b[39;49m\u001b[38;5;124;43m'\u001b[39;49m\u001b[43m,\u001b[49m\u001b[43m \u001b[49m\u001b[43m]\u001b[49m\u001b[43m,\u001b[49m\u001b[43m \u001b[49m\n\u001b[1;32m      7\u001b[0m \u001b[43m                      \u001b[49m\u001b[43msensor_depth\u001b[49m\u001b[38;5;241;43m=\u001b[39;49m\u001b[43m[\u001b[49m\u001b[38;5;241;43m0\u001b[39;49m\u001b[43m,\u001b[49m\u001b[43m \u001b[49m\u001b[38;5;241;43m5\u001b[39;49m\u001b[43m]\u001b[49m\u001b[43m)\u001b[49m\n\u001b[1;32m      8\u001b[0m wcm_param \u001b[38;5;241m=\u001b[39m opt_obj\u001b[38;5;241m.\u001b[39mrun()\n\u001b[1;32m      9\u001b[0m \u001b[38;5;28mprint\u001b[39m(wcm_param)\n",
      "File \u001b[0;32m~/.local/lib/python3.11/site-packages/wcmi/core.py:49\u001b[0m, in \u001b[0;36mVegParamCal.__init__\u001b[0;34m(self, S1_freq_GHz, S1_local_overpass_time, year, dir_radar_sigma, dir_risma, aafc_croptype, risma_station, sensor_depth)\u001b[0m\n\u001b[1;32m     47\u001b[0m         df_doy_depth \u001b[38;5;241m=\u001b[39m \u001b[38;5;28mself\u001b[39m\u001b[38;5;241m.\u001b[39mread_risma_bulk_csv(risma_files[\u001b[38;5;241m0\u001b[39m], S1_lot\u001b[38;5;241m=\u001b[39mS1_local_overpass_time, depth\u001b[38;5;241m=\u001b[39mdp)\n\u001b[1;32m     48\u001b[0m         S1_sigma_df_ct \u001b[38;5;241m=\u001b[39m \u001b[38;5;28mself\u001b[39m\u001b[38;5;241m.\u001b[39mread_radar_backscatter(backscatter_files[\u001b[38;5;241m0\u001b[39m], croptype\u001b[38;5;241m=\u001b[39mct)\n\u001b[0;32m---> 49\u001b[0m         wcm_param_dp[dp] \u001b[38;5;241m=\u001b[39m \u001b[38;5;28;43mself\u001b[39;49m\u001b[38;5;241;43m.\u001b[39;49m\u001b[43mcalculate_WCM_param\u001b[49m\u001b[43m(\u001b[49m\u001b[43mdf_sigma\u001b[49m\u001b[38;5;241;43m=\u001b[39;49m\u001b[43mS1_sigma_df_ct\u001b[49m\u001b[43m,\u001b[49m\u001b[43m \u001b[49m\u001b[43mdf_risma\u001b[49m\u001b[38;5;241;43m=\u001b[39;49m\u001b[43mdf_doy_depth\u001b[49m\u001b[43m)\u001b[49m\n\u001b[1;32m     51\u001b[0m     wcm_param_ct[rst] \u001b[38;5;241m=\u001b[39m wcm_param_dp\n\u001b[1;32m     52\u001b[0m \u001b[38;5;28mself\u001b[39m\u001b[38;5;241m.\u001b[39mwcm_param_ct_st_dp[ct] \u001b[38;5;241m=\u001b[39m wcm_param_ct\n",
      "File \u001b[0;32m~/.local/lib/python3.11/site-packages/wcmi/core.py:329\u001b[0m, in \u001b[0;36mVegParamCal.calculate_WCM_param\u001b[0;34m(self, df_sigma, df_risma, default_wcm_params)\u001b[0m\n\u001b[1;32m    326\u001b[0m         categorized_angle_Bvv_mean \u001b[38;5;241m=\u001b[39m \u001b[38;5;28mdict\u001b[39m(\u001b[38;5;28mmap\u001b[39m(\u001b[38;5;28;01mlambda\u001b[39;00m el: (el[\u001b[38;5;241m0\u001b[39m], np\u001b[38;5;241m.\u001b[39marray(el[\u001b[38;5;241m1\u001b[39m])\u001b[38;5;241m.\u001b[39mmean()), categorized_angle_Bvv\u001b[38;5;241m.\u001b[39mitems()))\n\u001b[1;32m    328\u001b[0m         merged_angle_vv_soils_mvs \u001b[38;5;241m=\u001b[39m \u001b[38;5;28mself\u001b[39m\u001b[38;5;241m.\u001b[39mmergeDictionary(categorized_angle_vv_soil, categorized_angle_mvs)\n\u001b[0;32m--> 329\u001b[0m         categorized_angle_Cvv_Dvv \u001b[38;5;241m=\u001b[39m \u001b[38;5;28mdict\u001b[39m(\u001b[38;5;28mmap\u001b[39m(\u001b[38;5;28;01mlambda\u001b[39;00m el: (el[\u001b[38;5;241m0\u001b[39m], \u001b[38;5;28mself\u001b[39m\u001b[38;5;241m.\u001b[39mcurve_fit_Cvv_Dvv(el[\u001b[38;5;241m1\u001b[39m][\u001b[38;5;241m0\u001b[39m], el[\u001b[38;5;241m1\u001b[39m][\u001b[38;5;241m1\u001b[39m])), \n\u001b[1;32m    330\u001b[0m             merged_angle_vv_soils_mvs\u001b[38;5;241m.\u001b[39mitems()))\n\u001b[1;32m    331\u001b[0m         wcm_param_doy[day_of_year] \u001b[38;5;241m=\u001b[39m [categorized_angle_Avv_mean, categorized_angle_Bvv_mean, categorized_angle_Cvv_Dvv]\n\u001b[1;32m    333\u001b[0m \u001b[38;5;28;01mreturn\u001b[39;00m wcm_param_doy\n",
      "File \u001b[0;32m~/.local/lib/python3.11/site-packages/wcmi/core.py:329\u001b[0m, in \u001b[0;36mVegParamCal.calculate_WCM_param.<locals>.<lambda>\u001b[0;34m(el)\u001b[0m\n\u001b[1;32m    326\u001b[0m         categorized_angle_Bvv_mean \u001b[38;5;241m=\u001b[39m \u001b[38;5;28mdict\u001b[39m(\u001b[38;5;28mmap\u001b[39m(\u001b[38;5;28;01mlambda\u001b[39;00m el: (el[\u001b[38;5;241m0\u001b[39m], np\u001b[38;5;241m.\u001b[39marray(el[\u001b[38;5;241m1\u001b[39m])\u001b[38;5;241m.\u001b[39mmean()), categorized_angle_Bvv\u001b[38;5;241m.\u001b[39mitems()))\n\u001b[1;32m    328\u001b[0m         merged_angle_vv_soils_mvs \u001b[38;5;241m=\u001b[39m \u001b[38;5;28mself\u001b[39m\u001b[38;5;241m.\u001b[39mmergeDictionary(categorized_angle_vv_soil, categorized_angle_mvs)\n\u001b[0;32m--> 329\u001b[0m         categorized_angle_Cvv_Dvv \u001b[38;5;241m=\u001b[39m \u001b[38;5;28mdict\u001b[39m(\u001b[38;5;28mmap\u001b[39m(\u001b[38;5;28;01mlambda\u001b[39;00m el: (el[\u001b[38;5;241m0\u001b[39m], \u001b[38;5;28;43mself\u001b[39;49m\u001b[38;5;241;43m.\u001b[39;49m\u001b[43mcurve_fit_Cvv_Dvv\u001b[49m\u001b[43m(\u001b[49m\u001b[43mel\u001b[49m\u001b[43m[\u001b[49m\u001b[38;5;241;43m1\u001b[39;49m\u001b[43m]\u001b[49m\u001b[43m[\u001b[49m\u001b[38;5;241;43m0\u001b[39;49m\u001b[43m]\u001b[49m\u001b[43m,\u001b[49m\u001b[43m \u001b[49m\u001b[43mel\u001b[49m\u001b[43m[\u001b[49m\u001b[38;5;241;43m1\u001b[39;49m\u001b[43m]\u001b[49m\u001b[43m[\u001b[49m\u001b[38;5;241;43m1\u001b[39;49m\u001b[43m]\u001b[49m\u001b[43m)\u001b[49m), \n\u001b[1;32m    330\u001b[0m             merged_angle_vv_soils_mvs\u001b[38;5;241m.\u001b[39mitems()))\n\u001b[1;32m    331\u001b[0m         wcm_param_doy[day_of_year] \u001b[38;5;241m=\u001b[39m [categorized_angle_Avv_mean, categorized_angle_Bvv_mean, categorized_angle_Cvv_Dvv]\n\u001b[1;32m    333\u001b[0m \u001b[38;5;28;01mreturn\u001b[39;00m wcm_param_doy\n",
      "File \u001b[0;32m~/.local/lib/python3.11/site-packages/wcmi/core.py:86\u001b[0m, in \u001b[0;36mVegParamCal.curve_fit_Cvv_Dvv\u001b[0;34m(self, x_arr, y_arr)\u001b[0m\n\u001b[1;32m     83\u001b[0m \u001b[38;5;28;01mdef\u001b[39;00m \u001b[38;5;21mexp_func\u001b[39m(x, c, d):\n\u001b[1;32m     84\u001b[0m     \u001b[38;5;28;01mreturn\u001b[39;00m c \u001b[38;5;241m*\u001b[39m np\u001b[38;5;241m.\u001b[39mlog(d \u001b[38;5;241m*\u001b[39m x)\n\u001b[0;32m---> 86\u001b[0m params, covariance \u001b[38;5;241m=\u001b[39m \u001b[43mcurve_fit\u001b[49m\u001b[43m(\u001b[49m\u001b[43mexp_func\u001b[49m\u001b[43m,\u001b[49m\u001b[43m \u001b[49m\u001b[43mx_arr\u001b[49m\u001b[43m,\u001b[49m\u001b[43m \u001b[49m\u001b[43my_arr\u001b[49m\u001b[43m)\u001b[49m\n\u001b[1;32m     87\u001b[0m Cvv, Dvv \u001b[38;5;241m=\u001b[39m params\n\u001b[1;32m     89\u001b[0m \u001b[38;5;28;01mreturn\u001b[39;00m Cvv, Dvv\n",
      "File \u001b[0;32m~/.local/lib/python3.11/site-packages/scipy/optimize/_minpack_py.py:1007\u001b[0m, in \u001b[0;36mcurve_fit\u001b[0;34m(f, xdata, ydata, p0, sigma, absolute_sigma, check_finite, bounds, method, jac, full_output, nan_policy, **kwargs)\u001b[0m\n\u001b[1;32m   1004\u001b[0m \u001b[38;5;28;01mif\u001b[39;00m ydata\u001b[38;5;241m.\u001b[39msize \u001b[38;5;241m!=\u001b[39m \u001b[38;5;241m1\u001b[39m \u001b[38;5;129;01mand\u001b[39;00m n \u001b[38;5;241m>\u001b[39m ydata\u001b[38;5;241m.\u001b[39msize:\n\u001b[1;32m   1005\u001b[0m     \u001b[38;5;28;01mraise\u001b[39;00m \u001b[38;5;167;01mTypeError\u001b[39;00m(\u001b[38;5;124mf\u001b[39m\u001b[38;5;124m\"\u001b[39m\u001b[38;5;124mThe number of func parameters=\u001b[39m\u001b[38;5;132;01m{\u001b[39;00mn\u001b[38;5;132;01m}\u001b[39;00m\u001b[38;5;124m must not\u001b[39m\u001b[38;5;124m\"\u001b[39m\n\u001b[1;32m   1006\u001b[0m                     \u001b[38;5;124mf\u001b[39m\u001b[38;5;124m\"\u001b[39m\u001b[38;5;124m exceed the number of data points=\u001b[39m\u001b[38;5;132;01m{\u001b[39;00mydata\u001b[38;5;241m.\u001b[39msize\u001b[38;5;132;01m}\u001b[39;00m\u001b[38;5;124m\"\u001b[39m)\n\u001b[0;32m-> 1007\u001b[0m res \u001b[38;5;241m=\u001b[39m \u001b[43mleastsq\u001b[49m\u001b[43m(\u001b[49m\u001b[43mfunc\u001b[49m\u001b[43m,\u001b[49m\u001b[43m \u001b[49m\u001b[43mp0\u001b[49m\u001b[43m,\u001b[49m\u001b[43m \u001b[49m\u001b[43mDfun\u001b[49m\u001b[38;5;241;43m=\u001b[39;49m\u001b[43mjac\u001b[49m\u001b[43m,\u001b[49m\u001b[43m \u001b[49m\u001b[43mfull_output\u001b[49m\u001b[38;5;241;43m=\u001b[39;49m\u001b[38;5;241;43m1\u001b[39;49m\u001b[43m,\u001b[49m\u001b[43m \u001b[49m\u001b[38;5;241;43m*\u001b[39;49m\u001b[38;5;241;43m*\u001b[39;49m\u001b[43mkwargs\u001b[49m\u001b[43m)\u001b[49m\n\u001b[1;32m   1008\u001b[0m popt, pcov, infodict, errmsg, ier \u001b[38;5;241m=\u001b[39m res\n\u001b[1;32m   1009\u001b[0m ysize \u001b[38;5;241m=\u001b[39m \u001b[38;5;28mlen\u001b[39m(infodict[\u001b[38;5;124m'\u001b[39m\u001b[38;5;124mfvec\u001b[39m\u001b[38;5;124m'\u001b[39m])\n",
      "File \u001b[0;32m~/.local/lib/python3.11/site-packages/scipy/optimize/_minpack_py.py:430\u001b[0m, in \u001b[0;36mleastsq\u001b[0;34m(func, x0, args, Dfun, full_output, col_deriv, ftol, xtol, gtol, maxfev, epsfcn, factor, diag)\u001b[0m\n\u001b[1;32m    427\u001b[0m m \u001b[38;5;241m=\u001b[39m shape[\u001b[38;5;241m0\u001b[39m]\n\u001b[1;32m    429\u001b[0m \u001b[38;5;28;01mif\u001b[39;00m n \u001b[38;5;241m>\u001b[39m m:\n\u001b[0;32m--> 430\u001b[0m     \u001b[38;5;28;01mraise\u001b[39;00m \u001b[38;5;167;01mTypeError\u001b[39;00m(\u001b[38;5;124mf\u001b[39m\u001b[38;5;124m\"\u001b[39m\u001b[38;5;124mImproper input: func input vector length N=\u001b[39m\u001b[38;5;132;01m{\u001b[39;00mn\u001b[38;5;132;01m}\u001b[39;00m\u001b[38;5;124m must\u001b[39m\u001b[38;5;124m\"\u001b[39m\n\u001b[1;32m    431\u001b[0m                     \u001b[38;5;124mf\u001b[39m\u001b[38;5;124m\"\u001b[39m\u001b[38;5;124m not exceed func output vector length M=\u001b[39m\u001b[38;5;132;01m{\u001b[39;00mm\u001b[38;5;132;01m}\u001b[39;00m\u001b[38;5;124m\"\u001b[39m)\n\u001b[1;32m    433\u001b[0m \u001b[38;5;28;01mif\u001b[39;00m epsfcn \u001b[38;5;129;01mis\u001b[39;00m \u001b[38;5;28;01mNone\u001b[39;00m:\n\u001b[1;32m    434\u001b[0m     epsfcn \u001b[38;5;241m=\u001b[39m finfo(dtype)\u001b[38;5;241m.\u001b[39meps\n",
      "\u001b[0;31mTypeError\u001b[0m: Improper input: func input vector length N=2 must not exceed func output vector length M=1"
     ]
    }
   ],
   "source": [
    "from wcmi import VegParamCal\n",
    "\n",
    "opt_obj = VegParamCal(dir_radar_sigma='../datasets/backscatter/', \n",
    "                      dir_risma='../datasets/RISMA/', \n",
    "                      aafc_croptype=[158, ], \n",
    "                      risma_station=['MB5', ], \n",
    "                      sensor_depth=[0, 5])\n",
    "wcm_param = opt_obj.run()\n",
    "print(wcm_param)"
   ]
  },
  {
   "cell_type": "code",
   "execution_count": 3,
   "id": "ba08e842-3bba-482b-81a5-492421ba8ce6",
   "metadata": {},
   "outputs": [
    {
     "data": {
      "text/plain": [
       "[{34: np.float64(0.28425770708816844),\n",
       "  32: np.float64(0.2869220369912305),\n",
       "  31: np.float64(0.2935595385301648),\n",
       "  33: np.float64(0.2929047192175405),\n",
       "  35: np.float64(0.30731422450499857),\n",
       "  36: np.float64(0.2527296258490607),\n",
       "  30: np.float64(0.2637314776317429)},\n",
       " {34: np.float64(0.014093485241817642),\n",
       "  32: np.float64(0.010229133059048455),\n",
       "  31: np.float64(0.00795447514533129),\n",
       "  33: np.float64(0.009323742839752144),\n",
       "  35: np.float64(0.011450505077768106),\n",
       "  36: np.float64(0.015603219157362692),\n",
       "  30: np.float64(0.005282797868243712)},\n",
       " {34: ((108,), (108,)),\n",
       "  32: ((129,), (129,)),\n",
       "  31: ((62,), (62,)),\n",
       "  33: ((105,), (105,)),\n",
       "  35: ((80,), (80,)),\n",
       "  36: ((9,), (9,)),\n",
       "  30: ((7,), (7,))}]"
      ]
     },
     "execution_count": 3,
     "metadata": {},
     "output_type": "execute_result"
    }
   ],
   "source": [
    "angle_doy = wcm_param[158]['MB5'][5][222]\n",
    "angle_doy"
   ]
  },
  {
   "cell_type": "code",
   "execution_count": 10,
   "id": "4bce07e9-5701-40cb-8db7-9c65e1726446",
   "metadata": {},
   "outputs": [],
   "source": [
    "def mergeDictionary(dict_1, dict_2):\n",
    "   dict_3 = {**dict_1, **dict_2}\n",
    "   for key, value in dict_3.items():\n",
    "       if key in dict_1 and key in dict_2:\n",
    "               dict_3[key] = [value , dict_1[key]]\n",
    "   return dict_3"
   ]
  },
  {
   "cell_type": "code",
   "execution_count": 11,
   "id": "04c57db9-bce4-4562-87e8-4e29f100484c",
   "metadata": {},
   "outputs": [
    {
     "name": "stdout",
     "output_type": "stream",
     "text": [
      "{34: [np.float64(0.014093485241817642), np.float64(0.28425770708816844)], 32: [np.float64(0.010229133059048455), np.float64(0.2869220369912305)], 31: [np.float64(0.00795447514533129), np.float64(0.2935595385301648)], 33: [np.float64(0.009323742839752144), np.float64(0.2929047192175405)], 35: [np.float64(0.011450505077768106), np.float64(0.30731422450499857)], 36: [np.float64(0.015603219157362692), np.float64(0.2527296258490607)], 30: [np.float64(0.005282797868243712), np.float64(0.2637314776317429)]}\n"
     ]
    }
   ],
   "source": [
    "dict_3 = mergeDictionary(angle_doy[0], angle_doy[1])\n",
    "print(dict_3)"
   ]
  },
  {
   "cell_type": "code",
   "execution_count": 17,
   "id": "a5d863f0-6288-4d75-b758-1faab702407e",
   "metadata": {},
   "outputs": [
    {
     "name": "stdout",
     "output_type": "stream",
     "text": [
      "ChainMap({34: np.float64(0.28425770708816844), 32: np.float64(0.2869220369912305), 31: np.float64(0.2935595385301648), 33: np.float64(0.2929047192175405), 35: np.float64(0.30731422450499857), 36: np.float64(0.2527296258490607), 30: np.float64(0.2637314776317429)}, {34: np.float64(0.014093485241817642), 32: np.float64(0.010229133059048455), 31: np.float64(0.00795447514533129), 33: np.float64(0.009323742839752144), 35: np.float64(0.011450505077768106), 36: np.float64(0.015603219157362692), 30: np.float64(0.005282797868243712)})\n"
     ]
    }
   ],
   "source": [
    "from collections import ChainMap\n",
    "\n",
    "dict_3 = ChainMap(angle_doy[0], angle_doy[1])\n",
    "print(dict_3)"
   ]
  },
  {
   "cell_type": "code",
   "execution_count": null,
   "id": "44c656ee-2bf5-48fb-af2c-274504af3be7",
   "metadata": {},
   "outputs": [],
   "source": []
  }
 ],
 "metadata": {
  "kernelspec": {
   "display_name": "Python 3 (ipykernel)",
   "language": "python",
   "name": "python3"
  },
  "language_info": {
   "codemirror_mode": {
    "name": "ipython",
    "version": 3
   },
   "file_extension": ".py",
   "mimetype": "text/x-python",
   "name": "python",
   "nbconvert_exporter": "python",
   "pygments_lexer": "ipython3",
   "version": "3.11.2"
  }
 },
 "nbformat": 4,
 "nbformat_minor": 5
}
