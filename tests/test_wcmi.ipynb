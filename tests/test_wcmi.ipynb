{
 "cells": [
  {
   "cell_type": "code",
   "execution_count": 1,
   "id": "48d28fa0-b4f4-46cc-ac68-0b70a8f2330e",
   "metadata": {},
   "outputs": [],
   "source": [
    "import numpy as np"
   ]
  },
  {
   "cell_type": "code",
   "execution_count": 2,
   "id": "190100ee-023c-42f8-9a3d-588f612d3fd1",
   "metadata": {},
   "outputs": [
    {
     "name": "stdout",
     "output_type": "stream",
     "text": [
      "2020-01-06 00:00:00, doy: 6\n"
     ]
    },
    {
     "name": "stderr",
     "output_type": "stream",
     "text": [
      "/home/morteza/.local/lib/python3.11/site-packages/wcmi/core.py:82: RuntimeWarning: invalid value encountered in log\n",
      "  return c * np.log(d * x + 1e-9) #add a small value to avoid log(0)\n",
      "/home/morteza/.local/lib/python3.11/site-packages/wcmi/core.py:85: OptimizeWarning: Covariance of the parameters could not be estimated\n",
      "  params, covariance = curve_fit(exp_func, x_arr, y_arr)\n"
     ]
    },
    {
     "name": "stdout",
     "output_type": "stream",
     "text": [
      "2020-01-11 00:00:00, doy: 11\n"
     ]
    },
    {
     "name": "stderr",
     "output_type": "stream",
     "text": [
      "/home/morteza/.local/lib/python3.11/site-packages/wcmi/core.py:82: RuntimeWarning: invalid value encountered in log\n",
      "  return c * np.log(d * x + 1e-9) #add a small value to avoid log(0)\n"
     ]
    },
    {
     "name": "stdout",
     "output_type": "stream",
     "text": [
      "2020-01-18 00:00:00, doy: 18\n"
     ]
    },
    {
     "name": "stderr",
     "output_type": "stream",
     "text": [
      "/home/morteza/.local/lib/python3.11/site-packages/wcmi/core.py:82: RuntimeWarning: invalid value encountered in log\n",
      "  return c * np.log(d * x + 1e-9) #add a small value to avoid log(0)\n"
     ]
    },
    {
     "name": "stdout",
     "output_type": "stream",
     "text": [
      "2020-01-23 00:00:00, doy: 23\n"
     ]
    },
    {
     "name": "stderr",
     "output_type": "stream",
     "text": [
      "/home/morteza/.local/lib/python3.11/site-packages/wcmi/core.py:82: RuntimeWarning: invalid value encountered in log\n",
      "  return c * np.log(d * x + 1e-9) #add a small value to avoid log(0)\n"
     ]
    },
    {
     "name": "stdout",
     "output_type": "stream",
     "text": [
      "2020-01-30 00:00:00, doy: 30\n"
     ]
    },
    {
     "name": "stderr",
     "output_type": "stream",
     "text": [
      "/home/morteza/.local/lib/python3.11/site-packages/wcmi/core.py:82: RuntimeWarning: invalid value encountered in log\n",
      "  return c * np.log(d * x + 1e-9) #add a small value to avoid log(0)\n",
      "/home/morteza/.local/lib/python3.11/site-packages/wcmi/core.py:85: OptimizeWarning: Covariance of the parameters could not be estimated\n",
      "  params, covariance = curve_fit(exp_func, x_arr, y_arr)\n"
     ]
    },
    {
     "name": "stdout",
     "output_type": "stream",
     "text": [
      "2020-02-04 00:00:00, doy: 35\n"
     ]
    },
    {
     "name": "stderr",
     "output_type": "stream",
     "text": [
      "/home/morteza/.local/lib/python3.11/site-packages/wcmi/core.py:82: RuntimeWarning: invalid value encountered in log\n",
      "  return c * np.log(d * x + 1e-9) #add a small value to avoid log(0)\n"
     ]
    },
    {
     "name": "stdout",
     "output_type": "stream",
     "text": [
      "2020-02-11 00:00:00, doy: 42\n"
     ]
    },
    {
     "name": "stderr",
     "output_type": "stream",
     "text": [
      "/home/morteza/.local/lib/python3.11/site-packages/wcmi/core.py:82: RuntimeWarning: invalid value encountered in log\n",
      "  return c * np.log(d * x + 1e-9) #add a small value to avoid log(0)\n"
     ]
    },
    {
     "name": "stdout",
     "output_type": "stream",
     "text": [
      "2020-02-16 00:00:00, doy: 47\n"
     ]
    },
    {
     "name": "stderr",
     "output_type": "stream",
     "text": [
      "/home/morteza/.local/lib/python3.11/site-packages/wcmi/core.py:82: RuntimeWarning: invalid value encountered in log\n",
      "  return c * np.log(d * x + 1e-9) #add a small value to avoid log(0)\n"
     ]
    },
    {
     "name": "stdout",
     "output_type": "stream",
     "text": [
      "2020-02-23 00:00:00, doy: 54\n"
     ]
    },
    {
     "name": "stderr",
     "output_type": "stream",
     "text": [
      "/home/morteza/.local/lib/python3.11/site-packages/wcmi/core.py:82: RuntimeWarning: invalid value encountered in log\n",
      "  return c * np.log(d * x + 1e-9) #add a small value to avoid log(0)\n"
     ]
    },
    {
     "name": "stdout",
     "output_type": "stream",
     "text": [
      "2020-03-11 00:00:00, doy: 71\n"
     ]
    },
    {
     "name": "stderr",
     "output_type": "stream",
     "text": [
      "/home/morteza/.local/lib/python3.11/site-packages/wcmi/core.py:82: RuntimeWarning: invalid value encountered in log\n",
      "  return c * np.log(d * x + 1e-9) #add a small value to avoid log(0)\n"
     ]
    },
    {
     "name": "stdout",
     "output_type": "stream",
     "text": [
      "2020-03-18 00:00:00, doy: 78\n"
     ]
    },
    {
     "name": "stderr",
     "output_type": "stream",
     "text": [
      "/home/morteza/.local/lib/python3.11/site-packages/wcmi/core.py:82: RuntimeWarning: invalid value encountered in log\n",
      "  return c * np.log(d * x + 1e-9) #add a small value to avoid log(0)\n"
     ]
    },
    {
     "name": "stdout",
     "output_type": "stream",
     "text": [
      "2020-03-30 00:00:00, doy: 90\n"
     ]
    },
    {
     "name": "stderr",
     "output_type": "stream",
     "text": [
      "/home/morteza/.local/lib/python3.11/site-packages/wcmi/core.py:82: RuntimeWarning: invalid value encountered in log\n",
      "  return c * np.log(d * x + 1e-9) #add a small value to avoid log(0)\n"
     ]
    },
    {
     "name": "stdout",
     "output_type": "stream",
     "text": [
      "2020-04-04 00:00:00, doy: 95\n"
     ]
    },
    {
     "name": "stderr",
     "output_type": "stream",
     "text": [
      "/home/morteza/.local/lib/python3.11/site-packages/wcmi/core.py:82: RuntimeWarning: invalid value encountered in log\n",
      "  return c * np.log(d * x + 1e-9) #add a small value to avoid log(0)\n"
     ]
    },
    {
     "name": "stdout",
     "output_type": "stream",
     "text": [
      "2020-04-11 00:00:00, doy: 102\n"
     ]
    },
    {
     "name": "stderr",
     "output_type": "stream",
     "text": [
      "/home/morteza/.local/lib/python3.11/site-packages/wcmi/core.py:82: RuntimeWarning: invalid value encountered in log\n",
      "  return c * np.log(d * x + 1e-9) #add a small value to avoid log(0)\n"
     ]
    },
    {
     "name": "stdout",
     "output_type": "stream",
     "text": [
      "2020-04-16 00:00:00, doy: 107\n"
     ]
    },
    {
     "name": "stderr",
     "output_type": "stream",
     "text": [
      "/home/morteza/.local/lib/python3.11/site-packages/wcmi/core.py:82: RuntimeWarning: invalid value encountered in log\n",
      "  return c * np.log(d * x + 1e-9) #add a small value to avoid log(0)\n"
     ]
    },
    {
     "name": "stdout",
     "output_type": "stream",
     "text": [
      "2020-04-28 00:00:00, doy: 119\n"
     ]
    },
    {
     "name": "stderr",
     "output_type": "stream",
     "text": [
      "/home/morteza/.local/lib/python3.11/site-packages/wcmi/core.py:82: RuntimeWarning: invalid value encountered in log\n",
      "  return c * np.log(d * x + 1e-9) #add a small value to avoid log(0)\n"
     ]
    },
    {
     "name": "stdout",
     "output_type": "stream",
     "text": [
      "2020-05-10 00:00:00, doy: 131\n"
     ]
    },
    {
     "name": "stderr",
     "output_type": "stream",
     "text": [
      "/home/morteza/.local/lib/python3.11/site-packages/wcmi/core.py:82: RuntimeWarning: invalid value encountered in log\n",
      "  return c * np.log(d * x + 1e-9) #add a small value to avoid log(0)\n"
     ]
    },
    {
     "name": "stdout",
     "output_type": "stream",
     "text": [
      "2020-05-17 00:00:00, doy: 138\n"
     ]
    },
    {
     "name": "stderr",
     "output_type": "stream",
     "text": [
      "/home/morteza/.local/lib/python3.11/site-packages/wcmi/core.py:82: RuntimeWarning: invalid value encountered in log\n",
      "  return c * np.log(d * x + 1e-9) #add a small value to avoid log(0)\n"
     ]
    },
    {
     "name": "stdout",
     "output_type": "stream",
     "text": [
      "2020-05-29 00:00:00, doy: 150\n"
     ]
    },
    {
     "name": "stderr",
     "output_type": "stream",
     "text": [
      "/home/morteza/.local/lib/python3.11/site-packages/wcmi/core.py:82: RuntimeWarning: invalid value encountered in log\n",
      "  return c * np.log(d * x + 1e-9) #add a small value to avoid log(0)\n"
     ]
    },
    {
     "name": "stdout",
     "output_type": "stream",
     "text": [
      "2020-06-03 00:00:00, doy: 155\n"
     ]
    },
    {
     "name": "stderr",
     "output_type": "stream",
     "text": [
      "/home/morteza/.local/lib/python3.11/site-packages/wcmi/core.py:82: RuntimeWarning: invalid value encountered in log\n",
      "  return c * np.log(d * x + 1e-9) #add a small value to avoid log(0)\n"
     ]
    },
    {
     "name": "stdout",
     "output_type": "stream",
     "text": [
      "2020-06-10 00:00:00, doy: 162\n"
     ]
    },
    {
     "name": "stderr",
     "output_type": "stream",
     "text": [
      "/home/morteza/.local/lib/python3.11/site-packages/wcmi/core.py:82: RuntimeWarning: invalid value encountered in log\n",
      "  return c * np.log(d * x + 1e-9) #add a small value to avoid log(0)\n"
     ]
    },
    {
     "name": "stdout",
     "output_type": "stream",
     "text": [
      "2020-06-15 00:00:00, doy: 167\n"
     ]
    },
    {
     "name": "stderr",
     "output_type": "stream",
     "text": [
      "/home/morteza/.local/lib/python3.11/site-packages/wcmi/core.py:82: RuntimeWarning: invalid value encountered in log\n",
      "  return c * np.log(d * x + 1e-9) #add a small value to avoid log(0)\n"
     ]
    },
    {
     "name": "stdout",
     "output_type": "stream",
     "text": [
      "2020-06-22 00:00:00, doy: 174\n"
     ]
    },
    {
     "name": "stderr",
     "output_type": "stream",
     "text": [
      "/home/morteza/.local/lib/python3.11/site-packages/wcmi/core.py:82: RuntimeWarning: invalid value encountered in log\n",
      "  return c * np.log(d * x + 1e-9) #add a small value to avoid log(0)\n"
     ]
    },
    {
     "name": "stdout",
     "output_type": "stream",
     "text": [
      "2020-06-27 00:00:00, doy: 179\n"
     ]
    },
    {
     "name": "stderr",
     "output_type": "stream",
     "text": [
      "/home/morteza/.local/lib/python3.11/site-packages/wcmi/core.py:82: RuntimeWarning: invalid value encountered in log\n",
      "  return c * np.log(d * x + 1e-9) #add a small value to avoid log(0)\n"
     ]
    },
    {
     "name": "stdout",
     "output_type": "stream",
     "text": [
      "2020-07-04 00:00:00, doy: 186\n"
     ]
    },
    {
     "name": "stderr",
     "output_type": "stream",
     "text": [
      "/home/morteza/.local/lib/python3.11/site-packages/wcmi/core.py:82: RuntimeWarning: invalid value encountered in log\n",
      "  return c * np.log(d * x + 1e-9) #add a small value to avoid log(0)\n"
     ]
    },
    {
     "name": "stdout",
     "output_type": "stream",
     "text": [
      "2020-07-09 00:00:00, doy: 191\n"
     ]
    },
    {
     "name": "stderr",
     "output_type": "stream",
     "text": [
      "/home/morteza/.local/lib/python3.11/site-packages/wcmi/core.py:82: RuntimeWarning: invalid value encountered in log\n",
      "  return c * np.log(d * x + 1e-9) #add a small value to avoid log(0)\n"
     ]
    },
    {
     "name": "stdout",
     "output_type": "stream",
     "text": [
      "2020-07-16 00:00:00, doy: 198\n"
     ]
    },
    {
     "name": "stderr",
     "output_type": "stream",
     "text": [
      "/home/morteza/.local/lib/python3.11/site-packages/wcmi/core.py:82: RuntimeWarning: invalid value encountered in log\n",
      "  return c * np.log(d * x + 1e-9) #add a small value to avoid log(0)\n"
     ]
    },
    {
     "name": "stdout",
     "output_type": "stream",
     "text": [
      "2020-07-21 00:00:00, doy: 203\n"
     ]
    },
    {
     "name": "stderr",
     "output_type": "stream",
     "text": [
      "/home/morteza/.local/lib/python3.11/site-packages/wcmi/core.py:82: RuntimeWarning: invalid value encountered in log\n",
      "  return c * np.log(d * x + 1e-9) #add a small value to avoid log(0)\n"
     ]
    },
    {
     "name": "stdout",
     "output_type": "stream",
     "text": [
      "2020-07-28 00:00:00, doy: 210\n"
     ]
    },
    {
     "name": "stderr",
     "output_type": "stream",
     "text": [
      "/home/morteza/.local/lib/python3.11/site-packages/wcmi/core.py:82: RuntimeWarning: invalid value encountered in log\n",
      "  return c * np.log(d * x + 1e-9) #add a small value to avoid log(0)\n"
     ]
    },
    {
     "name": "stdout",
     "output_type": "stream",
     "text": [
      "2020-08-02 00:00:00, doy: 215\n"
     ]
    },
    {
     "name": "stderr",
     "output_type": "stream",
     "text": [
      "/home/morteza/.local/lib/python3.11/site-packages/wcmi/core.py:82: RuntimeWarning: invalid value encountered in log\n",
      "  return c * np.log(d * x + 1e-9) #add a small value to avoid log(0)\n"
     ]
    },
    {
     "name": "stdout",
     "output_type": "stream",
     "text": [
      "2020-08-09 00:00:00, doy: 222\n"
     ]
    },
    {
     "name": "stderr",
     "output_type": "stream",
     "text": [
      "/home/morteza/.local/lib/python3.11/site-packages/wcmi/core.py:82: RuntimeWarning: invalid value encountered in log\n",
      "  return c * np.log(d * x + 1e-9) #add a small value to avoid log(0)\n"
     ]
    },
    {
     "name": "stdout",
     "output_type": "stream",
     "text": [
      "2020-08-14 00:00:00, doy: 227\n"
     ]
    },
    {
     "name": "stderr",
     "output_type": "stream",
     "text": [
      "/home/morteza/.local/lib/python3.11/site-packages/wcmi/core.py:82: RuntimeWarning: invalid value encountered in log\n",
      "  return c * np.log(d * x + 1e-9) #add a small value to avoid log(0)\n"
     ]
    },
    {
     "name": "stdout",
     "output_type": "stream",
     "text": [
      "2020-08-21 00:00:00, doy: 234\n"
     ]
    },
    {
     "name": "stderr",
     "output_type": "stream",
     "text": [
      "/home/morteza/.local/lib/python3.11/site-packages/wcmi/core.py:82: RuntimeWarning: invalid value encountered in log\n",
      "  return c * np.log(d * x + 1e-9) #add a small value to avoid log(0)\n"
     ]
    },
    {
     "name": "stdout",
     "output_type": "stream",
     "text": [
      "2020-08-26 00:00:00, doy: 239\n"
     ]
    },
    {
     "name": "stderr",
     "output_type": "stream",
     "text": [
      "/home/morteza/.local/lib/python3.11/site-packages/wcmi/core.py:82: RuntimeWarning: invalid value encountered in log\n",
      "  return c * np.log(d * x + 1e-9) #add a small value to avoid log(0)\n"
     ]
    },
    {
     "name": "stdout",
     "output_type": "stream",
     "text": [
      "2020-09-02 00:00:00, doy: 246\n"
     ]
    },
    {
     "name": "stderr",
     "output_type": "stream",
     "text": [
      "/home/morteza/.local/lib/python3.11/site-packages/wcmi/core.py:82: RuntimeWarning: invalid value encountered in log\n",
      "  return c * np.log(d * x + 1e-9) #add a small value to avoid log(0)\n"
     ]
    },
    {
     "name": "stdout",
     "output_type": "stream",
     "text": [
      "2020-09-07 00:00:00, doy: 251\n"
     ]
    },
    {
     "name": "stderr",
     "output_type": "stream",
     "text": [
      "/home/morteza/.local/lib/python3.11/site-packages/wcmi/core.py:82: RuntimeWarning: invalid value encountered in log\n",
      "  return c * np.log(d * x + 1e-9) #add a small value to avoid log(0)\n"
     ]
    },
    {
     "name": "stdout",
     "output_type": "stream",
     "text": [
      "2020-09-14 00:00:00, doy: 258\n"
     ]
    },
    {
     "name": "stderr",
     "output_type": "stream",
     "text": [
      "/home/morteza/.local/lib/python3.11/site-packages/wcmi/core.py:82: RuntimeWarning: invalid value encountered in log\n",
      "  return c * np.log(d * x + 1e-9) #add a small value to avoid log(0)\n"
     ]
    },
    {
     "name": "stdout",
     "output_type": "stream",
     "text": [
      "2020-09-26 00:00:00, doy: 270\n"
     ]
    },
    {
     "name": "stderr",
     "output_type": "stream",
     "text": [
      "/home/morteza/.local/lib/python3.11/site-packages/wcmi/core.py:82: RuntimeWarning: invalid value encountered in log\n",
      "  return c * np.log(d * x + 1e-9) #add a small value to avoid log(0)\n"
     ]
    },
    {
     "name": "stdout",
     "output_type": "stream",
     "text": [
      "2020-10-01 00:00:00, doy: 275\n"
     ]
    },
    {
     "name": "stderr",
     "output_type": "stream",
     "text": [
      "/home/morteza/.local/lib/python3.11/site-packages/wcmi/core.py:82: RuntimeWarning: invalid value encountered in log\n",
      "  return c * np.log(d * x + 1e-9) #add a small value to avoid log(0)\n"
     ]
    },
    {
     "name": "stdout",
     "output_type": "stream",
     "text": [
      "2020-10-08 00:00:00, doy: 282\n"
     ]
    },
    {
     "name": "stderr",
     "output_type": "stream",
     "text": [
      "/home/morteza/.local/lib/python3.11/site-packages/wcmi/core.py:82: RuntimeWarning: invalid value encountered in log\n",
      "  return c * np.log(d * x + 1e-9) #add a small value to avoid log(0)\n"
     ]
    },
    {
     "name": "stdout",
     "output_type": "stream",
     "text": [
      "2020-10-13 00:00:00, doy: 287\n"
     ]
    },
    {
     "name": "stderr",
     "output_type": "stream",
     "text": [
      "/home/morteza/.local/lib/python3.11/site-packages/wcmi/core.py:82: RuntimeWarning: invalid value encountered in log\n",
      "  return c * np.log(d * x + 1e-9) #add a small value to avoid log(0)\n"
     ]
    },
    {
     "name": "stdout",
     "output_type": "stream",
     "text": [
      "2020-10-20 00:00:00, doy: 294\n"
     ]
    },
    {
     "name": "stderr",
     "output_type": "stream",
     "text": [
      "/home/morteza/.local/lib/python3.11/site-packages/wcmi/core.py:82: RuntimeWarning: invalid value encountered in log\n",
      "  return c * np.log(d * x + 1e-9) #add a small value to avoid log(0)\n",
      "/home/morteza/.local/lib/python3.11/site-packages/wcmi/core.py:82: RuntimeWarning: invalid value encountered in log\n",
      "  return c * np.log(d * x + 1e-9) #add a small value to avoid log(0)\n"
     ]
    },
    {
     "name": "stdout",
     "output_type": "stream",
     "text": [
      "2020-10-25 00:00:00, doy: 299\n",
      "2020-11-01 00:00:00, doy: 306\n"
     ]
    },
    {
     "name": "stderr",
     "output_type": "stream",
     "text": [
      "/home/morteza/.local/lib/python3.11/site-packages/wcmi/core.py:82: RuntimeWarning: invalid value encountered in log\n",
      "  return c * np.log(d * x + 1e-9) #add a small value to avoid log(0)\n",
      "/home/morteza/.local/lib/python3.11/site-packages/wcmi/core.py:82: RuntimeWarning: invalid value encountered in log\n",
      "  return c * np.log(d * x + 1e-9) #add a small value to avoid log(0)\n"
     ]
    },
    {
     "name": "stdout",
     "output_type": "stream",
     "text": [
      "2020-11-06 00:00:00, doy: 311\n",
      "2020-11-13 00:00:00, doy: 318\n"
     ]
    },
    {
     "name": "stderr",
     "output_type": "stream",
     "text": [
      "/home/morteza/.local/lib/python3.11/site-packages/wcmi/core.py:82: RuntimeWarning: invalid value encountered in log\n",
      "  return c * np.log(d * x + 1e-9) #add a small value to avoid log(0)\n",
      "/home/morteza/.local/lib/python3.11/site-packages/wcmi/core.py:85: OptimizeWarning: Covariance of the parameters could not be estimated\n",
      "  params, covariance = curve_fit(exp_func, x_arr, y_arr)\n"
     ]
    },
    {
     "name": "stdout",
     "output_type": "stream",
     "text": [
      "2020-11-18 00:00:00, doy: 323\n"
     ]
    },
    {
     "name": "stderr",
     "output_type": "stream",
     "text": [
      "/home/morteza/.local/lib/python3.11/site-packages/wcmi/core.py:82: RuntimeWarning: invalid value encountered in log\n",
      "  return c * np.log(d * x + 1e-9) #add a small value to avoid log(0)\n"
     ]
    },
    {
     "name": "stdout",
     "output_type": "stream",
     "text": [
      "2020-11-25 00:00:00, doy: 330\n"
     ]
    },
    {
     "name": "stderr",
     "output_type": "stream",
     "text": [
      "/home/morteza/.local/lib/python3.11/site-packages/wcmi/core.py:82: RuntimeWarning: invalid value encountered in log\n",
      "  return c * np.log(d * x + 1e-9) #add a small value to avoid log(0)\n"
     ]
    },
    {
     "name": "stdout",
     "output_type": "stream",
     "text": [
      "2020-11-30 00:00:00, doy: 335\n"
     ]
    },
    {
     "name": "stderr",
     "output_type": "stream",
     "text": [
      "/home/morteza/.local/lib/python3.11/site-packages/wcmi/core.py:82: RuntimeWarning: invalid value encountered in log\n",
      "  return c * np.log(d * x + 1e-9) #add a small value to avoid log(0)\n"
     ]
    },
    {
     "name": "stdout",
     "output_type": "stream",
     "text": [
      "2020-12-07 00:00:00, doy: 342\n"
     ]
    },
    {
     "name": "stderr",
     "output_type": "stream",
     "text": [
      "/home/morteza/.local/lib/python3.11/site-packages/wcmi/core.py:82: RuntimeWarning: invalid value encountered in log\n",
      "  return c * np.log(d * x + 1e-9) #add a small value to avoid log(0)\n",
      "/home/morteza/.local/lib/python3.11/site-packages/wcmi/core.py:85: OptimizeWarning: Covariance of the parameters could not be estimated\n",
      "  params, covariance = curve_fit(exp_func, x_arr, y_arr)\n"
     ]
    },
    {
     "name": "stdout",
     "output_type": "stream",
     "text": [
      "2020-12-12 00:00:00, doy: 347\n"
     ]
    },
    {
     "name": "stderr",
     "output_type": "stream",
     "text": [
      "/home/morteza/.local/lib/python3.11/site-packages/wcmi/core.py:82: RuntimeWarning: invalid value encountered in log\n",
      "  return c * np.log(d * x + 1e-9) #add a small value to avoid log(0)\n"
     ]
    },
    {
     "name": "stdout",
     "output_type": "stream",
     "text": [
      "2020-12-19 00:00:00, doy: 354\n"
     ]
    },
    {
     "name": "stderr",
     "output_type": "stream",
     "text": [
      "/home/morteza/.local/lib/python3.11/site-packages/wcmi/core.py:82: RuntimeWarning: invalid value encountered in log\n",
      "  return c * np.log(d * x + 1e-9) #add a small value to avoid log(0)\n"
     ]
    },
    {
     "name": "stdout",
     "output_type": "stream",
     "text": [
      "2020-12-24 00:00:00, doy: 359\n"
     ]
    },
    {
     "name": "stderr",
     "output_type": "stream",
     "text": [
      "/home/morteza/.local/lib/python3.11/site-packages/wcmi/core.py:82: RuntimeWarning: invalid value encountered in log\n",
      "  return c * np.log(d * x + 1e-9) #add a small value to avoid log(0)\n"
     ]
    },
    {
     "name": "stdout",
     "output_type": "stream",
     "text": [
      "2020-01-06 00:00:00, doy: 6\n"
     ]
    },
    {
     "name": "stderr",
     "output_type": "stream",
     "text": [
      "/home/morteza/.local/lib/python3.11/site-packages/wcmi/core.py:82: RuntimeWarning: invalid value encountered in log\n",
      "  return c * np.log(d * x + 1e-9) #add a small value to avoid log(0)\n",
      "/home/morteza/.local/lib/python3.11/site-packages/wcmi/core.py:85: OptimizeWarning: Covariance of the parameters could not be estimated\n",
      "  params, covariance = curve_fit(exp_func, x_arr, y_arr)\n"
     ]
    },
    {
     "name": "stdout",
     "output_type": "stream",
     "text": [
      "2020-01-11 00:00:00, doy: 11\n"
     ]
    },
    {
     "name": "stderr",
     "output_type": "stream",
     "text": [
      "/home/morteza/.local/lib/python3.11/site-packages/wcmi/core.py:82: RuntimeWarning: invalid value encountered in log\n",
      "  return c * np.log(d * x + 1e-9) #add a small value to avoid log(0)\n"
     ]
    },
    {
     "name": "stdout",
     "output_type": "stream",
     "text": [
      "2020-01-18 00:00:00, doy: 18\n"
     ]
    },
    {
     "name": "stderr",
     "output_type": "stream",
     "text": [
      "/home/morteza/.local/lib/python3.11/site-packages/wcmi/core.py:82: RuntimeWarning: invalid value encountered in log\n",
      "  return c * np.log(d * x + 1e-9) #add a small value to avoid log(0)\n"
     ]
    },
    {
     "name": "stdout",
     "output_type": "stream",
     "text": [
      "2020-01-23 00:00:00, doy: 23\n"
     ]
    },
    {
     "name": "stderr",
     "output_type": "stream",
     "text": [
      "/home/morteza/.local/lib/python3.11/site-packages/wcmi/core.py:82: RuntimeWarning: invalid value encountered in log\n",
      "  return c * np.log(d * x + 1e-9) #add a small value to avoid log(0)\n"
     ]
    },
    {
     "name": "stdout",
     "output_type": "stream",
     "text": [
      "2020-01-30 00:00:00, doy: 30\n"
     ]
    },
    {
     "name": "stderr",
     "output_type": "stream",
     "text": [
      "/home/morteza/.local/lib/python3.11/site-packages/wcmi/core.py:82: RuntimeWarning: invalid value encountered in log\n",
      "  return c * np.log(d * x + 1e-9) #add a small value to avoid log(0)\n",
      "/home/morteza/.local/lib/python3.11/site-packages/wcmi/core.py:85: OptimizeWarning: Covariance of the parameters could not be estimated\n",
      "  params, covariance = curve_fit(exp_func, x_arr, y_arr)\n"
     ]
    },
    {
     "name": "stdout",
     "output_type": "stream",
     "text": [
      "2020-02-04 00:00:00, doy: 35\n"
     ]
    },
    {
     "name": "stderr",
     "output_type": "stream",
     "text": [
      "/home/morteza/.local/lib/python3.11/site-packages/wcmi/core.py:82: RuntimeWarning: invalid value encountered in log\n",
      "  return c * np.log(d * x + 1e-9) #add a small value to avoid log(0)\n"
     ]
    },
    {
     "name": "stdout",
     "output_type": "stream",
     "text": [
      "2020-02-11 00:00:00, doy: 42\n"
     ]
    },
    {
     "name": "stderr",
     "output_type": "stream",
     "text": [
      "/home/morteza/.local/lib/python3.11/site-packages/wcmi/core.py:82: RuntimeWarning: invalid value encountered in log\n",
      "  return c * np.log(d * x + 1e-9) #add a small value to avoid log(0)\n"
     ]
    },
    {
     "name": "stdout",
     "output_type": "stream",
     "text": [
      "2020-02-16 00:00:00, doy: 47\n"
     ]
    },
    {
     "name": "stderr",
     "output_type": "stream",
     "text": [
      "/home/morteza/.local/lib/python3.11/site-packages/wcmi/core.py:82: RuntimeWarning: invalid value encountered in log\n",
      "  return c * np.log(d * x + 1e-9) #add a small value to avoid log(0)\n"
     ]
    },
    {
     "name": "stdout",
     "output_type": "stream",
     "text": [
      "2020-02-23 00:00:00, doy: 54\n"
     ]
    },
    {
     "name": "stderr",
     "output_type": "stream",
     "text": [
      "/home/morteza/.local/lib/python3.11/site-packages/wcmi/core.py:82: RuntimeWarning: invalid value encountered in log\n",
      "  return c * np.log(d * x + 1e-9) #add a small value to avoid log(0)\n"
     ]
    },
    {
     "name": "stdout",
     "output_type": "stream",
     "text": [
      "2020-03-11 00:00:00, doy: 71\n"
     ]
    },
    {
     "name": "stderr",
     "output_type": "stream",
     "text": [
      "/home/morteza/.local/lib/python3.11/site-packages/wcmi/core.py:82: RuntimeWarning: invalid value encountered in log\n",
      "  return c * np.log(d * x + 1e-9) #add a small value to avoid log(0)\n"
     ]
    },
    {
     "name": "stdout",
     "output_type": "stream",
     "text": [
      "2020-03-18 00:00:00, doy: 78\n"
     ]
    },
    {
     "name": "stderr",
     "output_type": "stream",
     "text": [
      "/home/morteza/.local/lib/python3.11/site-packages/wcmi/core.py:82: RuntimeWarning: invalid value encountered in log\n",
      "  return c * np.log(d * x + 1e-9) #add a small value to avoid log(0)\n"
     ]
    },
    {
     "name": "stdout",
     "output_type": "stream",
     "text": [
      "2020-03-30 00:00:00, doy: 90\n"
     ]
    },
    {
     "name": "stderr",
     "output_type": "stream",
     "text": [
      "/home/morteza/.local/lib/python3.11/site-packages/wcmi/core.py:82: RuntimeWarning: invalid value encountered in log\n",
      "  return c * np.log(d * x + 1e-9) #add a small value to avoid log(0)\n"
     ]
    },
    {
     "name": "stdout",
     "output_type": "stream",
     "text": [
      "2020-04-04 00:00:00, doy: 95\n"
     ]
    },
    {
     "name": "stderr",
     "output_type": "stream",
     "text": [
      "/home/morteza/.local/lib/python3.11/site-packages/wcmi/core.py:82: RuntimeWarning: invalid value encountered in log\n",
      "  return c * np.log(d * x + 1e-9) #add a small value to avoid log(0)\n"
     ]
    },
    {
     "name": "stdout",
     "output_type": "stream",
     "text": [
      "2020-04-11 00:00:00, doy: 102\n"
     ]
    },
    {
     "name": "stderr",
     "output_type": "stream",
     "text": [
      "/home/morteza/.local/lib/python3.11/site-packages/wcmi/core.py:82: RuntimeWarning: invalid value encountered in log\n",
      "  return c * np.log(d * x + 1e-9) #add a small value to avoid log(0)\n"
     ]
    },
    {
     "name": "stdout",
     "output_type": "stream",
     "text": [
      "2020-04-16 00:00:00, doy: 107\n"
     ]
    },
    {
     "name": "stderr",
     "output_type": "stream",
     "text": [
      "/home/morteza/.local/lib/python3.11/site-packages/wcmi/core.py:82: RuntimeWarning: invalid value encountered in log\n",
      "  return c * np.log(d * x + 1e-9) #add a small value to avoid log(0)\n"
     ]
    },
    {
     "name": "stdout",
     "output_type": "stream",
     "text": [
      "2020-04-28 00:00:00, doy: 119\n"
     ]
    },
    {
     "name": "stderr",
     "output_type": "stream",
     "text": [
      "/home/morteza/.local/lib/python3.11/site-packages/wcmi/core.py:82: RuntimeWarning: invalid value encountered in log\n",
      "  return c * np.log(d * x + 1e-9) #add a small value to avoid log(0)\n"
     ]
    },
    {
     "name": "stdout",
     "output_type": "stream",
     "text": [
      "2020-05-10 00:00:00, doy: 131\n"
     ]
    },
    {
     "name": "stderr",
     "output_type": "stream",
     "text": [
      "/home/morteza/.local/lib/python3.11/site-packages/wcmi/core.py:82: RuntimeWarning: invalid value encountered in log\n",
      "  return c * np.log(d * x + 1e-9) #add a small value to avoid log(0)\n"
     ]
    },
    {
     "name": "stdout",
     "output_type": "stream",
     "text": [
      "2020-05-17 00:00:00, doy: 138\n"
     ]
    },
    {
     "name": "stderr",
     "output_type": "stream",
     "text": [
      "/home/morteza/.local/lib/python3.11/site-packages/wcmi/core.py:82: RuntimeWarning: invalid value encountered in log\n",
      "  return c * np.log(d * x + 1e-9) #add a small value to avoid log(0)\n"
     ]
    },
    {
     "name": "stdout",
     "output_type": "stream",
     "text": [
      "2020-05-29 00:00:00, doy: 150\n"
     ]
    },
    {
     "name": "stderr",
     "output_type": "stream",
     "text": [
      "/home/morteza/.local/lib/python3.11/site-packages/wcmi/core.py:82: RuntimeWarning: invalid value encountered in log\n",
      "  return c * np.log(d * x + 1e-9) #add a small value to avoid log(0)\n"
     ]
    },
    {
     "name": "stdout",
     "output_type": "stream",
     "text": [
      "2020-06-03 00:00:00, doy: 155\n"
     ]
    },
    {
     "name": "stderr",
     "output_type": "stream",
     "text": [
      "/home/morteza/.local/lib/python3.11/site-packages/wcmi/core.py:82: RuntimeWarning: invalid value encountered in log\n",
      "  return c * np.log(d * x + 1e-9) #add a small value to avoid log(0)\n"
     ]
    },
    {
     "name": "stdout",
     "output_type": "stream",
     "text": [
      "2020-06-10 00:00:00, doy: 162\n"
     ]
    },
    {
     "name": "stderr",
     "output_type": "stream",
     "text": [
      "/home/morteza/.local/lib/python3.11/site-packages/wcmi/core.py:82: RuntimeWarning: invalid value encountered in log\n",
      "  return c * np.log(d * x + 1e-9) #add a small value to avoid log(0)\n"
     ]
    },
    {
     "name": "stdout",
     "output_type": "stream",
     "text": [
      "2020-06-15 00:00:00, doy: 167\n"
     ]
    },
    {
     "name": "stderr",
     "output_type": "stream",
     "text": [
      "/home/morteza/.local/lib/python3.11/site-packages/wcmi/core.py:82: RuntimeWarning: invalid value encountered in log\n",
      "  return c * np.log(d * x + 1e-9) #add a small value to avoid log(0)\n"
     ]
    },
    {
     "name": "stdout",
     "output_type": "stream",
     "text": [
      "2020-06-22 00:00:00, doy: 174\n"
     ]
    },
    {
     "name": "stderr",
     "output_type": "stream",
     "text": [
      "/home/morteza/.local/lib/python3.11/site-packages/wcmi/core.py:82: RuntimeWarning: invalid value encountered in log\n",
      "  return c * np.log(d * x + 1e-9) #add a small value to avoid log(0)\n"
     ]
    },
    {
     "name": "stdout",
     "output_type": "stream",
     "text": [
      "2020-06-27 00:00:00, doy: 179\n"
     ]
    },
    {
     "name": "stderr",
     "output_type": "stream",
     "text": [
      "/home/morteza/.local/lib/python3.11/site-packages/wcmi/core.py:82: RuntimeWarning: invalid value encountered in log\n",
      "  return c * np.log(d * x + 1e-9) #add a small value to avoid log(0)\n"
     ]
    },
    {
     "name": "stdout",
     "output_type": "stream",
     "text": [
      "2020-07-04 00:00:00, doy: 186\n"
     ]
    },
    {
     "name": "stderr",
     "output_type": "stream",
     "text": [
      "/home/morteza/.local/lib/python3.11/site-packages/wcmi/core.py:82: RuntimeWarning: invalid value encountered in log\n",
      "  return c * np.log(d * x + 1e-9) #add a small value to avoid log(0)\n"
     ]
    },
    {
     "name": "stdout",
     "output_type": "stream",
     "text": [
      "2020-07-09 00:00:00, doy: 191\n"
     ]
    },
    {
     "name": "stderr",
     "output_type": "stream",
     "text": [
      "/home/morteza/.local/lib/python3.11/site-packages/wcmi/core.py:82: RuntimeWarning: invalid value encountered in log\n",
      "  return c * np.log(d * x + 1e-9) #add a small value to avoid log(0)\n"
     ]
    },
    {
     "name": "stdout",
     "output_type": "stream",
     "text": [
      "2020-07-16 00:00:00, doy: 198\n"
     ]
    },
    {
     "name": "stderr",
     "output_type": "stream",
     "text": [
      "/home/morteza/.local/lib/python3.11/site-packages/wcmi/core.py:82: RuntimeWarning: invalid value encountered in log\n",
      "  return c * np.log(d * x + 1e-9) #add a small value to avoid log(0)\n"
     ]
    },
    {
     "name": "stdout",
     "output_type": "stream",
     "text": [
      "2020-07-21 00:00:00, doy: 203\n"
     ]
    },
    {
     "name": "stderr",
     "output_type": "stream",
     "text": [
      "/home/morteza/.local/lib/python3.11/site-packages/wcmi/core.py:82: RuntimeWarning: invalid value encountered in log\n",
      "  return c * np.log(d * x + 1e-9) #add a small value to avoid log(0)\n"
     ]
    },
    {
     "name": "stdout",
     "output_type": "stream",
     "text": [
      "2020-07-28 00:00:00, doy: 210\n"
     ]
    },
    {
     "name": "stderr",
     "output_type": "stream",
     "text": [
      "/home/morteza/.local/lib/python3.11/site-packages/wcmi/core.py:82: RuntimeWarning: invalid value encountered in log\n",
      "  return c * np.log(d * x + 1e-9) #add a small value to avoid log(0)\n"
     ]
    },
    {
     "name": "stdout",
     "output_type": "stream",
     "text": [
      "2020-08-02 00:00:00, doy: 215\n"
     ]
    },
    {
     "name": "stderr",
     "output_type": "stream",
     "text": [
      "/home/morteza/.local/lib/python3.11/site-packages/wcmi/core.py:82: RuntimeWarning: invalid value encountered in log\n",
      "  return c * np.log(d * x + 1e-9) #add a small value to avoid log(0)\n"
     ]
    },
    {
     "name": "stdout",
     "output_type": "stream",
     "text": [
      "2020-08-09 00:00:00, doy: 222\n"
     ]
    },
    {
     "name": "stderr",
     "output_type": "stream",
     "text": [
      "/home/morteza/.local/lib/python3.11/site-packages/wcmi/core.py:82: RuntimeWarning: invalid value encountered in log\n",
      "  return c * np.log(d * x + 1e-9) #add a small value to avoid log(0)\n"
     ]
    },
    {
     "name": "stdout",
     "output_type": "stream",
     "text": [
      "2020-08-14 00:00:00, doy: 227\n"
     ]
    },
    {
     "name": "stderr",
     "output_type": "stream",
     "text": [
      "/home/morteza/.local/lib/python3.11/site-packages/wcmi/core.py:82: RuntimeWarning: invalid value encountered in log\n",
      "  return c * np.log(d * x + 1e-9) #add a small value to avoid log(0)\n"
     ]
    },
    {
     "name": "stdout",
     "output_type": "stream",
     "text": [
      "2020-08-21 00:00:00, doy: 234\n"
     ]
    },
    {
     "name": "stderr",
     "output_type": "stream",
     "text": [
      "/home/morteza/.local/lib/python3.11/site-packages/wcmi/core.py:82: RuntimeWarning: invalid value encountered in log\n",
      "  return c * np.log(d * x + 1e-9) #add a small value to avoid log(0)\n"
     ]
    },
    {
     "name": "stdout",
     "output_type": "stream",
     "text": [
      "2020-08-26 00:00:00, doy: 239\n"
     ]
    },
    {
     "name": "stderr",
     "output_type": "stream",
     "text": [
      "/home/morteza/.local/lib/python3.11/site-packages/wcmi/core.py:82: RuntimeWarning: invalid value encountered in log\n",
      "  return c * np.log(d * x + 1e-9) #add a small value to avoid log(0)\n"
     ]
    },
    {
     "name": "stdout",
     "output_type": "stream",
     "text": [
      "2020-09-02 00:00:00, doy: 246\n"
     ]
    },
    {
     "name": "stderr",
     "output_type": "stream",
     "text": [
      "/home/morteza/.local/lib/python3.11/site-packages/wcmi/core.py:82: RuntimeWarning: invalid value encountered in log\n",
      "  return c * np.log(d * x + 1e-9) #add a small value to avoid log(0)\n"
     ]
    },
    {
     "name": "stdout",
     "output_type": "stream",
     "text": [
      "2020-09-07 00:00:00, doy: 251\n"
     ]
    },
    {
     "name": "stderr",
     "output_type": "stream",
     "text": [
      "/home/morteza/.local/lib/python3.11/site-packages/wcmi/core.py:82: RuntimeWarning: invalid value encountered in log\n",
      "  return c * np.log(d * x + 1e-9) #add a small value to avoid log(0)\n"
     ]
    },
    {
     "name": "stdout",
     "output_type": "stream",
     "text": [
      "2020-09-14 00:00:00, doy: 258\n"
     ]
    },
    {
     "name": "stderr",
     "output_type": "stream",
     "text": [
      "/home/morteza/.local/lib/python3.11/site-packages/wcmi/core.py:82: RuntimeWarning: invalid value encountered in log\n",
      "  return c * np.log(d * x + 1e-9) #add a small value to avoid log(0)\n"
     ]
    },
    {
     "name": "stdout",
     "output_type": "stream",
     "text": [
      "2020-09-26 00:00:00, doy: 270\n"
     ]
    },
    {
     "name": "stderr",
     "output_type": "stream",
     "text": [
      "/home/morteza/.local/lib/python3.11/site-packages/wcmi/core.py:82: RuntimeWarning: invalid value encountered in log\n",
      "  return c * np.log(d * x + 1e-9) #add a small value to avoid log(0)\n"
     ]
    },
    {
     "name": "stdout",
     "output_type": "stream",
     "text": [
      "2020-10-01 00:00:00, doy: 275\n"
     ]
    },
    {
     "name": "stderr",
     "output_type": "stream",
     "text": [
      "/home/morteza/.local/lib/python3.11/site-packages/wcmi/core.py:82: RuntimeWarning: invalid value encountered in log\n",
      "  return c * np.log(d * x + 1e-9) #add a small value to avoid log(0)\n"
     ]
    },
    {
     "name": "stdout",
     "output_type": "stream",
     "text": [
      "2020-10-08 00:00:00, doy: 282\n"
     ]
    },
    {
     "name": "stderr",
     "output_type": "stream",
     "text": [
      "/home/morteza/.local/lib/python3.11/site-packages/wcmi/core.py:82: RuntimeWarning: invalid value encountered in log\n",
      "  return c * np.log(d * x + 1e-9) #add a small value to avoid log(0)\n"
     ]
    },
    {
     "name": "stdout",
     "output_type": "stream",
     "text": [
      "2020-10-13 00:00:00, doy: 287\n"
     ]
    },
    {
     "name": "stderr",
     "output_type": "stream",
     "text": [
      "/home/morteza/.local/lib/python3.11/site-packages/wcmi/core.py:82: RuntimeWarning: invalid value encountered in log\n",
      "  return c * np.log(d * x + 1e-9) #add a small value to avoid log(0)\n"
     ]
    },
    {
     "name": "stdout",
     "output_type": "stream",
     "text": [
      "2020-10-20 00:00:00, doy: 294\n"
     ]
    },
    {
     "name": "stderr",
     "output_type": "stream",
     "text": [
      "/home/morteza/.local/lib/python3.11/site-packages/wcmi/core.py:82: RuntimeWarning: invalid value encountered in log\n",
      "  return c * np.log(d * x + 1e-9) #add a small value to avoid log(0)\n",
      "/home/morteza/.local/lib/python3.11/site-packages/wcmi/core.py:82: RuntimeWarning: invalid value encountered in log\n",
      "  return c * np.log(d * x + 1e-9) #add a small value to avoid log(0)\n"
     ]
    },
    {
     "name": "stdout",
     "output_type": "stream",
     "text": [
      "2020-10-25 00:00:00, doy: 299\n",
      "2020-11-01 00:00:00, doy: 306\n"
     ]
    },
    {
     "name": "stderr",
     "output_type": "stream",
     "text": [
      "/home/morteza/.local/lib/python3.11/site-packages/wcmi/core.py:82: RuntimeWarning: invalid value encountered in log\n",
      "  return c * np.log(d * x + 1e-9) #add a small value to avoid log(0)\n",
      "/home/morteza/.local/lib/python3.11/site-packages/wcmi/core.py:82: RuntimeWarning: invalid value encountered in log\n",
      "  return c * np.log(d * x + 1e-9) #add a small value to avoid log(0)\n"
     ]
    },
    {
     "name": "stdout",
     "output_type": "stream",
     "text": [
      "2020-11-06 00:00:00, doy: 311\n",
      "2020-11-13 00:00:00, doy: 318\n"
     ]
    },
    {
     "name": "stderr",
     "output_type": "stream",
     "text": [
      "/home/morteza/.local/lib/python3.11/site-packages/wcmi/core.py:82: RuntimeWarning: invalid value encountered in log\n",
      "  return c * np.log(d * x + 1e-9) #add a small value to avoid log(0)\n",
      "/home/morteza/.local/lib/python3.11/site-packages/wcmi/core.py:85: OptimizeWarning: Covariance of the parameters could not be estimated\n",
      "  params, covariance = curve_fit(exp_func, x_arr, y_arr)\n"
     ]
    },
    {
     "name": "stdout",
     "output_type": "stream",
     "text": [
      "2020-11-18 00:00:00, doy: 323\n"
     ]
    },
    {
     "name": "stderr",
     "output_type": "stream",
     "text": [
      "/home/morteza/.local/lib/python3.11/site-packages/wcmi/core.py:82: RuntimeWarning: invalid value encountered in log\n",
      "  return c * np.log(d * x + 1e-9) #add a small value to avoid log(0)\n"
     ]
    },
    {
     "name": "stdout",
     "output_type": "stream",
     "text": [
      "2020-11-25 00:00:00, doy: 330\n"
     ]
    },
    {
     "name": "stderr",
     "output_type": "stream",
     "text": [
      "/home/morteza/.local/lib/python3.11/site-packages/wcmi/core.py:82: RuntimeWarning: invalid value encountered in log\n",
      "  return c * np.log(d * x + 1e-9) #add a small value to avoid log(0)\n"
     ]
    },
    {
     "name": "stdout",
     "output_type": "stream",
     "text": [
      "2020-11-30 00:00:00, doy: 335\n"
     ]
    },
    {
     "name": "stderr",
     "output_type": "stream",
     "text": [
      "/home/morteza/.local/lib/python3.11/site-packages/wcmi/core.py:82: RuntimeWarning: invalid value encountered in log\n",
      "  return c * np.log(d * x + 1e-9) #add a small value to avoid log(0)\n"
     ]
    },
    {
     "name": "stdout",
     "output_type": "stream",
     "text": [
      "2020-12-07 00:00:00, doy: 342\n"
     ]
    },
    {
     "name": "stderr",
     "output_type": "stream",
     "text": [
      "/home/morteza/.local/lib/python3.11/site-packages/wcmi/core.py:82: RuntimeWarning: invalid value encountered in log\n",
      "  return c * np.log(d * x + 1e-9) #add a small value to avoid log(0)\n",
      "/home/morteza/.local/lib/python3.11/site-packages/wcmi/core.py:85: OptimizeWarning: Covariance of the parameters could not be estimated\n",
      "  params, covariance = curve_fit(exp_func, x_arr, y_arr)\n"
     ]
    },
    {
     "name": "stdout",
     "output_type": "stream",
     "text": [
      "2020-12-12 00:00:00, doy: 347\n"
     ]
    },
    {
     "name": "stderr",
     "output_type": "stream",
     "text": [
      "/home/morteza/.local/lib/python3.11/site-packages/wcmi/core.py:82: RuntimeWarning: invalid value encountered in log\n",
      "  return c * np.log(d * x + 1e-9) #add a small value to avoid log(0)\n"
     ]
    },
    {
     "name": "stdout",
     "output_type": "stream",
     "text": [
      "2020-12-19 00:00:00, doy: 354\n"
     ]
    },
    {
     "name": "stderr",
     "output_type": "stream",
     "text": [
      "/home/morteza/.local/lib/python3.11/site-packages/wcmi/core.py:82: RuntimeWarning: invalid value encountered in log\n",
      "  return c * np.log(d * x + 1e-9) #add a small value to avoid log(0)\n"
     ]
    },
    {
     "name": "stdout",
     "output_type": "stream",
     "text": [
      "2020-12-24 00:00:00, doy: 359\n",
      "{158: {'MB5': {0: {6: {32: [(np.float64(9.380285971623854), np.float64(2.2113605535610956)), [np.float64(0.10178182547191254), np.float64(0.8108209859254756)]], 31: [(np.float64(7.356353997589686), np.float64(1.4741291847727975)), [np.float64(0.08536400684771149), np.float64(0.7808347550703885)]], 33: [(np.float64(9.514595888814345), np.float64(2.196895923159801)), [np.float64(0.07638460241084959), np.float64(0.7809186418015388)]], 35: [(np.float64(8.752879365493884), np.float64(1.8558322047600593)), [np.float64(0.0854342433253607), np.float64(0.7911533222223098)]], 34: [(np.float64(10.220714000311434), np.float64(2.409553227425146)), [np.float64(0.08155300368000906), np.float64(0.7858487666195078)]], 30: [(nan, nan), [np.float64(0.09775381766859727), np.float64(0.802941268583562)]]}, 11: {41: [(np.float64(8.25226324868331), np.float64(1.8502389004105584)), [np.float64(0.04324534418867003), np.float64(0.7448182365512622)]], 42: [(np.float64(9.21163036715736), np.float64(2.22312886727798)), [np.float64(0.0432031713892054), np.float64(0.7436747285234782)]], 43: [(np.float64(10.026052669581876), np.float64(2.4529736911088693)), [np.float64(0.04386283919089474), np.float64(0.7540757776288833)]], 40: [(np.float64(9.757389281018838), np.float64(2.539647610090782)), [np.float64(0.04476504504364996), np.float64(0.7474696844589289)]]}, 18: {31: [(np.float64(11.010064853693162), np.float64(2.9713199770983385)), [np.float64(0.06361364034248948), np.float64(0.8041424077357339)]], 32: [(np.float64(10.991193047870182), np.float64(3.005963712727478)), [np.float64(0.04087968245077255), np.float64(0.7375281000864892)]], 30: [(np.float64(23.83421162406525), np.float64(6.420199679613524)), [np.float64(0.04882050181928445), np.float64(1.0578646445414268)]], 34: [(np.float64(9.702679726403154), np.float64(2.371275888003266)), [np.float64(0.045949176204287796), np.float64(0.7451519173906961)]]}, 23: {41: [(np.float64(11.804850266746522), np.float64(3.0109933006983245)), [np.float64(0.0304919135723066), np.float64(0.7214783379537221)]], 40: [(np.float64(13.115487537934424), np.float64(3.5212564012995986)), [np.float64(0.030578663735227083), np.float64(0.7320997731728546)]], 42: [(np.float64(8.79772920862982), np.float64(1.9180804800127287)), [np.float64(0.0451611961169844), np.float64(0.737337117393149)]]}, 30: {31: [(np.float64(11.484039417283942), np.float64(2.9486803114529905)), [np.float64(0.05696145993912433), np.float64(0.7633989174857564)]], 32: [(np.float64(12.510480433881892), np.float64(3.2656986376879638)), [np.float64(0.04266612297093677), np.float64(0.7387385391542627)]], 30: [(np.float64(15.487192860356863), np.float64(4.2050907218167435)), [np.float64(0.036638782992454336), np.float64(0.7671501058907718)]], 34: [(np.float64(12.556465975939636), np.float64(3.170675270053814)), [np.float64(0.045171646709540055), np.float64(0.742287269130874)]]}, 35: {40: [(np.float64(18.342091270355798), np.float64(4.895745324107394)), [np.float64(0.024249315532227696), np.float64(0.7194282003621016)]], 43: [(np.float64(10.47790034091679), np.float64(2.4328958844096005)), [np.float64(0.04210101500520054), np.float64(0.7384349461041317)]], 41: [(np.float64(12.222952542244833), np.float64(3.1123441942929886)), [np.float64(0.02841086232412688), np.float64(0.7263989476981988)]], 42: [(np.float64(9.702400613707999), np.float64(2.21084983375008)), [np.float64(0.03523186145119034), np.float64(0.7273998957631876)]], 44: [(np.float64(8.704746129812182), np.float64(1.7430944496496814)), [np.float64(0.05430513365284811), np.float64(0.750395307624757)]]}, 42: {34: [(np.float64(11.434838797560017), np.float64(2.795836461100529)), [np.float64(0.052767128813005985), np.float64(0.751981083317537)]], 31: [(np.float64(10.726101202767413), np.float64(2.6997788406076397)), [np.float64(0.05681046827929743), np.float64(0.7550159676513318)]], 33: [(np.float64(11.788018464872453), np.float64(2.970222721709563)), [np.float64(0.05079191733579963), np.float64(0.7497689126283497)]], 32: [(np.float64(11.857014012149937), np.float64(3.0582107669552494)), [np.float64(0.047684119133588894), np.float64(0.7439135717929678)]], 36: [(np.float64(13.552896909643293), np.float64(3.400779956802183)), [np.float64(0.030925266929322043), np.float64(0.7273376007399862)]], 35: [(np.float64(25.86316714920214), np.float64(5.983125250673166)), [np.float64(0.04099158557021526), np.float64(0.8336262462154391)]], 30: [(np.float64(17.37519502349204), np.float64(4.713296680518066)), [np.float64(0.037741889459460685), np.float64(0.770747661958946)]]}, 47: {43: [(np.float64(9.31926600713585), np.float64(2.1455640130583826)), [np.float64(0.03438132526037037), np.float64(0.7287190126988946)]], 40: [(np.float64(21.111514934649097), np.float64(5.918583395968587)), [np.float64(0.025144738063327204), np.float64(0.7789741400857905)]], 42: [(np.float64(10.745552296452653), np.float64(2.7206918466785104)), [np.float64(0.03379991398872796), np.float64(0.7324011314880567)]], 41: [(np.float64(12.978581378504732), np.float64(3.5803518822484586)), [np.float64(0.024080861054766926), np.float64(0.741806110858918)]], 44: [(np.float64(14.453683910271677), np.float64(3.8932134654192927)), [np.float64(0.042835983769537414), np.float64(0.6956137261415134)]]}, 54: {32: [(np.float64(13.754262702570381), np.float64(3.234746006673431)), [np.float64(0.05957734794708993), np.float64(0.7582540108809994)]], 31: [(np.float64(14.342109012614856), np.float64(3.3925514369987133)), [np.float64(0.05697950262460497), np.float64(0.7720742701335567)]], 33: [(np.float64(13.507963040920519), np.float64(3.116584384498153)), [np.float64(0.061059659302547156), np.float64(0.7587204918201484)]], 34: [(np.float64(13.458808510563577), np.float64(3.051190974011611)), [np.float64(0.05363997100890818), np.float64(0.7516028808367299)]], 35: [(np.float64(14.267060420139137), np.float64(3.2050072884973058)), [np.float64(0.046000599028296854), np.float64(0.7365135273271894)]], 36: [(np.float64(17.366984111188984), np.float64(3.9103486731863635)), [np.float64(0.021865478015598797), np.float64(0.7140087118688809)]], 30: [(np.float64(23.791103352425893), np.float64(5.281257181442098)), [np.float64(0.030959965645195042), np.float64(0.8089193316944454)]]}, 71: {41: [(np.float64(16.814134100788564), np.float64(3.4310214069304235)), [np.float64(0.03832698111305576), np.float64(0.7388494894145722)]], 42: [(np.float64(15.247631131002802), np.float64(3.0994506341912267)), [np.float64(0.04396662323936817), np.float64(0.7337983820446327)]], 43: [(np.float64(14.135569526794573), np.float64(2.8229352918197104)), [np.float64(0.0586628147006674), np.float64(0.751826980196781)]], 40: [(np.float64(21.32872750998165), np.float64(4.135107072872302)), [np.float64(0.03919087449566386), np.float64(0.8024479161112789)]]}, 78: {32: [(np.float64(10.396508200081435), np.float64(2.4144923205433906)), [np.float64(0.08436835375749285), np.float64(0.7866760319885239)]], 31: [(np.float64(10.937682522166243), np.float64(2.619699238235017)), [np.float64(0.0862466469869507), np.float64(0.7890946122455819)]], 33: [(np.float64(10.268267340796102), np.float64(2.3126539219532023)), [np.float64(0.08844749670036788), np.float64(0.7929825515478177)]], 34: [(np.float64(10.66389631213594), np.float64(2.39576509139469)), [np.float64(0.07473547347246341), np.float64(0.7775287094640718)]], 35: [(np.float64(10.140703117034558), np.float64(2.206016820200295)), [np.float64(0.06886744068121065), np.float64(0.7699309912435797)]], 30: [(np.float64(13.989294064322497), np.float64(3.5702148740461164)), [np.float64(0.08271323694447243), np.float64(0.7820870326447071)]]}, 90: {34: [(np.float64(28.38436233628504), np.float64(3.2450457809725806)), [np.float64(0.17231502191709416), np.float64(0.8834455097805592)]], 32: [(np.float64(28.487104151255576), np.float64(3.2947705433411776)), [np.float64(0.21209938832213973), np.float64(0.9572636710601226)]], 31: [(np.float64(26.704237815833572), np.float64(3.243705183904809)), [np.float64(0.19289753812223728), np.float64(0.9132117903152518)]], 33: [(np.float64(27.927916330023567), np.float64(3.240080714933459)), [np.float64(0.17421329207097858), np.float64(0.8938581175259025)]], 35: [(np.float64(27.450997194285996), np.float64(3.1817705646747974)), [np.float64(0.17034912395546178), np.float64(0.8875129129578188)]], 36: [(np.float64(22.52083645537333), np.float64(2.8725243456998077)), [np.float64(0.1194450951905054), np.float64(0.7888311103332728)]], 30: [(np.float64(22.907480572754835), np.float64(3.0325741408665436)), [np.float64(0.18657169448534502), np.float64(0.899489105348773)]]}, 95: {43: [(np.float64(4.818034575361956), np.float64(0.5482203410724145)), [np.float64(0.05776542028740088), np.float64(0.7311915512709625)]], 41: [(np.float64(5.36979846139704), np.float64(0.837021094801537)), [np.float64(0.05723147621098595), np.float64(0.7468073003964578)]], 40: [(np.float64(5.321066149346535), np.float64(0.8423211831942846)), [np.float64(0.07962151481571783), np.float64(0.7787819179629613)]], 42: [(np.float64(4.749542618749143), np.float64(0.5489750603741927)), [np.float64(0.06324665801251317), np.float64(0.7452709625309586)]], 44: [(np.float64(4.455530551270382), np.float64(0.3991033589663862)), [np.float64(0.06508265386070204), np.float64(0.755295887740486)]]}, 102: {34: [(np.float64(50.28718451719409), np.float64(2.958172325852056)), [np.float64(0.17896578433303303), np.float64(0.8967628084288464)]], 32: [(np.float64(46.488842838473275), np.float64(2.937154617800474)), [np.float64(0.1850825603832809), np.float64(0.8993660473167626)]], 31: [(np.float64(45.72980198162136), np.float64(2.9477563754766125)), [np.float64(0.18669754027429403), np.float64(0.8974648960596213)]], 33: [(np.float64(52.47407240463993), np.float64(3.0010433814565265)), [np.float64(0.1946288272633483), np.float64(0.9209926781200103)]], 35: [(np.float64(42.89815204120904), np.float64(2.8446983066345872)), [np.float64(0.17691801000621013), np.float64(0.8961740852408966)]], 36: [(np.float64(39.87364707864524), np.float64(2.76672971134754)), [np.float64(0.19676122887361497), np.float64(0.9239161309050371)]], 30: [(np.float64(45.665994288625456), np.float64(2.972508315032937)), [np.float64(0.20349592211710313), np.float64(0.9378216034691461)]]}, 107: {43: [(np.float64(9.226013411483946), np.float64(1.7364865410181294)), [np.float64(0.13570293770885433), np.float64(0.8479526441619769)]], 41: [(np.float64(9.302819893261784), np.float64(1.8504956235339813)), [np.float64(0.14133595339821683), np.float64(0.8437426328888404)]], 40: [(np.float64(10.269972823543762), np.float64(2.188052995883622)), [np.float64(0.12145291134036808), np.float64(0.7943169740128281)]], 42: [(np.float64(8.984537896649641), np.float64(1.7167744540190275)), [np.float64(0.15644654720781379), np.float64(0.8730763729493884)]], 44: [(np.float64(9.43728159453486), np.float64(1.7817879747457925)), [np.float64(0.1359527471614413), np.float64(0.8517931974071447)]]}, 119: {41: [(np.float64(5.588967324411868), np.float64(0.9032307018362922)), [np.float64(0.09003587724345131), np.float64(0.7764574268049991)]], 40: [(np.float64(5.416172901909312), np.float64(0.848157090204903)), [np.float64(0.10678759334811079), np.float64(0.7690578063400644)]], 42: [(np.float64(4.939586321040598), np.float64(0.6023078889783244)), [np.float64(0.0830327831852253), np.float64(0.7561368846368886)]], 43: [(np.float64(4.610202641176657), np.float64(0.4606360392991216)), [np.float64(0.07702532288806893), np.float64(0.7359432227947945)]], 44: [(np.float64(5.8804897543191395), np.float64(0.9348009705658711)), [np.float64(0.10156765749657704), np.float64(0.7848850276088937)]]}, 131: {41: [(np.float64(41.96844607248463), np.float64(2.4047014870394685)), [np.float64(0.03237259334506206), np.float64(0.5996023173940666)]], 40: [(np.float64(24.032718296359988), np.float64(1.9152846202371052)), [np.float64(0.044117858951414124), np.float64(0.5932746794190482)]], 42: [(np.float64(44.5070423222433), np.float64(2.4591854796486596)), [np.float64(0.038363617875499974), np.float64(0.6297854229365576)]], 43: [(np.float64(51.93871805121345), np.float64(2.564760902104185)), [np.float64(0.04036019325524305), np.float64(0.6321586949521936)]], 44: [(np.float64(46.21306824060961), np.float64(2.460731253743401)), [np.float64(0.05091435896721447), np.float64(0.661226680066295)]]}, 138: {34: [(np.float64(86.67536735054323), np.float64(2.699226531174585)), [np.float64(0.03961865514061582), np.float64(0.676613975123039)]], 32: [(np.float64(83.34591716437642), np.float64(2.695985819803539)), [np.float64(0.045568066476017556), np.float64(0.6946701073715142)]], 31: [(np.float64(61.34950062447536), np.float64(2.564421751591709)), [np.float64(0.070236557992618), np.float64(0.7153925185351668)]], 33: [(np.float64(91.76527495684888), np.float64(2.7282168045104074)), [np.float64(0.04332681252861569), np.float64(0.6852413727062471)]], 35: [(np.float64(85.38119866282435), np.float64(2.687448849877575)), [np.float64(0.04942994804769961), np.float64(0.6922668997604997)]], 36: [(np.float64(76.28559016224973), np.float64(2.6248187443562534)), [np.float64(0.09668845345109672), np.float64(0.772124609801567)]], 30: [(np.float64(74.14352229939855), np.float64(2.6531810715443496)), [np.float64(0.10764518964327122), np.float64(0.787485434023053)]]}, 150: {34: [(np.float64(79.82033819686444), np.float64(2.7969604755825257)), [np.float64(0.0537825404144748), np.float64(0.6959941192510679)]], 32: [(np.float64(63.84130323098088), np.float64(2.6952603347860498)), [np.float64(0.0710446596804046), np.float64(0.7274185715464284)]], 31: [(np.float64(63.20997642077049), np.float64(2.6943846872155715)), [np.float64(0.06557670658200265), np.float64(0.6915902976202946)]], 33: [(np.float64(65.84829143299223), np.float64(2.702052512708652)), [np.float64(0.06682631167797601), np.float64(0.7145179991811992)]], 35: [(np.float64(62.553029753944884), np.float64(2.6448550675327716)), [np.float64(0.04950423009539989), np.float64(0.6847399833297514)]], 36: [(np.float64(82.37078218231176), np.float64(2.7999858302549407)), [np.float64(0.04640524171543303), np.float64(0.6599359481262677)]], 30: [(np.float64(89.8680190603142), np.float64(2.8849545129805847)), [np.float64(0.055445498876149434), np.float64(0.7160245757327572)]]}, 155: {41: [(np.float64(58.68584991852074), np.float64(2.690681481612565)), [np.float64(0.02210095436538634), np.float64(0.6054133645682097)]], 40: [(np.float64(30.011855553168893), np.float64(2.1824574940652446)), [np.float64(0.02616963198106568), np.float64(0.513549335349129)]], 42: [(np.float64(43.3746403708537), np.float64(2.479760304410722)), [np.float64(0.033362056053465705), np.float64(0.5743849768841477)]], 43: [(np.float64(34.21106909856834), np.float64(2.2242590332015615)), [np.float64(0.025959992684651), np.float64(0.6085539584537565)]], 44: [(np.float64(33.52746233882583), np.float64(2.2323622637810945)), [np.float64(0.018248647768659608), np.float64(0.5458496992141975)]]}, 162: {34: [(np.float64(62.81542372663028), np.float64(2.5229995872312636)), [np.float64(0.11458812058810808), np.float64(0.8016523553340639)]], 32: [(np.float64(71.27602287805146), np.float64(2.597964332861897)), [np.float64(0.06865312777982951), np.float64(0.7176901012487775)]], 31: [(np.float64(62.168653219212395), np.float64(2.540839642820087)), [np.float64(0.07232724161007066), np.float64(0.7024994615177743)]], 33: [(np.float64(73.39557797944087), np.float64(2.6066132908913087)), [np.float64(0.08727779866396454), np.float64(0.74300880430431)]], 35: [(np.float64(69.67740965031564), np.float64(2.5640093203695593)), [np.float64(0.06506158702579631), np.float64(0.7009762882586539)]], 36: [(np.float64(87.5129525125775), np.float64(2.6687973857216583)), [np.float64(0.041192029191632146), np.float64(0.6108684810124944)]], 30: [(np.float64(68.03280258575406), np.float64(2.604118448165482)), [np.float64(0.15858162103028514), np.float64(0.8661872271491265)]]}, 167: {41: [(np.float64(35.870444522720625), np.float64(2.181788635812717)), [np.float64(0.01674559866652737), np.float64(0.6031685683713474)]], 40: [(np.float64(32.79192262568175), np.float64(2.137720769857818)), [np.float64(0.015098123847901742), np.float64(0.5032947572928832)]], 42: [(np.float64(33.894671941673195), np.float64(2.142785165008005)), [np.float64(0.024891959068977496), np.float64(0.6043429109000668)]], 43: [(np.float64(20.08442446008776), np.float64(1.5378545682518636)), [np.float64(0.016902770631763587), np.float64(0.5996915491037619)]], 44: [(np.float64(48.13628275466621), np.float64(2.4238620531335875)), [np.float64(0.016476073514274114), np.float64(0.5767952668758122)]]}, 174: {34: [(np.float64(34.57464776216366), np.float64(2.219559287680644)), [np.float64(0.03323393192853668), np.float64(0.571601705077091)]], 32: [(np.float64(46.21674022641308), np.float64(2.4718398870034535)), [np.float64(0.06766564869757649), np.float64(0.6651271915460436)]], 31: [(np.float64(41.42249484394698), np.float64(2.406705023719143)), [np.float64(0.021368648982548134), np.float64(0.5398408097306194)]], 33: [(np.float64(48.862293809287316), np.float64(2.499103402215044)), [np.float64(0.06452515086658768), np.float64(0.6442423299801653)]], 35: [(np.float64(39.23416032103297), np.float64(2.3217479367876557)), [np.float64(0.029677073302523813), np.float64(0.5543287898028522)]], 36: [(np.float64(33.85309733252088), np.float64(2.2318703595768685)), [np.float64(0.058353143945757344), np.float64(0.6240782878217115)]], 30: [(np.float64(50.4268262844248), np.float64(2.5368727854111586)), [np.float64(0.050128333624724235), np.float64(0.6389019411453014)]]}, 179: {43: [(np.float64(9.422527163291615), np.float64(0.8807935049056287)), [np.float64(0.007157089240271265), np.float64(0.41676083661442853)]], 41: [(np.float64(11.251995493410533), np.float64(1.1311942044517684)), [np.float64(0.010318890705049414), np.float64(0.46709551518110276)]], 40: [(np.float64(9.401087614611773), np.float64(0.9750338042229401)), [np.float64(0.0038387899982706545), np.float64(0.4054080612134702)]], 42: [(np.float64(11.304628344084165), np.float64(1.1438988019769742)), [np.float64(0.01621820385040506), np.float64(0.48982843801757825)]], 44: [(np.float64(13.045707448671015), np.float64(1.3007425031211792)), [np.float64(0.0055225546297676354), np.float64(0.4022325881573039)]]}, 186: {34: [(np.float64(38.790521939170866), np.float64(2.233730606170693)), [np.float64(0.004929871366986929), np.float64(0.454632192460325)]], 32: [(np.float64(25.016622945100057), np.float64(1.9454701010346271)), [np.float64(0.007225855343469848), np.float64(0.4473100772346762)]], 31: [(np.float64(42.53630018543501), np.float64(2.3242970748150524)), [np.float64(0.001962639345282124), np.float64(0.43010519258709295)]], 33: [(np.float64(38.92944215057582), np.float64(2.2473711495558)), [np.float64(0.004947353134061865), np.float64(0.4509723875796227)]], 35: [(np.float64(27.643414403664977), np.float64(1.9754224796873123)), [np.float64(0.008309354209003722), np.float64(0.46715534921146457)]], 36: [(np.float64(39.95419474039716), np.float64(2.233155239458814)), [np.float64(0.0030088988310930237), np.float64(0.4440962183140236)]], 30: [(np.float64(49.68662120515595), np.float64(2.4146291920867826)), [np.float64(0.0003355322765662724), np.float64(0.403729966944626)]]}, 191: {43: [(np.float64(2.566510894868133), np.float64(0.04977888129168003)), [np.float64(0.007524669915173311), np.float64(0.3513572201218769)]], 41: [(np.float64(1.6695789761119029), np.float64(0.0054490081533567795)), [np.float64(0.004695757245438357), np.float64(0.34059906320615785)]], 40: [(np.float64(5.8474124335965225), np.float64(0.5752567564937489)), [np.float64(0.003937854731433621), np.float64(0.3332456752320363)]], 42: [(np.float64(1.8065169891120856), np.float64(0.008827627555610375)), [np.float64(0.0036273834821521625), np.float64(0.3367080329347201)]], 44: [(np.float64(0.559933714806088), np.float64(4.228289110981108e-09)), [np.float64(0.004030055894467897), np.float64(0.32871322541465514)]]}, 198: {34: [(np.float64(16.402270892893235), np.float64(1.7813148070626952)), [np.float64(0.008168333742787212), np.float64(0.39540441808348414)]], 32: [(np.float64(26.01347759854212), np.float64(2.296388025433922)), [np.float64(0.006404027993344362), np.float64(0.41184834954731175)]], 31: [(np.float64(34.121388832155226), np.float64(2.5367273678800126)), [np.float64(0.004693181473670424), np.float64(0.39844674047074563)]], 33: [(np.float64(19.143032003888813), np.float64(1.9739996196869156)), [np.float64(0.005977955425123279), np.float64(0.41090926073921036)]], 35: [(np.float64(34.72077328808629), np.float64(2.4882880978525255)), [np.float64(0.008457110328205442), np.float64(0.41117864560369055)]], 36: [(np.float64(24.785221597951757), np.float64(2.183659238057174)), [np.float64(0.011696230410240684), np.float64(0.3823697182180972)]], 30: [(np.float64(28.09181757730657), np.float64(2.3953414230397745)), [np.float64(0.004965287067024097), np.float64(0.43700998318557266)]]}, 203: {43: [(np.float64(3.6079472545480935), np.float64(0.2094980012792976)), [np.float64(0.00705034332435719), np.float64(0.3047984922222901)]], 41: [(np.float64(5.443863541998305), np.float64(0.5811532479821968)), [np.float64(0.0065210220427598066), np.float64(0.29510811247027324)]], 40: [(np.float64(7.506562988366472), np.float64(0.9684927369625219)), [np.float64(0.005521334264909367), np.float64(0.29952136782825745)]], 42: [(np.float64(4.588544383626044), np.float64(0.39973180632995775)), [np.float64(0.006836163103651961), np.float64(0.2993120920862008)]], 44: [(np.float64(4.505136340656156), np.float64(0.34309643412548757)), [np.float64(0.00841939187242623), np.float64(0.3174312200758348)]]}, 210: {34: [(np.float64(11.701848414326802), np.float64(1.6412293215404856)), [np.float64(0.007400044136430144), np.float64(0.27950786469330957)]], 32: [(np.float64(13.126399032644624), np.float64(1.8486042018205666)), [np.float64(0.006263957837418327), np.float64(0.2616256123882648)]], 31: [(np.float64(14.167898658673105), np.float64(1.947207048851083)), [np.float64(0.005291832763693279), np.float64(0.28650532831403824)]], 33: [(np.float64(13.489119232033685), np.float64(1.8653319926430636)), [np.float64(0.0052185993856138976), np.float64(0.2818298108236057)]], 35: [(np.float64(12.905243047889325), np.float64(1.7579836123611545)), [np.float64(0.010023126401144972), np.float64(0.31929765302330226)]], 36: [(np.float64(5.438628719354508), np.float64(0.6296766013972849)), [np.float64(0.039091411431753625), np.float64(0.35744247146553265)]], 30: [(np.float64(9.217604619589665), np.float64(1.438129763627402)), [np.float64(0.0037366274255038055), np.float64(0.2679328581446462)]]}, 215: {43: [(np.float64(4.590713397388675), np.float64(0.39882257981285113)), [np.float64(0.008520073743901015), np.float64(0.3176795435629337)]], 41: [(np.float64(11.457159838294944), np.float64(1.7097169554320815)), [np.float64(0.006892961402569985), np.float64(0.3188744195105221)]], 40: [(np.float64(7.742231095368165), np.float64(1.1421659344197685)), [np.float64(0.004066217591376247), np.float64(0.31890449861296677)]], 42: [(np.float64(6.7919351141667015), np.float64(0.8905829539086768)), [np.float64(0.009313704624395404), np.float64(0.3198406536173766)]], 44: [(np.float64(7.081726903739269), np.float64(0.8920069214257786)), [np.float64(0.00601181618209312), np.float64(0.3131765822140713)]]}, 222: {34: [(np.float64(2.005912979851981), np.float64(0.025344339960608434)), [np.float64(0.011636373450201954), np.float64(0.2728255800760658)]], 32: [(np.float64(5.003172964241283), np.float64(0.6161490693537016)), [np.float64(0.008252173435358558), np.float64(0.2830548533722957)]], 31: [(np.float64(5.253003470921063), np.float64(0.6850853267966547)), [np.float64(0.0063095335417526505), np.float64(0.28375285584602034)]], 33: [(np.float64(3.060556685203268), np.float64(0.16315535672791265)), [np.float64(0.007700302830035929), np.float64(0.2772581769284568)]], 35: [(np.float64(4.569419520974841), np.float64(0.4702860650621465)), [np.float64(0.00978359001946385), np.float64(0.27834460061720334)]], 36: [(np.float64(2.501941071370237), np.float64(0.0686420436916638)), [np.float64(0.009019049809579469), np.float64(0.264453805687525)]], 30: [(np.float64(6.2270164870798785), np.float64(0.9468497028244969)), [np.float64(0.002745785746042606), np.float64(0.26728357020542715)]]}, 227: {43: [(np.float64(8.262019162343968), np.float64(0.8836227557621571)), [np.float64(0.005383476934738549), np.float64(0.2717487680031323)]], 41: [(np.float64(11.860290205291186), np.float64(1.3265879972103345)), [np.float64(0.004379213562474841), np.float64(0.25877217346881326)]], 40: [(np.float64(10.040002688169915), np.float64(1.1753523297303967)), [np.float64(0.003425493621074831), np.float64(0.26344412787813715)]], 42: [(np.float64(8.753908686727753), np.float64(0.9776266214136907)), [np.float64(0.008695516421068843), np.float64(0.2783065207843624)]], 44: [(np.float64(15.145453462353082), np.float64(1.5077590127824931)), [np.float64(0.009109104412034219), np.float64(0.29615359763783344)]]}, 234: {32: [(np.float64(12.3694236314223), np.float64(1.6108025193020425)), [np.float64(0.007247114491453125), np.float64(0.32578785959552975)]], 31: [(np.float64(16.57481768020622), np.float64(2.0047135267303484)), [np.float64(0.007680490992619754), np.float64(0.3651284342970671)]], 33: [(np.float64(15.019822379205639), np.float64(1.8387065054034586)), [np.float64(0.011235329161616398), np.float64(0.35319089483409777)]], 34: [(np.float64(13.728989080772088), np.float64(1.6988474987041833)), [np.float64(0.008796351559978717), np.float64(0.33612552768542775)]], 35: [(np.float64(22.968563437352554), np.float64(2.3004874411736056)), [np.float64(0.009054578716867689), np.float64(0.37425634288105114)]], 36: [(np.float64(23.830324100205132), np.float64(2.328079552070529)), [np.float64(0.008792942337461699), np.float64(0.3662270234825592)]], 30: [(np.float64(18.138782749800015), np.float64(2.1488429456264257)), [np.float64(0.007760569819169903), np.float64(0.33906395164820996)]]}, 239: {41: [(np.float64(10.073020764694972), np.float64(1.5084822451645805)), [np.float64(0.004803909105416354), np.float64(0.30643094754984723)]], 40: [(np.float64(7.583044302024588), np.float64(1.095778279600502)), [np.float64(0.004910165979943478), np.float64(0.32482863672547363)]], 42: [(np.float64(6.9553490265754805), np.float64(0.922784427468849)), [np.float64(0.008804929562487164), np.float64(0.31221644921568725)]], 43: [(np.float64(5.4665067680100075), np.float64(0.5784412222210596)), [np.float64(0.00786676502766474), np.float64(0.3214239664936508)]], 44: [(np.float64(2.9637821463348044), np.float64(0.08679028679718831)), [np.float64(0.016144992016380005), np.float64(0.34567991140031157)]]}, 246: {32: [(np.float64(39.48097879805788), np.float64(2.3359519043777417)), [np.float64(0.017677030680940783), np.float64(0.4241797780293697)]], 31: [(np.float64(37.011133512548625), np.float64(2.3084277877062145)), [np.float64(0.012204229954702503), np.float64(0.4345572220936349)]], 33: [(np.float64(47.90532970165744), np.float64(2.4295034600019747)), [np.float64(0.01964078167831242), np.float64(0.42953203801236217)]], 34: [(np.float64(50.57023458403013), np.float64(2.4469783125155833)), [np.float64(0.03534911461648449), np.float64(0.47392986933505676)]], 35: [(np.float64(54.15859497624611), np.float64(2.471005920171801)), [np.float64(0.029902124838912705), np.float64(0.49481408415632755)]], 36: [(np.float64(32.19885573514966), np.float64(2.1540820854984486)), [np.float64(0.010773612214457844), np.float64(0.44511433052189336)]], 30: [(np.float64(38.81483917911298), np.float64(2.348716763405527)), [np.float64(0.004963382485594018), np.float64(0.3911500995732318)]]}, 251: {41: [(np.float64(7.412184397826551), np.float64(0.8026002646781603)), [np.float64(0.020950573242968538), np.float64(0.3858770476892621)]], 40: [(np.float64(12.314943510594654), np.float64(1.4158774766190985)), [np.float64(0.007173282495044009), np.float64(0.3504203347064298)]], 42: [(np.float64(10.769035450186635), np.float64(1.259213350216749)), [np.float64(0.016460669466689573), np.float64(0.36155778603954236)]], 43: [(np.float64(7.607652624343392), np.float64(0.8128580240488613)), [np.float64(0.022496674177714834), np.float64(0.3759365994736787)]], 44: [(np.float64(7.637674083575082), np.float64(0.7382867338381626)), [np.float64(0.030461255358449586), np.float64(0.40477038382907465)]]}, 258: {34: [(np.float64(19.68181406342949), np.float64(2.0462912406727534)), [np.float64(0.011783371152291812), np.float64(0.4921243894733518)]], 32: [(np.float64(20.473066573333757), np.float64(2.119160696541662)), [np.float64(0.009357524537407918), np.float64(0.46388879594831905)]], 31: [(np.float64(25.41655533415612), np.float64(2.3884075089798653)), [np.float64(0.007407456821188891), np.float64(0.468641927769157)]], 33: [(np.float64(24.94589730343138), np.float64(2.3415894339524073)), [np.float64(0.009791226793774945), np.float64(0.4710098382795242)]], 35: [(np.float64(24.91425806135536), np.float64(2.289184982580364)), [np.float64(0.019434299542198205), np.float64(0.52173635059453)]], 30: [(np.float64(23.74940566518843), np.float64(2.2273880957696637)), [np.float64(0.005331381142108961), np.float64(0.4209430203725166)]]}, 270: {32: [(np.float64(17.899674979065512), np.float64(2.2213185338125685)), [np.float64(0.02740497005868998), np.float64(0.5017781030649842)]], 31: [(np.float64(22.805880057283296), np.float64(2.5571262760376126)), [np.float64(0.021333972035256783), np.float64(0.489952309472999)]], 33: [(np.float64(18.591808484771427), np.float64(2.324373520113742)), [np.float64(0.025731498120309164), np.float64(0.5001377432188475)]], 34: [(np.float64(17.80444814714518), np.float64(2.216998096566431)), [np.float64(0.03975524515629846), np.float64(0.523570763103781)]], 35: [(np.float64(16.843747913798033), np.float64(2.1007473990605434)), [np.float64(0.03802024810206347), np.float64(0.5456801655321347)]], 36: [(np.float64(23.97319273520392), np.float64(2.6651458744483)), [np.float64(0.015116048746202062), np.float64(0.5183306426170893)]], 30: [(np.float64(12.755702769579788), np.float64(1.4828016521266214)), [np.float64(0.011057271390746084), np.float64(0.5093337040571523)]]}, 275: {43: [(np.float64(9.240521439980373), np.float64(1.3704255359599689)), [np.float64(0.06359880229228973), np.float64(0.6484217009040654)]], 41: [(np.float64(16.04287691762506), np.float64(2.5836454672433877)), [np.float64(0.03515451726408414), np.float64(0.634370022058251)]], 40: [(np.float64(14.177607374056075), np.float64(2.2826513907314396)), [np.float64(0.010896677102268954), np.float64(0.7327244307242385)]], 42: [(np.float64(6.764249930653083), np.float64(0.8279124962429179)), [np.float64(0.039350195878738996), np.float64(0.5782057693108842)]], 44: [(np.float64(7.942848555689944), np.float64(1.0536733579555244)), [np.float64(0.05021188432675511), np.float64(0.6177441681820305)]]}, 282: {32: [(np.float64(14.30438649265526), np.float64(2.4271717411528706)), [np.float64(0.05925417534544182), np.float64(0.6599434466251536)]], 31: [(np.float64(21.870066593529206), np.float64(3.338903993039405)), [np.float64(0.03458632741413856), np.float64(0.7324976425590006)]], 33: [(np.float64(13.625455770702766), np.float64(2.258236053628841)), [np.float64(0.06798620830499477), np.float64(0.6920967329156256)]], 34: [(np.float64(16.816956376421746), np.float64(2.7080323796102403)), [np.float64(0.09198997194323817), np.float64(0.7590334491941524)]], 35: [(np.float64(12.895765930209791), np.float64(2.122032960593631)), [np.float64(0.06584157339537203), np.float64(0.6593262987942751)]], 36: [(np.float64(23.99741986571841), np.float64(3.444606392779309)), [np.float64(0.03682872011642121), np.float64(0.7792670337399209)]], 30: [(np.float64(14.874124454232074), np.float64(2.5162367169005764)), [np.float64(0.03637307663601116), np.float64(0.6365843748102618)]]}, 287: {41: [(np.float64(23.085081550314186), np.float64(3.736287693963704)), [np.float64(0.04631878822826183), np.float64(0.7463970830148816)]], 40: [(np.float64(19.663669908750315), np.float64(3.3145620784242484)), [np.float64(0.02348981173155956), np.float64(0.750756623773952)]], 42: [(np.float64(12.479109704394759), np.float64(2.2144457441948715)), [np.float64(0.06725859070063393), np.float64(0.7366361911987548)]], 43: [(np.float64(13.146616343897055), np.float64(2.299405496273247)), [np.float64(0.05352527880861866), np.float64(0.7263380058560718)]], 44: [(np.float64(13.000731262684768), np.float64(2.2507065672049547)), [np.float64(0.036428654846499424), np.float64(0.6676806398974711)]]}, 294: {32: [(np.float64(12.272491736147442), np.float64(2.1268975884183954)), [np.float64(0.08232783175345092), np.float64(0.74564400845755)]], 31: [(np.float64(14.44640361035491), np.float64(2.48575962434527)), [np.float64(0.051472418360293704), np.float64(0.6659834784367137)]], 33: [(np.float64(15.695458713381814), np.float64(2.682623872901974)), [np.float64(0.08793889223554664), np.float64(0.7117122175433441)]], 35: [(np.float64(16.7432289379294), np.float64(2.718303919751023)), [np.float64(0.09704861603707171), np.float64(0.7977571499413828)]], 34: [(np.float64(6.7726609709123675), np.float64(0.8471175592355173)), [np.float64(0.07689922879116508), np.float64(0.6967047577977188)]]}, 299: {41: [(np.float64(16.310690135910416), np.float64(2.871932449730617)), [np.float64(0.04784194359006958), np.float64(0.7205820814629484)]], 40: [(np.float64(10.473400164587927), np.float64(1.753461310152261)), [np.float64(0.029512317557953846), np.float64(0.6584402454903974)]], 42: [(np.float64(22.52635470592096), np.float64(3.748653166770893)), [np.float64(0.005453115344572088), np.float64(0.5599180048567249)]]}, 306: {32: [(np.float64(21.928460394252614), np.float64(3.3161570156932956)), [np.float64(0.09791979274765282), np.float64(0.7659797513959099)]], 33: [(np.float64(17.023219500400167), np.float64(2.7817031383563307)), [np.float64(0.09230426994187903), np.float64(0.7359830206928274)]], 35: [(np.float64(12.336521536413223), np.float64(2.004763672845232)), [np.float64(0.09230035010874171), np.float64(0.739765042484758)]], 31: [(np.float64(17.09755201327888), np.float64(2.8225995489738045)), [np.float64(0.08214405448239963), np.float64(0.7575122484481457)]], 34: [(np.float64(22.430819528227577), np.float64(3.2979763853928006)), [np.float64(0.08097634040764112), np.float64(0.7663560602162074)]]}, 311: {41: [(np.float64(17.882967259283273), np.float64(2.7366509395318044)), [np.float64(0.04428009842572231), np.float64(0.7012413929736225)]], 40: [(np.float64(0.6078091877142288), np.float64(-5.477860886402694e-09)), [np.float64(0.02849577396645019), np.float64(0.6506857796029919)]], 42: [(nan, nan), [np.float64(0.008465036338799692), np.float64(0.676282354432528)]]}, 318: {34: [(np.float64(17.810099323483822), np.float64(3.8678744920669357)), [np.float64(0.0519033103299649), np.float64(0.7529462845484445)]], 32: [(np.float64(19.842145571723137), np.float64(4.312820112288069)), [np.float64(0.05441405493435957), np.float64(0.7629767059254573)]], 33: [(np.float64(16.770504917075257), np.float64(3.7183556917832186)), [np.float64(0.05686895899078986), np.float64(0.7615757443142801)]], 35: [(np.float64(16.012768402008835), np.float64(3.459654637293198)), [np.float64(0.04679315248216285), np.float64(0.7513864384828665)]], 31: [(np.float64(15.664099312770741), np.float64(3.538114317073388)), [np.float64(0.04309401392268317), np.float64(0.7668286592647799)]], 36: [(np.float64(11.510291166474643), np.float64(2.3445213046739806)), [np.float64(0.0745595074188948), np.float64(0.77765585349358)]], 30: [(np.float64(21.62765494127031), np.float64(4.773796655148721)), [np.float64(0.028819483318652337), np.float64(0.7159000322188314)]]}, 323: {41: [(np.float64(19.36626600851823), np.float64(3.890182703471978)), [np.float64(0.034174092936818154), np.float64(0.7353286647873469)]], 42: [(np.float64(12.829802294367735), np.float64(2.5907669495340726)), [np.float64(0.048119306364861364), np.float64(0.7365517949741397)]], 44: [(np.float64(6.298301206389153), np.float64(0.7050409257656216)), [np.float64(0.04394111018459605), np.float64(0.7179561754050007)]], 40: [(np.float64(18.929317420611238), np.float64(3.800106085470768)), [np.float64(0.027599275070235935), np.float64(0.744004449156992)]], 43: [(np.float64(13.146708824732654), np.float64(2.621900529592168)), [np.float64(0.043826087934830935), np.float64(0.7334241249538604)]]}, 330: {32: [(np.float64(18.27500496185135), np.float64(3.789444252431563)), [np.float64(0.05774873128647937), np.float64(0.747551052563592)]], 31: [(np.float64(21.028951281775512), np.float64(4.245710220630441)), [np.float64(0.04589395919261045), np.float64(0.7734330289059964)]], 33: [(np.float64(13.86579768194728), np.float64(2.8975538378167247)), [np.float64(0.0612475091245858), np.float64(0.7526003669714243)]], 34: [(np.float64(15.358916211755778), np.float64(3.1655657955472583)), [np.float64(0.05664292752829948), np.float64(0.7470879873416636)]], 35: [(np.float64(18.610839710839063), np.float64(3.6922608913833845)), [np.float64(0.048060742781429404), np.float64(0.7609196221283501)]], 36: [(np.float64(15.486673911439249), np.float64(3.1145111827928162)), [np.float64(0.059176798113107734), np.float64(0.7561345812877499)]], 30: [(np.float64(56.528388819242466), np.float64(6.839435155298547)), [np.float64(0.02037610262019608), np.float64(0.946383757407002)]]}, 335: {41: [(np.float64(17.72485645761462), np.float64(3.71731379769519)), [np.float64(0.028584109753624038), np.float64(0.7378076538571204)]], 40: [(np.float64(15.839509897948858), np.float64(3.3079621696401813)), [np.float64(0.020213093708658265), np.float64(0.6862057052008194)]], 42: [(np.float64(14.395989193103802), np.float64(3.0353896108182603)), [np.float64(0.04869211676974434), np.float64(0.7606475754468308)]], 43: [(np.float64(13.867496508135535), np.float64(2.8792750767451287)), [np.float64(0.041101121237103), np.float64(0.7375321941221796)]], 44: [(np.float64(13.70667436360503), np.float64(2.8210590770043056)), [np.float64(0.04588493991963316), np.float64(0.7236449207374421)]]}, 342: {34: [(np.float64(25.189988341883314), np.float64(4.150961114715217)), [np.float64(0.04537135381283507), np.float64(0.7377469548824188)]], 31: [(np.float64(28.794346238575354), np.float64(4.429193101843668)), [np.float64(0.029302860566362138), np.float64(0.925695371554044)]], 33: [(np.float64(39.72666899706173), np.float64(5.222796240286024)), [np.float64(0.043879826844289524), np.float64(0.7780459419686794)]], 32: [(np.float64(34.05014416544532), np.float64(4.955048167588438)), [np.float64(0.043234240007857805), np.float64(0.7598934575733969)]], 30: [(np.float64(40.37057835728333), np.float64(5.288700627390605)), [np.float64(0.02824783854432407), np.float64(0.8196306444832032)]], 35: [(np.float64(25.841632007570382), np.float64(4.225343156020952)), [np.float64(0.03562376825556497), np.float64(0.7236870214277431)]]}, 347: {43: [(np.float64(11.629317480750794), np.float64(2.2694526609543595)), [np.float64(0.06692021401797564), np.float64(0.7588318095598006)]], 41: [(np.float64(19.624177639455496), np.float64(3.8856347293883635)), [np.float64(0.046266296059942494), np.float64(0.7585790391518695)]], 42: [(np.float64(12.129288712693857), np.float64(2.4197374297340084)), [np.float64(0.05688062472297533), np.float64(0.7431448450144655)]], 40: [(np.float64(18.281629621603386), np.float64(3.6456179209568447)), [np.float64(0.03940097103298385), np.float64(0.8156299992738076)]]}, 354: {34: [(np.float64(14.03376682435187), np.float64(3.2070530177107224)), [np.float64(0.060436478947691885), np.float64(0.7518169088331375)]], 32: [(np.float64(16.091961911875064), np.float64(3.7746822208607416)), [np.float64(0.058999460848710966), np.float64(0.763936369918971)]], 31: [(np.float64(15.387784847767419), np.float64(3.6155775810065793)), [np.float64(0.05840369449271803), np.float64(0.7724623899656226)]], 33: [(np.float64(14.50477398732146), np.float64(3.366407144425567)), [np.float64(0.0595491663206225), np.float64(0.7498654922406451)]], 35: [(np.float64(14.779649983362013), np.float64(3.274841254632678)), [np.float64(0.05196048758637964), np.float64(0.7495283002851426)]], 30: [(np.float64(13.770319896696611), np.float64(3.3137549009897054)), [np.float64(0.05561792786025697), np.float64(0.7495292089801866)]]}, 359: {40: [(np.float64(9.112993740691579), np.float64(2.087315745714141)), [np.float64(0.039539586511037575), np.float64(0.7391408377772178)]], 42: [(np.float64(9.896446782105718), np.float64(2.3528197257137244)), [np.float64(0.04624353775818487), np.float64(0.7429463719569432)]], 43: [(np.float64(7.853973673786516), np.float64(1.5086323912908466)), [np.float64(0.03653029618490589), np.float64(0.7097318997738461)]], 41: [(np.float64(15.12286008063978), np.float64(4.17470783657793)), [np.float64(0.028314632921716754), np.float64(0.7403191310964465)]]}}, 5: {6: {32: [(np.float64(10.811176210823769), np.float64(2.473680015314605)), [np.float64(0.0981769050824884), np.float64(0.8045422141457511)]], 31: [(np.float64(9.458030006817237), np.float64(2.0829132897081752)), [np.float64(0.08231126090657478), np.float64(0.7749002537246614)]], 33: [(np.float64(10.990045694470055), np.float64(2.4653193306742103)), [np.float64(0.0732897305705428), np.float64(0.7750296146953537)]], 35: [(np.float64(10.311692232093172), np.float64(2.199087399012631)), [np.float64(0.08216405753769687), np.float64(0.7853595533953184)]], 34: [(np.float64(12.217504609865934), np.float64(2.7858652411620346)), [np.float64(0.07839426225936236), np.float64(0.7800918150622888)]], 30: [(nan, nan), [np.float64(0.09410012497179922), np.float64(0.7964937070423194)]]}, 11: {41: [(np.float64(9.427025529234868), np.float64(2.142324363561848)), [np.float64(0.04055993562974549), np.float64(0.7365011939109832)]], 42: [(np.float64(10.617025643726054), np.float64(2.5534049396070793)), [np.float64(0.03934040979310495), np.float64(0.7375442981651139)]], 43: [(np.float64(8.691429260240968), np.float64(1.8102531870345433)), [np.float64(0.038165342155273334), np.float64(0.729747753359297)]], 40: [(np.float64(10.502949126132078), np.float64(2.6079385840428384)), [np.float64(0.041308825059595954), np.float64(0.7364751562815011)]]}, 18: {31: [(np.float64(12.161767712149892), np.float64(3.111222953624322)), [np.float64(0.06145724610433554), np.float64(0.7995942876041213)]], 32: [(np.float64(12.98764571694243), np.float64(3.4057760611916206)), [np.float64(0.03845500622069776), np.float64(0.7327140341471258)]], 30: [(np.float64(30.610602774134044), np.float64(6.631135080645895)), [np.float64(0.0458284671414365), np.float64(0.9389051330589531)]], 34: [(np.float64(11.190964705666996), np.float64(2.6984932640344357)), [np.float64(0.04386409460958074), np.float64(0.740988243150798)]]}, 23: {41: [(np.float64(13.684078599410396), np.float64(3.3545470618755817)), [np.float64(0.028638104829300605), np.float64(0.7166152705402246)]], 40: [(np.float64(15.750625557477797), np.float64(4.001770260277329)), [np.float64(0.028336969548160562), np.float64(0.7952127935554086)]], 42: [(np.float64(10.00592723948857), np.float64(2.215691472318235)), [np.float64(0.04213918869473421), np.float64(0.7319781615042552)]]}, 30: {31: [(np.float64(13.901840423281204), np.float64(3.4150966460120555)), [np.float64(0.055012459902006185), np.float64(0.7469813592252031)]], 32: [(np.float64(14.772892318656755), np.float64(3.617172601180229)), [np.float64(0.04049265886555684), np.float64(0.7333461757105272)]], 30: [(np.float64(18.09762350362373), np.float64(4.449445551726372)), [np.float64(0.03465626872890177), np.float64(0.7173131394286231)]], 34: [(np.float64(14.539105786097123), np.float64(3.451327074000942)), [np.float64(0.04318637673928315), np.float64(0.7382381880166948)]]}, 35: {40: [(np.float64(12.348128795635871), np.float64(2.892602986815519)), [np.float64(0.02340478790047175), np.float64(0.6969710424978527)]], 43: [(np.float64(12.121014897209218), np.float64(2.757963685708148)), [np.float64(0.039769601682392255), np.float64(0.7324582410053515)]], 41: [(np.float64(14.688617832392893), np.float64(3.576421176068214)), [np.float64(0.026039149971066145), np.float64(0.724181285810324)]], 42: [(np.float64(11.837440868342632), np.float64(2.724191145834861)), [np.float64(0.03301377862341667), np.float64(0.7246248609824786)]], 44: [(np.float64(10.42762068499592), np.float64(2.159795882922176)), [np.float64(0.05359453178588685), np.float64(0.7526190148683263)]]}, 42: {34: [(np.float64(13.363004687064995), np.float64(3.128953223918746)), [np.float64(0.050776691641485225), np.float64(0.7568310648220736)]], 31: [(np.float64(12.388008667273013), np.float64(2.9977141751894636)), [np.float64(0.05468931976090131), np.float64(0.756979664693646)]], 33: [(np.float64(13.698375314080307), np.float64(3.2768183520284837)), [np.float64(0.048527922554935175), np.float64(0.7450050039569196)]], 32: [(np.float64(13.92297081502336), np.float64(3.3980233774451074)), [np.float64(0.04529432337436423), np.float64(0.7391772323603021)]], 36: [(np.float64(16.016594949343958), np.float64(3.7411443884189226)), [np.float64(0.029485311083878692), np.float64(0.7238412777996126)]], 35: [(np.float64(29.934207221452183), np.float64(5.942709890351271)), [np.float64(0.039200617639653546), np.float64(0.8316465277413705)]], 30: [(np.float64(20.313300814106064), np.float64(4.88462255881743)), [np.float64(0.036265974759947556), np.float64(0.7672514611599768)]]}, 47: {43: [(np.float64(12.744449512330064), np.float64(3.106556553144357)), [np.float64(0.03297991980514475), np.float64(0.7294562830541205)]], 40: [(np.float64(23.363553047981043), np.float64(5.765481418856694)), [np.float64(0.022742984629535248), np.float64(0.7636317632721559)]], 42: [(np.float64(11.42287976792159), np.float64(2.7566539813826125)), [np.float64(0.03026195966207309), np.float64(0.7247446135292803)]], 41: [(np.float64(15.001844024816377), np.float64(3.8629637418136946)), [np.float64(0.022414522011077423), np.float64(0.7325971987351275)]], 44: [(np.float64(17.392279545675276), np.float64(4.268884291152882)), [np.float64(0.03867240285811769), np.float64(0.7703646797423515)]]}, 54: {32: [(np.float64(16.22765658983396), np.float64(3.5613277161884622)), [np.float64(0.05820380742961944), np.float64(0.7537203767109877)]], 31: [(np.float64(16.54042514808827), np.float64(3.6350723672419716)), [np.float64(0.05577737775614807), np.float64(0.7684982498542634)]], 33: [(np.float64(15.498962298718686), np.float64(3.361892017213606)), [np.float64(0.059303564057661975), np.float64(0.7532809151652309)]], 34: [(np.float64(15.225449861624574), np.float64(3.252578477736865)), [np.float64(0.05160222658763446), np.float64(0.7499437960381677)]], 35: [(np.float64(16.251429252673212), np.float64(3.415306617412907)), [np.float64(0.044432583689846414), np.float64(0.732359170120003)]], 36: [(np.float64(20.645684000585266), np.float64(4.2063500501522935)), [np.float64(0.020302648410285073), np.float64(0.710567227937125)]], 30: [(np.float64(33.79516390603889), np.float64(5.893748997737705)), [np.float64(0.031034750067468222), np.float64(0.8764259929916164)]]}, 71: {41: [(np.float64(16.947263644813447), np.float64(3.290119948119622)), [np.float64(0.03686473040628568), np.float64(0.7337462849516302)]], 42: [(np.float64(14.488549845803629), np.float64(2.792164561751031)), [np.float64(0.04284445919999248), np.float64(0.7290181955049468)]], 43: [(np.float64(15.731063412257663), np.float64(2.9750225558374503)), [np.float64(0.05848214032100726), np.float64(0.7491818380833812)]], 40: [(np.float64(25.96543613779167), np.float64(4.480438215186459)), [np.float64(0.03709355291377183), np.float64(0.801997074189906)]]}, 78: {32: [(np.float64(13.112256587645158), np.float64(2.828563221770452)), [np.float64(0.08018219133921406), np.float64(0.7778133537462535)]], 31: [(np.float64(13.782360243717504), np.float64(3.0136022451134035)), [np.float64(0.08292045503562165), np.float64(0.7793952049293492)]], 33: [(np.float64(12.814886238854626), np.float64(2.703553734771678)), [np.float64(0.08437165328125627), np.float64(0.7837122714937361)]], 34: [(np.float64(13.191356151276253), np.float64(2.754164402240025)), [np.float64(0.07067951904995827), np.float64(0.7677415256542103)]], 35: [(np.float64(12.884752929959237), np.float64(2.657940354207765)), [np.float64(0.06502687813673691), np.float64(0.7625083374085412)]], 30: [(np.float64(13.134509485344731), np.float64(2.916560787927076)), [np.float64(0.07603130165337309), np.float64(0.7722835771455667)]]}, 90: {34: [(np.float64(38.07403787138399), np.float64(3.050090358734384)), [np.float64(0.16452673108179638), np.float64(0.8687520553037787)]], 32: [(np.float64(37.47790192559534), np.float64(3.0650369058127835)), [np.float64(0.20339710909321523), np.float64(0.9426225546290072)]], 31: [(np.float64(37.02379308394979), np.float64(3.075434867767978)), [np.float64(0.18407928395566445), np.float64(0.905642403771317)]], 33: [(np.float64(37.148769636967934), np.float64(3.03911462548733)), [np.float64(0.16567921990612583), np.float64(0.8837576909585244)]], 35: [(np.float64(37.54565974841065), np.float64(3.0242786730402624)), [np.float64(0.16232793684000338), np.float64(0.8704470554838466)]], 36: [(np.float64(32.6051884707086), np.float64(2.869967419789694)), [np.float64(0.11053116792496559), np.float64(0.7861254349929755)]], 30: [(np.float64(35.18496359882974), np.float64(3.026417341705691)), [np.float64(0.17587785717518128), np.float64(0.8957060970510836)]]}, 95: {43: [(np.float64(17.616954842504782), np.float64(3.245148105125279)), [np.float64(0.03583455711261857), np.float64(0.7627165829789001)]], 41: [(np.float64(18.181480275151404), np.float64(3.428479454822814)), [np.float64(0.03547436179743292), np.float64(0.7212721859918149)]], 40: [(np.float64(15.430475817321257), np.float64(2.992286620617334)), [np.float64(0.056028174451942504), np.float64(0.7378004540767453)]], 42: [(np.float64(14.83857367962555), np.float64(2.821894117028525)), [np.float64(0.038539098560191457), np.float64(0.7240434370020928)]], 44: [(np.float64(14.330146352484006), np.float64(2.6454222372782987)), [np.float64(0.041197691305285195), np.float64(0.7289914117377171)]]}, 102: {34: [(np.float64(63.70643380963873), np.float64(2.7159562898113)), [np.float64(0.17326694245065802), np.float64(0.8859268862600387)]], 32: [(np.float64(59.214324101093), np.float64(2.7042219698574885)), [np.float64(0.17832790107494825), np.float64(0.8858188498980141)]], 31: [(np.float64(55.63602268252487), np.float64(2.6918493054868056)), [np.float64(0.17984055797405912), np.float64(0.8827307246200278)]], 33: [(np.float64(66.59855724702085), np.float64(2.747254317069781)), [np.float64(0.18795492256087687), np.float64(0.9092466937548023)]], 35: [(np.float64(55.65061216773259), np.float64(2.646072393087335)), [np.float64(0.17108788179915962), np.float64(0.8835335037042561)]], 36: [(np.float64(49.492497946521794), np.float64(2.5700839835119504)), [np.float64(0.18912619798832891), np.float64(0.9106172697755258)]], 30: [(np.float64(56.57775836245888), np.float64(2.713575221816767)), [np.float64(0.19818578363133993), np.float64(0.9269404217549716)]]}, 107: {43: [(np.float64(14.567104480943017), np.float64(2.3009859403372577)), [np.float64(0.12211122338072868), np.float64(0.8175404337823251)]], 41: [(np.float64(15.579694863158611), np.float64(2.5071963104062833)), [np.float64(0.12820333717754193), np.float64(0.8171404987344)]], 40: [(np.float64(10.78028587125558), np.float64(1.7975213085588297)), [np.float64(0.11001059377349715), np.float64(0.7677743126933106)]], 42: [(np.float64(13.99630966629255), np.float64(2.2607657099397294)), [np.float64(0.14277631669685686), np.float64(0.8428306086405879)]], 44: [(np.float64(15.196503134667159), np.float64(2.3748918871245284)), [np.float64(0.12131097877653056), np.float64(0.8207736607230016)]]}, 119: {41: [(np.float64(15.248136531909372), np.float64(2.7644133902016663)), [np.float64(0.06867621310210412), np.float64(0.7553988399946706)]], 40: [(np.float64(12.948836092191627), np.float64(2.4052785788405133)), [np.float64(0.08691079946117374), np.float64(0.7336613940132719)]], 42: [(np.float64(13.408115755411373), np.float64(2.4235900448281513)), [np.float64(0.06077621612074016), np.float64(0.7293631080389746)]], 43: [(np.float64(12.570965257073926), np.float64(2.209198286722432)), [np.float64(0.05362802579974003), np.float64(0.7187226890453692)]], 44: [(np.float64(11.073110199552273), np.float64(1.8759418758271493)), [np.float64(0.07735354230466124), np.float64(0.735417353420893)]]}, 131: {41: [(np.float64(44.30621590624632), np.float64(2.8369949525442744)), [np.float64(0.028598211233792546), np.float64(0.6330488467562466)]], 40: [(np.float64(30.997641418651845), np.float64(2.5178048861159072)), [np.float64(0.040930421386166746), np.float64(0.6472084024316322)]], 42: [(np.float64(58.99497681405676), np.float64(3.071527678336439)), [np.float64(0.03580350717318172), np.float64(0.6436097202714861)]], 43: [(np.float64(29.15499823515618), np.float64(2.39026668263637)), [np.float64(0.041088696075855954), np.float64(0.643585175813162)]], 44: [(np.float64(41.98828463344825), np.float64(2.743187559640213)), [np.float64(0.05260777254514487), np.float64(0.679249824723698)]]}, 138: {34: [(np.float64(51.392697910221344), np.float64(2.7573140010191253)), [np.float64(0.04708195723289865), np.float64(0.6492090887703805)]], 32: [(np.float64(68.85729132175484), np.float64(2.9905761464984497)), [np.float64(0.04798299686952307), np.float64(0.675925258606547)]], 31: [(np.float64(51.84621230732498), np.float64(2.819163040653448)), [np.float64(0.07319359978341214), np.float64(0.6972656988139608)]], 33: [(np.float64(66.10851145041534), np.float64(2.9538808399067276)), [np.float64(0.04779485752263932), np.float64(0.6683585807332986)]], 35: [(np.float64(58.40829081782209), np.float64(2.857573185724421)), [np.float64(0.05545607536339395), np.float64(0.6767828555161471)]], 36: [(np.float64(57.33869314311701), np.float64(2.8258265599188386)), [np.float64(0.09834849696554247), np.float64(0.7866112051381291)]], 30: [(np.float64(55.23609422138455), np.float64(2.860345269999069)), [np.float64(0.11054903086068357), np.float64(0.7967067723263754)]]}, 150: {34: [(np.float64(62.00952078837931), np.float64(2.9559791282722707)), [np.float64(0.05689900775880323), np.float64(0.6852432534639977)]], 32: [(np.float64(51.8140025123961), np.float64(2.850064195599498)), [np.float64(0.07254279526900967), np.float64(0.7287363326342586)]], 31: [(np.float64(53.735408662677216), np.float64(2.8775836961534815)), [np.float64(0.06787633363537922), np.float64(0.6916030996644378)]], 33: [(np.float64(54.69798087342165), np.float64(2.874690671788851)), [np.float64(0.06809331199348191), np.float64(0.7183672783149423)]], 35: [(np.float64(52.851513621339535), np.float64(2.8184415484787033)), [np.float64(0.051462111441410024), np.float64(0.6856843551752959)]], 36: [(np.float64(62.27487527003735), np.float64(2.9418115994125467)), [np.float64(0.05061289447295128), np.float64(0.6339603896717102)]], 30: [(np.float64(74.98619903574166), np.float64(3.1141555013808064)), [np.float64(0.056877221069349906), np.float64(0.7204890798885103)]]}, 155: {41: [(np.float64(42.9167225833377), np.float64(2.7063758786804453)), [np.float64(0.020212945952090246), np.float64(0.6295732783005638)]], 40: [(np.float64(15.717715802952203), np.float64(1.569420885242535)), [np.float64(0.02273426562360874), np.float64(0.5465267481568548)]], 42: [(np.float64(38.85187643286728), np.float64(2.640306604008347)), [np.float64(0.030177451212790963), np.float64(0.6066985199963337)]], 43: [(np.float64(56.9064509465711), np.float64(2.938901069445211)), [np.float64(0.022260470687547353), np.float64(0.6390564032563977)]], 44: [(np.float64(10.0866614133173), np.float64(0.9151191001003528)), [np.float64(0.01815816315864603), np.float64(0.559895146550089)]]}, 162: {34: [(np.float64(53.866977388926315), np.float64(2.689248059162801)), [np.float64(0.11944589087684476), np.float64(0.7904250214426939)]], 32: [(np.float64(59.21913122161986), np.float64(2.765222538866815)), [np.float64(0.0689587157698328), np.float64(0.7252883919191623)]], 31: [(np.float64(53.441166115991955), np.float64(2.713897447636913)), [np.float64(0.07387932241751388), np.float64(0.6894408949320691)]], 33: [(np.float64(52.03046406850777), np.float64(2.676955343798301)), [np.float64(0.08900485245362229), np.float64(0.7457493394872791)]], 35: [(np.float64(53.38960347255601), np.float64(2.6667979392539687)), [np.float64(0.0676151428390604), np.float64(0.6897288725348912)]], 36: [(np.float64(33.35724713808448), np.float64(2.3006050057972818)), [np.float64(0.04573663814413647), np.float64(0.5941348903189855)]], 30: [(np.float64(57.48242007725099), np.float64(2.7825396516325887)), [np.float64(0.1640614669111883), np.float64(0.8728462893795118)]]}, 167: {41: [(np.float64(35.64186973222902), np.float64(2.387299069189361)), [np.float64(0.015218834255986908), np.float64(0.6200864996484531)]], 40: [(np.float64(29.051984584118408), np.float64(2.2385313893811736)), [np.float64(0.012600471215040512), np.float64(0.5364543997601522)]], 42: [(np.float64(35.560810818920416), np.float64(2.4007161482917576)), [np.float64(0.02320871768165537), np.float64(0.6219220111122499)]], 43: [(np.float64(10.305717812940744), np.float64(0.8117484087048249)), [np.float64(0.015218633569388603), np.float64(0.6192982117139829)]], 44: [(np.float64(27.63883883094049), np.float64(2.0896306206825304)), [np.float64(0.014270566958184166), np.float64(0.5926262455286094)]]}, 174: {34: [(np.float64(33.61810553638394), np.float64(2.4006849716410117)), [np.float64(0.03596308390039904), np.float64(0.5820812902752213)]], 32: [(np.float64(37.072007117852316), np.float64(2.526948012091336)), [np.float64(0.07053980814190171), np.float64(0.6629541521570748)]], 31: [(np.float64(36.061177462858), np.float64(2.509740010157729)), [np.float64(0.02360046550992908), np.float64(0.5392327923724618)]], 33: [(np.float64(43.19177924812985), np.float64(2.6327917742465194)), [np.float64(0.0663112283614756), np.float64(0.6356043371897654)]], 35: [(np.float64(27.926197261129925), np.float64(2.2274975765443976)), [np.float64(0.030921521016375776), np.float64(0.556267247995693)]], 36: [(np.float64(17.8343554384486), np.float64(1.7698868569536577)), [np.float64(0.05976541137619666), np.float64(0.6133887630992629)]], 30: [(np.float64(44.276153482000126), np.float64(2.6790492335502587)), [np.float64(0.0505029188269498), np.float64(0.6623494391774094)]]}, 179: {43: [(np.float64(8.289513070913976), np.float64(0.7371097224364399)), [np.float64(0.007032047642087374), np.float64(0.42304827950338725)]], 41: [(np.float64(11.214226478990001), np.float64(1.1590513230865327)), [np.float64(0.01060432992161782), np.float64(0.432730570367979)]], 40: [(np.float64(19.370048766915808), np.float64(1.9932501206340094)), [np.float64(0.003667298999780039), np.float64(0.39856509404232093)]], 42: [(np.float64(12.712371132655184), np.float64(1.3435513022305214)), [np.float64(0.016371087273434223), np.float64(0.4728254996495519)]], 44: [(np.float64(10.283780697848703), np.float64(1.0216652671928899)), [np.float64(0.005417184294297213), np.float64(0.37441406305500097)]]}, 186: {34: [(np.float64(22.58027846968159), np.float64(1.98534623760532)), [np.float64(0.005228303566746197), np.float64(0.4603774065797944)]], 32: [(np.float64(19.546840754313656), np.float64(1.8767026690599085)), [np.float64(0.007564294145907347), np.float64(0.46416923072208066)]], 31: [(np.float64(14.566019524460405), np.float64(1.5656630965687819)), [np.float64(0.0023510431134904065), np.float64(0.4529689160511194)]], 33: [(np.float64(25.67335300382687), np.float64(2.0998306424011663)), [np.float64(0.005586273969049367), np.float64(0.45682940891812024)]], 35: [(np.float64(20.978590222192768), np.float64(1.878944273869988)), [np.float64(0.008446848743522821), np.float64(0.4746488908836826)]], 36: [(np.float64(34.0715390600388), np.float64(2.2977040632528425)), [np.float64(0.0035624904987454926), np.float64(0.43813223255831557)]], 30: [(np.float64(38.15435449785397), np.float64(2.4551793408710565)), [np.float64(0.0007056560258543185), np.float64(0.43068806299676027)]]}, 191: {43: [(np.float64(5.043846557566963), np.float64(0.45499033589478166)), [np.float64(0.009151278176944054), np.float64(0.31581941112010886)]], 41: [(np.float64(4.717872230514181), np.float64(0.4214759437042299)), [np.float64(0.007129177148425105), np.float64(0.27171912708551826)]], 40: [(np.float64(4.607723826566142), np.float64(0.4148503809337909)), [np.float64(0.004883399360148656), np.float64(0.28662360669339)]], 42: [(np.float64(5.237725703248405), np.float64(0.501018531190579)), [np.float64(0.005501100850955742), np.float64(0.27399217944567317)]], 44: [(np.float64(6.6419164881282295), np.float64(0.7332636460564464)), [np.float64(0.005396063107616218), np.float64(0.300026088746562)]]}, 198: {34: [(np.float64(13.64432197375319), np.float64(1.8141045797695168)), [np.float64(0.008644324130368662), np.float64(0.3276634470867209)]], 32: [(np.float64(17.539410315498213), np.float64(2.2089693619291366)), [np.float64(0.006692129588475869), np.float64(0.3627697478607626)]], 31: [(np.float64(17.176315118467826), np.float64(2.1854711615511175)), [np.float64(0.0053037750402202865), np.float64(0.3583780646656954)]], 33: [(np.float64(16.239360410074262), np.float64(2.0724157503291827)), [np.float64(0.006333662168162995), np.float64(0.3701735329919772)]], 35: [(np.float64(18.02741255965582), np.float64(2.1535072183260904)), [np.float64(0.009015840579816706), np.float64(0.3652743712568785)]], 36: [(np.float64(10.644927960388568), np.float64(1.4000019082852984)), [np.float64(0.013004685912186204), np.float64(0.32651806585516613)]], 30: [(np.float64(8.024849230780722), np.float64(1.1379176732623253)), [np.float64(0.005529989538968054), np.float64(0.3763953943144183)]]}, 203: {43: [(np.float64(1.6046378077085495), np.float64(0.0035288939155594364)), [np.float64(0.01057306257806757), np.float64(0.29538882696354146)]], 41: [(np.float64(3.1437791183844013), np.float64(0.11928539483212265)), [np.float64(0.009603095346312599), np.float64(0.30133258125829204)]], 40: [(np.float64(1.6718399019432515), np.float64(0.005324878739512936)), [np.float64(0.008186019333500615), np.float64(0.2998615771016826)]], 42: [(np.float64(2.2863228485570684), np.float64(0.031250528344463534)), [np.float64(0.010336056243275394), np.float64(0.30088014971026306)]], 44: [(np.float64(3.60453843059249), np.float64(0.16544853925349182)), [np.float64(0.011691063357800362), np.float64(0.3063801434844515)]]}, 210: {34: [(np.float64(3.735327541068172), np.float64(0.30125518279685554)), [np.float64(0.00919869130429703), np.float64(0.28528838349934044)]], 32: [(np.float64(5.634129378231572), np.float64(0.8238417944547536)), [np.float64(0.008041586634141744), np.float64(0.2840452214208928)]], 31: [(np.float64(5.864557918866904), np.float64(0.9045109817738399)), [np.float64(0.00709609405038883), np.float64(0.28775466688662427)]], 33: [(np.float64(3.745836394907843), np.float64(0.31632561622344785)), [np.float64(0.007232261033993437), np.float64(0.29205915203028615)]], 35: [(np.float64(4.015408560167295), np.float64(0.35242515294781185)), [np.float64(0.012115844490734568), np.float64(0.3111298188517783)]], 36: [(np.float64(6.795405368663131), np.float64(1.102836492919936)), [np.float64(0.043378079135387035), np.float64(0.39890677225524673)]], 30: [(np.float64(3.6003398673969884), np.float64(0.31854584268897873)), [np.float64(0.006006144758527771), np.float64(0.29581235173345644)]]}, 215: {43: [(np.float64(0.48257570799787625), np.float64(-5.468269990151358e-09)), [np.float64(0.015561990036623051), np.float64(0.26361825939164024)]], 41: [(np.float64(0.4733134081896487), np.float64(-5.45644914748311e-09)), [np.float64(0.014843162865020668), np.float64(0.23751711512037876)]], 40: [(np.float64(0.47941625949999306), np.float64(-5.43234287706917e-09)), [np.float64(0.010202988404475335), np.float64(0.2620857896079236)]], 42: [(np.float64(0.524946122098619), np.float64(-4.935720522083112e-09)), [np.float64(0.01924160354755208), np.float64(0.2588970175366611)]], 44: [(np.float64(0.49410136100023194), np.float64(-5.463192175235684e-09)), [np.float64(0.01839374907028148), np.float64(0.2782189500214997)]]}, 222: {34: [(np.float64(2.298661410561015), np.float64(0.04768383031973706)), [np.float64(0.014093485241817642), np.float64(0.28425770708816844)]], 32: [(np.float64(2.7197553337314715), np.float64(0.11628276490999208)), [np.float64(0.010229133059048455), np.float64(0.2869220369912305)]], 31: [(np.float64(2.697195482455285), np.float64(0.11771673466534373)), [np.float64(0.00795447514533129), np.float64(0.2935595385301648)]], 33: [(np.float64(2.4386163215739836), np.float64(0.06547539671750727)), [np.float64(0.009323742839752144), np.float64(0.2929047192175405)]], 35: [(np.float64(2.9911498103015104), np.float64(0.1342811281111704)), [np.float64(0.011450505077768106), np.float64(0.30731422450499857)]], 36: [(np.float64(1.6604360626415182), np.float64(0.006104439264041888)), [np.float64(0.015603219157362692), np.float64(0.2527296258490607)]], 30: [(np.float64(3.444167244486747), np.float64(0.2946451819312107)), [np.float64(0.005282797868243712), np.float64(0.2637314776317429)]]}, 227: {43: [(np.float64(0.5034252417970833), np.float64(-3.8472075555798805e-09)), [np.float64(0.011181851138933038), np.float64(0.2492276139551362)]], 41: [(np.float64(2.3665013046533985), np.float64(0.03540289829475349)), [np.float64(0.009737239699081328), np.float64(0.2520111849883341)]], 40: [(np.float64(1.8755202963861692), np.float64(0.011903390097474527)), [np.float64(0.007638799513700286), np.float64(0.2685216575307146)]], 42: [(np.float64(0.5037027145739554), np.float64(-3.551274122232631e-09)), [np.float64(0.01442252165163359), np.float64(0.26388996757685884)]], 44: [(np.float64(2.9511562411117636), np.float64(0.07868083396155084)), [np.float64(0.013598056793553337), np.float64(0.28062281722159926)]]}, 234: {32: [(np.float64(4.331680944501918), np.float64(0.44139370116360244)), [np.float64(0.008715060757043465), np.float64(0.29139269487707353)]], 31: [(np.float64(3.3049613709605485), np.float64(0.203442036232659)), [np.float64(0.008826694753511227), np.float64(0.3115691495532454)]], 33: [(np.float64(4.013894783244982), np.float64(0.36220155879522525)), [np.float64(0.012590497088010683), np.float64(0.28446513554006075)]], 34: [(np.float64(4.909481026361754), np.float64(0.5645768904772371)), [np.float64(0.010282102333788581), np.float64(0.2765515844052134)]], 35: [(np.float64(8.550629689038951), np.float64(1.3859767413313087)), [np.float64(0.01020544859281059), np.float64(0.28922584814935604)]], 36: [(np.float64(6.790075689370859), np.float64(0.9661906315345761)), [np.float64(0.009674424290710292), np.float64(0.2571820875368204)]], 30: [(np.float64(3.7030549084582063), np.float64(0.33761225758291896)), [np.float64(0.008711077107794151), np.float64(0.2634960826768501)]]}, 239: {41: [(np.float64(0.4995067767267496), np.float64(-5.304086172671782e-09)), [np.float64(0.015573577377716846), np.float64(0.17123257465550576)]], 40: [(np.float64(0.4791569534831716), np.float64(-5.387226193491456e-09)), [np.float64(0.014779886920202816), np.float64(0.19834142101676544)]], 42: [(np.float64(0.4846164334902814), np.float64(-5.394574568838881e-09)), [np.float64(0.01831751943755953), np.float64(0.19928725869553662)]], 43: [(np.float64(0.48023844690654116), np.float64(-5.415028645089993e-09)), [np.float64(0.015670383750200537), np.float64(0.24430483683438264)]], 44: [(np.float64(0.6072967907133273), np.float64(-1.6570183620489858e-09)), [np.float64(0.020388284915434877), np.float64(0.36315612335719305)]]}, 246: {32: [(np.float64(33.935519041003495), np.float64(2.628007755054784)), [np.float64(0.018915512964725077), np.float64(0.42680802841060367)]], 31: [(np.float64(37.56522444820398), np.float64(2.721444777939475)), [np.float64(0.013348730708078583), np.float64(0.4362768840274138)]], 33: [(np.float64(34.93984866277593), np.float64(2.6349410934864554)), [np.float64(0.021034358094683774), np.float64(0.44073093888124293)]], 34: [(np.float64(36.41608123169296), np.float64(2.652555146912299)), [np.float64(0.03740850626074548), np.float64(0.47977004842270815)]], 35: [(np.float64(28.77898642858051), np.float64(2.4391018997052196)), [np.float64(0.03151078273591099), np.float64(0.49850848711709067)]], 36: [(np.float64(21.487877173456287), np.float64(2.1241747376675466)), [np.float64(0.01234294235372333), np.float64(0.4542452624737785)]], 30: [(np.float64(26.90414347030781), np.float64(2.46247552746358)), [np.float64(0.005665898930902219), np.float64(0.4101561401229463)]]}, 251: {41: [(np.float64(7.551268399981465), np.float64(0.9512956367311755)), [np.float64(0.024164808366132252), np.float64(0.32966550736384925)]], 40: [(np.float64(6.94146105470025), np.float64(0.839382168549352)), [np.float64(0.009245756253769697), np.float64(0.2967153633446351)]], 42: [(np.float64(4.421918801740259), np.float64(0.3280415255303261)), [np.float64(0.01999729851319671), np.float64(0.3145803718034494)]], 43: [(np.float64(3.4401634050640166), np.float64(0.1506850110413136)), [np.float64(0.027125481034761235), np.float64(0.3251391398036498)]], 44: [(np.float64(5.4913718566721155), np.float64(0.4675854067550217)), [np.float64(0.03401664600633143), np.float64(0.38702182704081695)]]}, 258: {34: [(np.float64(16.780942046362817), np.float64(2.157057257154714)), [np.float64(0.012073977308435246), np.float64(0.43416579427970986)]], 32: [(np.float64(18.33640157071538), np.float64(2.3396507896539993)), [np.float64(0.009592430497998152), np.float64(0.40425766265386476)]], 31: [(np.float64(19.295120302004985), np.float64(2.399892031461402)), [np.float64(0.007469166014454516), np.float64(0.42166765169283393)]], 33: [(np.float64(17.713334215138044), np.float64(2.2487465258624675)), [np.float64(0.010214896473469647), np.float64(0.41363365072522407)]], 35: [(np.float64(16.014808835471232), np.float64(2.043397603884158)), [np.float64(0.01904709490205815), np.float64(0.4593206849231517)]], 30: [(np.float64(16.444979638178893), np.float64(2.0429845057941014)), [np.float64(0.007853471537172719), np.float64(0.3771821754726793)]]}, 270: {32: [(np.float64(12.292086466393135), np.float64(1.970426669865762)), [np.float64(0.02675867924401918), np.float64(0.5466891698487314)]], 31: [(np.float64(15.084578515189142), np.float64(2.3140632509212278)), [np.float64(0.020987979995788546), np.float64(0.6061671716033865)]], 33: [(np.float64(11.441675123603153), np.float64(1.8337479260471832)), [np.float64(0.025793570170733568), np.float64(0.5064171523535478)]], 34: [(np.float64(7.762386832720736), np.float64(1.025391016110063)), [np.float64(0.04036875570447925), np.float64(0.5448976984024569)]], 35: [(np.float64(5.337229442998518), np.float64(0.4442121011165683)), [np.float64(0.03953239163617164), np.float64(0.5443877747703738)]], 36: [(np.float64(0.5882300661588894), np.float64(-4.126470790285047e-09)), [np.float64(0.014865969122728216), np.float64(0.4282272126912757)]], 30: [(np.float64(16.74497638247491), np.float64(2.533745135799406)), [np.float64(0.010174874053379563), np.float64(0.546426508514224)]]}, 275: {43: [(np.float64(9.839731990877816), np.float64(1.6239143052836356)), [np.float64(0.06555856001142002), np.float64(0.6581420039621015)]], 41: [(np.float64(13.512323605995896), np.float64(2.426808207556082)), [np.float64(0.03705122113243134), np.float64(0.6335170428807274)]], 40: [(np.float64(15.921487560927503), np.float64(2.81354548798598)), [np.float64(0.012013427463201007), np.float64(0.5851461695037288)]], 42: [(np.float64(9.36111005462431), np.float64(1.5507642157681267)), [np.float64(0.04095700766640433), np.float64(0.5852304645323166)]], 44: [(np.float64(8.39693280395966), np.float64(1.2521751521821087)), [np.float64(0.05179995718946244), np.float64(0.6164683530226618)]]}, 282: {32: [(np.float64(5.896098685955402), np.float64(0.6986455286937079)), [np.float64(0.0597471693760516), np.float64(0.6570539415805565)]], 31: [(np.float64(16.390806755983835), np.float64(3.0833977697616506)), [np.float64(0.035208469411889175), np.float64(0.7701727384485678)]], 33: [(np.float64(7.637897391427311), np.float64(1.1688145562214947)), [np.float64(0.07120992563773956), np.float64(0.6765834035258702)]], 34: [(np.float64(10.001571390144068), np.float64(1.7673237681645158)), [np.float64(0.09326410858741184), np.float64(0.7612098987058478)]], 35: [(np.float64(8.625790669557846), np.float64(1.3900370534773645)), [np.float64(0.06671243828217155), np.float64(0.6725468035788992)]], 36: [(np.float64(14.534424312815752), np.float64(2.537098945083854)), [np.float64(0.03726755380844798), np.float64(0.7999807253537302)]], 30: [(np.float64(13.422619476536871), np.float64(2.631842987523136)), [np.float64(0.0352317839543372), np.float64(0.66314563393239)]]}, 287: {41: [(np.float64(15.964222616197171), np.float64(3.197982090223487)), [np.float64(0.050144446447591334), np.float64(0.7452293456864987)]], 40: [(np.float64(20.124255804684598), np.float64(3.7612248698452704)), [np.float64(0.024986877124468794), np.float64(0.7940415825818266)]], 42: [(np.float64(10.674115275109354), np.float64(2.0440734939487872)), [np.float64(0.07201880028812047), np.float64(0.7440584010824178)]], 43: [(np.float64(11.484611929173937), np.float64(2.2106077501546486)), [np.float64(0.05723877531505222), np.float64(0.732597899021087)]], 44: [(np.float64(9.735600222689449), np.float64(1.7499853595694028)), [np.float64(0.039831623385045305), np.float64(0.6440577049673644)]]}, 294: {32: [(np.float64(16.01443655989996), np.float64(3.1418580580335314)), [np.float64(0.0847908580607803), np.float64(0.7567201512537528)]], 31: [(np.float64(10.988652762428966), np.float64(2.150934308931266)), [np.float64(0.05280629892114368), np.float64(0.6911443178433524)]], 33: [(np.float64(8.997467913605341), np.float64(1.6136196738747544)), [np.float64(0.09071564910048359), np.float64(0.7365848474052159)]], 35: [(np.float64(12.956541936122914), np.float64(2.432922723709621)), [np.float64(0.10260273892863854), np.float64(0.8080777494140414)]], 34: [(np.float64(15.229002934263665), np.float64(2.9414047380639414)), [np.float64(0.08044105179367239), np.float64(0.7253714675342681)]]}, 299: {41: [(np.float64(18.39524834230134), np.float64(3.5366002990235996)), [np.float64(0.049788754852341174), np.float64(0.7609068008961567)]], 40: [(np.float64(14.118545730258264), np.float64(2.809486344537673)), [np.float64(0.03194772205941212), np.float64(0.6498822511154559)]], 42: [(np.float64(21.63593562827367), np.float64(3.9246681791162477)), [np.float64(0.013502026859007537), np.float64(0.6607205826788038)]]}, 306: {32: [(np.float64(12.368350621075887), np.float64(2.28978575083162)), [np.float64(0.10204849661035899), np.float64(0.7786523648733652)]], 33: [(np.float64(11.930987927212287), np.float64(2.172487874537409)), [np.float64(0.09293468904478898), np.float64(0.7584235816434416)]], 35: [(np.float64(15.9534125368524), np.float64(2.7591707528294522)), [np.float64(0.09500579778496294), np.float64(0.7500845999042874)]], 31: [(np.float64(14.978991761858612), np.float64(2.7948296901245517)), [np.float64(0.08541984008867613), np.float64(0.7656586249260023)]], 34: [(np.float64(17.862044378297064), np.float64(3.114043724314444)), [np.float64(0.08434198390852199), np.float64(0.7707612059820073)]]}, 311: {41: [(np.float64(14.026389961119373), np.float64(2.3934989464087364)), [np.float64(0.047261956816773726), np.float64(0.7046995323560584)]], 40: [(np.float64(16.193771692935357), np.float64(2.7512157683553453)), [np.float64(0.02864713661036737), np.float64(0.6537758336070743)]], 42: [(nan, nan), [np.float64(0.008956557953709053), np.float64(0.6801727886523898)]]}, 318: {34: [(np.float64(19.340228908789115), np.float64(4.24254741855168)), [np.float64(0.052471479461333716), np.float64(0.7539655091435405)]], 32: [(np.float64(16.604825174217876), np.float64(3.8205722395070794)), [np.float64(0.05499768814659913), np.float64(0.7541747023815155)]], 33: [(np.float64(17.419754410819785), np.float64(3.931777132665572)), [np.float64(0.05741469956682635), np.float64(0.7603770709290436)]], 35: [(np.float64(17.49951252509455), np.float64(3.867546531965754)), [np.float64(0.04740337667630064), np.float64(0.750387037891054)]], 31: [(np.float64(17.42350547521853), np.float64(4.014278203085265)), [np.float64(0.04360364212098707), np.float64(0.7602395347596024)]], 36: [(np.float64(11.14049862353369), np.float64(2.288224598363636)), [np.float64(0.07496394339220155), np.float64(0.7785415432930922)]], 30: [(np.float64(20.66906453261857), np.float64(4.732873636663194)), [np.float64(0.029105667720405275), np.float64(0.7168204717844833)]]}, 323: {41: [(np.float64(14.924729089089963), np.float64(3.262512833308299)), [np.float64(0.03502553474495713), np.float64(0.7224730115649861)]], 42: [(np.float64(12.460606608597597), np.float64(2.623820631976149)), [np.float64(0.05043098549041378), np.float64(0.7404224441047461)]], 44: [(np.float64(12.59597960296301), np.float64(2.5799660384475387)), [np.float64(0.0468085584472733), np.float64(0.7191602060570088)]], 40: [(np.float64(10.739387785943581), np.float64(2.0948321413971387)), [np.float64(0.029597440654157838), np.float64(0.7441880527377281)]], 43: [(np.float64(12.50003048333638), np.float64(2.5960599014637884)), [np.float64(0.04581937517803141), np.float64(0.7400188745994739)]]}, 330: {32: [(np.float64(12.53342534781303), np.float64(2.7610293010200664)), [np.float64(0.05884181293156264), np.float64(0.733772405379908)]], 31: [(np.float64(11.483317142640093), np.float64(2.437117554502206)), [np.float64(0.046818317683490325), np.float64(0.7403969723451113)]], 33: [(np.float64(11.096652136499324), np.float64(2.316399612984574)), [np.float64(0.06273294256744108), np.float64(0.7560252771483268)]], 34: [(np.float64(14.817650364960201), np.float64(3.2035581441210432)), [np.float64(0.057872766537283064), np.float64(0.7515881724930895)]], 35: [(np.float64(17.538916028888305), np.float64(3.696384045003116)), [np.float64(0.049511417584063785), np.float64(0.7628986937047798)]], 36: [(np.float64(13.951915402453153), np.float64(2.9316148863710167)), [np.float64(0.061061795174065264), np.float64(0.7595164147599259)]], 30: [(np.float64(71.14379194203259), np.float64(7.662922807448864)), [np.float64(0.02118779454364219), np.float64(0.9455156397950912)]]}, 335: {41: [(np.float64(14.654857004929688), np.float64(3.253237198007376)), [np.float64(0.030317992980807045), np.float64(0.7364361085559348)]], 40: [(np.float64(24.885433211402425), np.float64(5.149676452076337)), [np.float64(0.021531849125011323), np.float64(0.7102364306895744)]], 42: [(np.float64(12.65451178488428), np.float64(2.75976839247399)), [np.float64(0.051081874710556814), np.float64(0.7495102832508665)]], 43: [(np.float64(12.251044047501017), np.float64(2.63553277009474)), [np.float64(0.04229843444962074), np.float64(0.7325035553928864)]], 44: [(np.float64(13.987356126995145), np.float64(3.005504018662996)), [np.float64(0.048755711831515385), np.float64(0.7464450165832611)]]}, 342: {34: [(np.float64(17.592424000323412), np.float64(3.487700772054606)), [np.float64(0.04677013259868349), np.float64(0.7256206780046117)]], 31: [(np.float64(44.413160491519065), np.float64(5.957472016430461)), [np.float64(0.02927314763318462), np.float64(0.9374121563613325)]], 33: [(np.float64(26.232706500402998), np.float64(4.636441122257271)), [np.float64(0.04387116420994247), np.float64(0.7863619218533131)]], 32: [(np.float64(29.76950483819525), np.float64(5.0384401505238765)), [np.float64(0.04401681376256526), np.float64(0.7636755445955613)]], 30: [(np.float64(36.47851711858401), np.float64(5.532682926487143)), [np.float64(0.028069159122365402), np.float64(1.0470466298958958)]], 35: [(np.float64(22.22177602030447), np.float64(4.158919317888083)), [np.float64(0.03861669520526495), np.float64(0.7291854949847723)]]}, 347: {43: [(np.float64(11.788587597263088), np.float64(2.2930052029929975)), [np.float64(0.06667118159383031), np.float64(0.7583242325179307)]], 41: [(np.float64(19.997458808810613), np.float64(3.911310160388106)), [np.float64(0.046177740607277994), np.float64(0.7641768946641359)]], 42: [(np.float64(11.70042995476281), np.float64(2.3079254119600687)), [np.float64(0.056654673079780615), np.float64(0.7406396470963402)]], 40: [(np.float64(19.269983266214535), np.float64(3.7627289887873885)), [np.float64(0.03937413351928927), np.float64(0.7860763220553849)]]}, 354: {34: [(np.float64(13.102206818766817), np.float64(3.0016089266705124)), [np.float64(0.060690095208513664), np.float64(0.752344245897006)]], 32: [(np.float64(15.736331419380024), np.float64(3.736859344735099)), [np.float64(0.05915270967031302), np.float64(0.7640174154816519)]], 31: [(np.float64(16.229197490324022), np.float64(3.8668753517921908)), [np.float64(0.0585874443395041), np.float64(0.773281413439518)]], 33: [(np.float64(13.604782202023557), np.float64(3.179471846193924)), [np.float64(0.0597473268103199), np.float64(0.7508622882623637)]], 35: [(np.float64(14.502333583908992), np.float64(3.2426374245442156)), [np.float64(0.052129916064300424), np.float64(0.7499637855378078)]], 30: [(np.float64(13.502208371793946), np.float64(3.278307080919757)), [np.float64(0.05584676931345143), np.float64(0.7500548185786646)]]}, 359: {40: [(np.float64(9.15676394611676), np.float64(2.097971232693633)), [np.float64(0.03912970041512459), np.float64(0.7359145396684839)]], 42: [(np.float64(10.163113436792907), np.float64(2.433080828938212)), [np.float64(0.04629015405881557), np.float64(0.743230737562104)]], 43: [(np.float64(7.704262410170109), np.float64(1.4438944164196352)), [np.float64(0.03575514011947853), np.float64(0.7105880711802984)]], 41: [(np.float64(15.113930372404496), np.float64(4.127432933130816)), [np.float64(0.028466720904109562), np.float64(0.7400219449177975)]]}}}}}\n"
     ]
    },
    {
     "name": "stderr",
     "output_type": "stream",
     "text": [
      "/home/morteza/.local/lib/python3.11/site-packages/wcmi/core.py:82: RuntimeWarning: invalid value encountered in log\n",
      "  return c * np.log(d * x + 1e-9) #add a small value to avoid log(0)\n"
     ]
    }
   ],
   "source": [
    "from wcmi import VegParamCal\n",
    "\n",
    "opt_obj = VegParamCal(dir_radar_sigma='../datasets/backscatter/', \n",
    "                      dir_risma='../datasets/RISMA/', \n",
    "                      aafc_croptype=[158, ], \n",
    "                      risma_station=['MB5', ], \n",
    "                      sensor_depth=[0, 5])\n",
    "wcm_param = opt_obj.run()\n",
    "print(wcm_param)"
   ]
  },
  {
   "cell_type": "code",
   "execution_count": 5,
   "id": "ba08e842-3bba-482b-81a5-492421ba8ce6",
   "metadata": {},
   "outputs": [
    {
     "data": {
      "text/plain": [
       "{32: [(np.float64(10.811176210823769), np.float64(2.473680015314605)),\n",
       "  [np.float64(0.0981769050824884), np.float64(0.8045422141457511)]],\n",
       " 31: [(np.float64(9.458030006817237), np.float64(2.0829132897081752)),\n",
       "  [np.float64(0.08231126090657478), np.float64(0.7749002537246614)]],\n",
       " 33: [(np.float64(10.990045694470055), np.float64(2.4653193306742103)),\n",
       "  [np.float64(0.0732897305705428), np.float64(0.7750296146953537)]],\n",
       " 35: [(np.float64(10.311692232093172), np.float64(2.199087399012631)),\n",
       "  [np.float64(0.08216405753769687), np.float64(0.7853595533953184)]],\n",
       " 34: [(np.float64(12.217504609865934), np.float64(2.7858652411620346)),\n",
       "  [np.float64(0.07839426225936236), np.float64(0.7800918150622888)]],\n",
       " 30: [(nan, nan),\n",
       "  [np.float64(0.09410012497179922), np.float64(0.7964937070423194)]]}"
      ]
     },
     "execution_count": 5,
     "metadata": {},
     "output_type": "execute_result"
    }
   ],
   "source": [
    "angle_doy = wcm_param[158]['MB5'][5][6]\n",
    "angle_doy"
   ]
  },
  {
   "cell_type": "code",
   "execution_count": 10,
   "id": "4bce07e9-5701-40cb-8db7-9c65e1726446",
   "metadata": {},
   "outputs": [],
   "source": [
    "def mergeDictionary(dict_1, dict_2):\n",
    "   dict_3 = {**dict_1, **dict_2}\n",
    "   for key, value in dict_3.items():\n",
    "       if key in dict_1 and key in dict_2:\n",
    "               dict_3[key] = [value , dict_1[key]]\n",
    "   return dict_3"
   ]
  },
  {
   "cell_type": "code",
   "execution_count": 11,
   "id": "04c57db9-bce4-4562-87e8-4e29f100484c",
   "metadata": {},
   "outputs": [
    {
     "name": "stdout",
     "output_type": "stream",
     "text": [
      "{34: [np.float64(0.014093485241817642), np.float64(0.28425770708816844)], 32: [np.float64(0.010229133059048455), np.float64(0.2869220369912305)], 31: [np.float64(0.00795447514533129), np.float64(0.2935595385301648)], 33: [np.float64(0.009323742839752144), np.float64(0.2929047192175405)], 35: [np.float64(0.011450505077768106), np.float64(0.30731422450499857)], 36: [np.float64(0.015603219157362692), np.float64(0.2527296258490607)], 30: [np.float64(0.005282797868243712), np.float64(0.2637314776317429)]}\n"
     ]
    }
   ],
   "source": [
    "dict_3 = mergeDictionary(angle_doy[0], angle_doy[1])\n",
    "print(dict_3)"
   ]
  },
  {
   "cell_type": "code",
   "execution_count": 17,
   "id": "a5d863f0-6288-4d75-b758-1faab702407e",
   "metadata": {},
   "outputs": [
    {
     "name": "stdout",
     "output_type": "stream",
     "text": [
      "ChainMap({34: np.float64(0.28425770708816844), 32: np.float64(0.2869220369912305), 31: np.float64(0.2935595385301648), 33: np.float64(0.2929047192175405), 35: np.float64(0.30731422450499857), 36: np.float64(0.2527296258490607), 30: np.float64(0.2637314776317429)}, {34: np.float64(0.014093485241817642), 32: np.float64(0.010229133059048455), 31: np.float64(0.00795447514533129), 33: np.float64(0.009323742839752144), 35: np.float64(0.011450505077768106), 36: np.float64(0.015603219157362692), 30: np.float64(0.005282797868243712)})\n"
     ]
    }
   ],
   "source": [
    "from collections import ChainMap\n",
    "\n",
    "dict_3 = ChainMap(angle_doy[0], angle_doy[1])\n",
    "print(dict_3)"
   ]
  },
  {
   "cell_type": "code",
   "execution_count": null,
   "id": "44c656ee-2bf5-48fb-af2c-274504af3be7",
   "metadata": {},
   "outputs": [],
   "source": []
  }
 ],
 "metadata": {
  "kernelspec": {
   "display_name": "Python 3 (ipykernel)",
   "language": "python",
   "name": "python3"
  },
  "language_info": {
   "codemirror_mode": {
    "name": "ipython",
    "version": 3
   },
   "file_extension": ".py",
   "mimetype": "text/x-python",
   "name": "python",
   "nbconvert_exporter": "python",
   "pygments_lexer": "ipython3",
   "version": "3.11.2"
  }
 },
 "nbformat": 4,
 "nbformat_minor": 5
}
