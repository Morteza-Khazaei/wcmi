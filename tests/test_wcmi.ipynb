{
 "cells": [
  {
   "cell_type": "code",
   "execution_count": 1,
   "id": "48d28fa0-b4f4-46cc-ac68-0b70a8f2330e",
   "metadata": {},
   "outputs": [],
   "source": [
    "import numpy as np"
   ]
  },
  {
   "cell_type": "code",
   "execution_count": 2,
   "id": "190100ee-023c-42f8-9a3d-588f612d3fd1",
   "metadata": {},
   "outputs": [
    {
     "name": "stdout",
     "output_type": "stream",
     "text": [
      "2020-01-06 00:00:00, doy: 6\n"
     ]
    },
    {
     "name": "stderr",
     "output_type": "stream",
     "text": [
      "/home/morteza/.local/lib/python3.11/site-packages/wcmi/core.py:71: RuntimeWarning: invalid value encountered in log\n",
      "  return c * np.log(d * x + 1e-9) #add a small value to avoid log(0)\n"
     ]
    },
    {
     "ename": "NameError",
     "evalue": "name 'exp_func' is not defined",
     "output_type": "error",
     "traceback": [
      "\u001b[0;31m---------------------------------------------------------------------------\u001b[0m",
      "\u001b[0;31mNameError\u001b[0m                                 Traceback (most recent call last)",
      "Cell \u001b[0;32mIn[2], line 3\u001b[0m\n\u001b[1;32m      1\u001b[0m \u001b[38;5;28;01mfrom\u001b[39;00m \u001b[38;5;21;01mwcmi\u001b[39;00m \u001b[38;5;28;01mimport\u001b[39;00m VegParamCal\n\u001b[0;32m----> 3\u001b[0m opt_obj \u001b[38;5;241m=\u001b[39m \u001b[43mVegParamCal\u001b[49m\u001b[43m(\u001b[49m\u001b[43mdir_radar_sigma\u001b[49m\u001b[38;5;241;43m=\u001b[39;49m\u001b[38;5;124;43m'\u001b[39;49m\u001b[38;5;124;43m../datasets/backscatter/\u001b[39;49m\u001b[38;5;124;43m'\u001b[39;49m\u001b[43m,\u001b[49m\u001b[43m \u001b[49m\n\u001b[1;32m      4\u001b[0m \u001b[43m                      \u001b[49m\u001b[43mdir_risma\u001b[49m\u001b[38;5;241;43m=\u001b[39;49m\u001b[38;5;124;43m'\u001b[39;49m\u001b[38;5;124;43m../datasets/RISMA/\u001b[39;49m\u001b[38;5;124;43m'\u001b[39;49m\u001b[43m,\u001b[49m\u001b[43m \u001b[49m\n\u001b[1;32m      5\u001b[0m \u001b[43m                      \u001b[49m\u001b[43maafc_croptype\u001b[49m\u001b[38;5;241;43m=\u001b[39;49m\u001b[43m[\u001b[49m\u001b[38;5;241;43m158\u001b[39;49m\u001b[43m,\u001b[49m\u001b[43m \u001b[49m\u001b[43m]\u001b[49m\u001b[43m,\u001b[49m\u001b[43m \u001b[49m\n\u001b[1;32m      6\u001b[0m \u001b[43m                      \u001b[49m\u001b[43mrisma_station\u001b[49m\u001b[38;5;241;43m=\u001b[39;49m\u001b[43m[\u001b[49m\u001b[38;5;124;43m'\u001b[39;49m\u001b[38;5;124;43mMB5\u001b[39;49m\u001b[38;5;124;43m'\u001b[39;49m\u001b[43m,\u001b[49m\u001b[43m \u001b[49m\u001b[43m]\u001b[49m\u001b[43m,\u001b[49m\u001b[43m \u001b[49m\n\u001b[1;32m      7\u001b[0m \u001b[43m                      \u001b[49m\u001b[43msensor_depth\u001b[49m\u001b[38;5;241;43m=\u001b[39;49m\u001b[43m[\u001b[49m\u001b[38;5;241;43m0\u001b[39;49m\u001b[43m,\u001b[49m\u001b[43m \u001b[49m\u001b[38;5;241;43m5\u001b[39;49m\u001b[43m]\u001b[49m\u001b[43m)\u001b[49m\n\u001b[1;32m      8\u001b[0m wcm_param \u001b[38;5;241m=\u001b[39m opt_obj\u001b[38;5;241m.\u001b[39mrun()\n\u001b[1;32m      9\u001b[0m \u001b[38;5;28mprint\u001b[39m(wcm_param)\n",
      "File \u001b[0;32m~/.local/lib/python3.11/site-packages/wcmi/core.py:49\u001b[0m, in \u001b[0;36mVegParamCal.__init__\u001b[0;34m(self, S1_freq_GHz, S1_local_overpass_time, year, dir_radar_sigma, dir_risma, aafc_croptype, risma_station, sensor_depth)\u001b[0m\n\u001b[1;32m     47\u001b[0m         df_doy_depth \u001b[38;5;241m=\u001b[39m \u001b[38;5;28mself\u001b[39m\u001b[38;5;241m.\u001b[39mread_risma_bulk_csv(risma_files[\u001b[38;5;241m0\u001b[39m], S1_lot\u001b[38;5;241m=\u001b[39mS1_local_overpass_time, depth\u001b[38;5;241m=\u001b[39mdp)\n\u001b[1;32m     48\u001b[0m         S1_sigma_df_ct \u001b[38;5;241m=\u001b[39m \u001b[38;5;28mself\u001b[39m\u001b[38;5;241m.\u001b[39mread_radar_backscatter(backscatter_files[\u001b[38;5;241m0\u001b[39m], croptype\u001b[38;5;241m=\u001b[39mct)\n\u001b[0;32m---> 49\u001b[0m         wcm_param_dp[dp] \u001b[38;5;241m=\u001b[39m \u001b[38;5;28;43mself\u001b[39;49m\u001b[38;5;241;43m.\u001b[39;49m\u001b[43mcalculate_WCM_param\u001b[49m\u001b[43m(\u001b[49m\u001b[43mdf_sigma\u001b[49m\u001b[38;5;241;43m=\u001b[39;49m\u001b[43mS1_sigma_df_ct\u001b[49m\u001b[43m,\u001b[49m\u001b[43m \u001b[49m\u001b[43mdf_risma\u001b[49m\u001b[38;5;241;43m=\u001b[39;49m\u001b[43mdf_doy_depth\u001b[49m\u001b[43m)\u001b[49m\n\u001b[1;32m     51\u001b[0m     wcm_param_ct[rst] \u001b[38;5;241m=\u001b[39m wcm_param_dp\n\u001b[1;32m     52\u001b[0m \u001b[38;5;28mself\u001b[39m\u001b[38;5;241m.\u001b[39mwcm_param_ct_st_dp[ct] \u001b[38;5;241m=\u001b[39m wcm_param_ct\n",
      "File \u001b[0;32m~/.local/lib/python3.11/site-packages/wcmi/core.py:324\u001b[0m, in \u001b[0;36mVegParamCal.calculate_WCM_param\u001b[0;34m(self, df_sigma, df_risma, default_wcm_params)\u001b[0m\n\u001b[1;32m    321\u001b[0m     \u001b[38;5;28;01mcontinue\u001b[39;00m\n\u001b[1;32m    323\u001b[0m \u001b[38;5;66;03m# Calculate the R-squared value\u001b[39;00m\n\u001b[0;32m--> 324\u001b[0m y_fit \u001b[38;5;241m=\u001b[39m \u001b[43mexp_func\u001b[49m(mvs_arr_x, Cvv, Dvv)\n\u001b[1;32m    325\u001b[0m r2_ssm \u001b[38;5;241m=\u001b[39m r2_score(vv_soils_arr_y, y_fit)\n\u001b[1;32m    326\u001b[0m \u001b[38;5;28mprint\u001b[39m(\u001b[38;5;124mf\u001b[39m\u001b[38;5;124m'\u001b[39m\u001b[38;5;124mSample Size: \u001b[39m\u001b[38;5;132;01m{\u001b[39;00mmvs_arr_x\u001b[38;5;241m.\u001b[39mshape[\u001b[38;5;241m0\u001b[39m]\u001b[38;5;132;01m}\u001b[39;00m\u001b[38;5;124m, SSM vs obs_vv, R2:, \u001b[39m\u001b[38;5;132;01m{\u001b[39;00mr2_ssm\u001b[38;5;132;01m:\u001b[39;00m\u001b[38;5;124m.2f\u001b[39m\u001b[38;5;132;01m}\u001b[39;00m\u001b[38;5;124m'\u001b[39m)\n",
      "\u001b[0;31mNameError\u001b[0m: name 'exp_func' is not defined"
     ]
    }
   ],
   "source": [
    "from wcmi import VegParamCal\n",
    "\n",
    "opt_obj = VegParamCal(dir_radar_sigma='../datasets/backscatter/', \n",
    "                      dir_risma='../datasets/RISMA/', \n",
    "                      aafc_croptype=[158, ], \n",
    "                      risma_station=['MB5', ], \n",
    "                      sensor_depth=[0, 5])\n",
    "wcm_param = opt_obj.run()\n",
    "print(wcm_param)"
   ]
  },
  {
   "cell_type": "code",
   "execution_count": 15,
   "id": "ba08e842-3bba-482b-81a5-492421ba8ce6",
   "metadata": {},
   "outputs": [
    {
     "data": {
      "text/plain": [
       "[{41: np.float64(0.7609068008961567),\n",
       "  40: np.float64(0.6498822511154559),\n",
       "  42: np.float64(0.6607205826788038)},\n",
       " {41: np.float64(0.049788754852341174),\n",
       "  40: np.float64(0.03194772205941212),\n",
       "  42: np.float64(0.013502026859007537)}]"
      ]
     },
     "execution_count": 15,
     "metadata": {},
     "output_type": "execute_result"
    }
   ],
   "source": [
    "angle_doy = wcm_param[158]['MB5'][5][299]\n",
    "angle_doy"
   ]
  },
  {
   "cell_type": "code",
   "execution_count": 29,
   "id": "2bab39ec-de9f-4301-911a-f159fe94564c",
   "metadata": {},
   "outputs": [
    {
     "data": {
      "text/plain": [
       "{41: np.float64(0.3858770476892621),\n",
       " 40: np.float64(0.3504203347064298),\n",
       " 42: np.float64(0.36155778603954236),\n",
       " 43: np.float64(0.3759365994736787),\n",
       " 44: np.float64(0.40477038382907465)}"
      ]
     },
     "execution_count": 29,
     "metadata": {},
     "output_type": "execute_result"
    }
   ],
   "source": [
    "dict(map(lambda el: (el[0], np.array(el[1]).mean()), angle_doy.items()))"
   ]
  },
  {
   "cell_type": "code",
   "execution_count": null,
   "id": "4bce07e9-5701-40cb-8db7-9c65e1726446",
   "metadata": {},
   "outputs": [],
   "source": []
  }
 ],
 "metadata": {
  "kernelspec": {
   "display_name": "Python 3 (ipykernel)",
   "language": "python",
   "name": "python3"
  },
  "language_info": {
   "codemirror_mode": {
    "name": "ipython",
    "version": 3
   },
   "file_extension": ".py",
   "mimetype": "text/x-python",
   "name": "python",
   "nbconvert_exporter": "python",
   "pygments_lexer": "ipython3",
   "version": "3.11.2"
  }
 },
 "nbformat": 4,
 "nbformat_minor": 5
}
