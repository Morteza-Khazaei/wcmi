{
 "cells": [
  {
   "cell_type": "code",
   "execution_count": 1,
   "id": "48d28fa0-b4f4-46cc-ac68-0b70a8f2330e",
   "metadata": {},
   "outputs": [],
   "source": [
    "import numpy as np"
   ]
  },
  {
   "cell_type": "code",
   "execution_count": 2,
   "id": "190100ee-023c-42f8-9a3d-588f612d3fd1",
   "metadata": {},
   "outputs": [
    {
     "name": "stdout",
     "output_type": "stream",
     "text": [
      "2020-01-06 00:00:00, doy: 6\n"
     ]
    },
    {
     "ename": "NameError",
     "evalue": "name 'exp_func' is not defined",
     "output_type": "error",
     "traceback": [
      "\u001b[0;31m---------------------------------------------------------------------------\u001b[0m",
      "\u001b[0;31mNameError\u001b[0m                                 Traceback (most recent call last)",
      "Cell \u001b[0;32mIn[2], line 3\u001b[0m\n\u001b[1;32m      1\u001b[0m \u001b[38;5;28;01mfrom\u001b[39;00m \u001b[38;5;21;01mwcmi\u001b[39;00m \u001b[38;5;28;01mimport\u001b[39;00m VegParamCal\n\u001b[0;32m----> 3\u001b[0m opt_obj \u001b[38;5;241m=\u001b[39m \u001b[43mVegParamCal\u001b[49m\u001b[43m(\u001b[49m\u001b[43mdir_radar_sigma\u001b[49m\u001b[38;5;241;43m=\u001b[39;49m\u001b[38;5;124;43m'\u001b[39;49m\u001b[38;5;124;43m../datasets/backscatter/\u001b[39;49m\u001b[38;5;124;43m'\u001b[39;49m\u001b[43m,\u001b[49m\u001b[43m \u001b[49m\n\u001b[1;32m      4\u001b[0m \u001b[43m                      \u001b[49m\u001b[43mdir_risma\u001b[49m\u001b[38;5;241;43m=\u001b[39;49m\u001b[38;5;124;43m'\u001b[39;49m\u001b[38;5;124;43m../datasets/RISMA/\u001b[39;49m\u001b[38;5;124;43m'\u001b[39;49m\u001b[43m,\u001b[49m\u001b[43m \u001b[49m\n\u001b[1;32m      5\u001b[0m \u001b[43m                      \u001b[49m\u001b[43maafc_croptype\u001b[49m\u001b[38;5;241;43m=\u001b[39;49m\u001b[43m[\u001b[49m\u001b[38;5;241;43m158\u001b[39;49m\u001b[43m,\u001b[49m\u001b[43m \u001b[49m\u001b[43m]\u001b[49m\u001b[43m,\u001b[49m\u001b[43m \u001b[49m\n\u001b[1;32m      6\u001b[0m \u001b[43m                      \u001b[49m\u001b[43mrisma_station\u001b[49m\u001b[38;5;241;43m=\u001b[39;49m\u001b[43m[\u001b[49m\u001b[38;5;124;43m'\u001b[39;49m\u001b[38;5;124;43mMB5\u001b[39;49m\u001b[38;5;124;43m'\u001b[39;49m\u001b[43m,\u001b[49m\u001b[43m \u001b[49m\u001b[43m]\u001b[49m\u001b[43m,\u001b[49m\u001b[43m \u001b[49m\n\u001b[1;32m      7\u001b[0m \u001b[43m                      \u001b[49m\u001b[43msensor_depth\u001b[49m\u001b[38;5;241;43m=\u001b[39;49m\u001b[43m[\u001b[49m\u001b[38;5;241;43m0\u001b[39;49m\u001b[43m,\u001b[49m\u001b[43m \u001b[49m\u001b[38;5;241;43m5\u001b[39;49m\u001b[43m]\u001b[49m\u001b[43m)\u001b[49m\n\u001b[1;32m      8\u001b[0m wcm_param \u001b[38;5;241m=\u001b[39m opt_obj\u001b[38;5;241m.\u001b[39mrun()\n\u001b[1;32m      9\u001b[0m \u001b[38;5;28mprint\u001b[39m(wcm_param)\n",
      "File \u001b[0;32m~/.local/lib/python3.11/site-packages/wcmi/core.py:49\u001b[0m, in \u001b[0;36mVegParamCal.__init__\u001b[0;34m(self, S1_freq_GHz, S1_local_overpass_time, year, dir_radar_sigma, dir_risma, aafc_croptype, risma_station, sensor_depth)\u001b[0m\n\u001b[1;32m     47\u001b[0m         df_doy_depth \u001b[38;5;241m=\u001b[39m \u001b[38;5;28mself\u001b[39m\u001b[38;5;241m.\u001b[39mread_risma_bulk_csv(risma_files[\u001b[38;5;241m0\u001b[39m], S1_lot\u001b[38;5;241m=\u001b[39mS1_local_overpass_time, depth\u001b[38;5;241m=\u001b[39mdp)\n\u001b[1;32m     48\u001b[0m         S1_sigma_df_ct \u001b[38;5;241m=\u001b[39m \u001b[38;5;28mself\u001b[39m\u001b[38;5;241m.\u001b[39mread_radar_backscatter(backscatter_files[\u001b[38;5;241m0\u001b[39m], croptype\u001b[38;5;241m=\u001b[39mct)\n\u001b[0;32m---> 49\u001b[0m         wcm_param_dp[dp] \u001b[38;5;241m=\u001b[39m \u001b[38;5;28;43mself\u001b[39;49m\u001b[38;5;241;43m.\u001b[39;49m\u001b[43mcalculate_WCM_param\u001b[49m\u001b[43m(\u001b[49m\u001b[43mdf_sigma\u001b[49m\u001b[38;5;241;43m=\u001b[39;49m\u001b[43mS1_sigma_df_ct\u001b[49m\u001b[43m,\u001b[49m\u001b[43m \u001b[49m\u001b[43mdf_risma\u001b[49m\u001b[38;5;241;43m=\u001b[39;49m\u001b[43mdf_doy_depth\u001b[49m\u001b[43m)\u001b[49m\n\u001b[1;32m     51\u001b[0m     wcm_param_ct[rst] \u001b[38;5;241m=\u001b[39m wcm_param_dp\n\u001b[1;32m     52\u001b[0m \u001b[38;5;28mself\u001b[39m\u001b[38;5;241m.\u001b[39mwcm_param_ct_st_dp[ct] \u001b[38;5;241m=\u001b[39m wcm_param_ct\n",
      "File \u001b[0;32m~/.local/lib/python3.11/site-packages/wcmi/core.py:323\u001b[0m, in \u001b[0;36mVegParamCal.calculate_WCM_param\u001b[0;34m(self, df_sigma, df_risma, default_wcm_params)\u001b[0m\n\u001b[1;32m    320\u001b[0m         categorized_angle_Bvv_mean \u001b[38;5;241m=\u001b[39m \u001b[38;5;28mdict\u001b[39m(\u001b[38;5;28mmap\u001b[39m(\u001b[38;5;28;01mlambda\u001b[39;00m el: (el[\u001b[38;5;241m0\u001b[39m], np\u001b[38;5;241m.\u001b[39marray(el[\u001b[38;5;241m1\u001b[39m])\u001b[38;5;241m.\u001b[39mmean()), categorized_angle_Bvv\u001b[38;5;241m.\u001b[39mitems()))\n\u001b[1;32m    322\u001b[0m         merged_angle_vv_soils_mvs \u001b[38;5;241m=\u001b[39m \u001b[38;5;28mself\u001b[39m\u001b[38;5;241m.\u001b[39mmergeDictionary(categorized_angle_vv_soil, categorized_angle_mvs)\n\u001b[0;32m--> 323\u001b[0m         categorized_angle_Cvv_Dvv \u001b[38;5;241m=\u001b[39m \u001b[38;5;28mdict\u001b[39m(\u001b[38;5;28mmap\u001b[39m(\u001b[38;5;28;01mlambda\u001b[39;00m el: (el[\u001b[38;5;241m0\u001b[39m], \u001b[38;5;28mself\u001b[39m\u001b[38;5;241m.\u001b[39mcurve_fit_Cvv_Dvv(np\u001b[38;5;241m.\u001b[39marray(el[\u001b[38;5;241m1\u001b[39m][\u001b[38;5;241m0\u001b[39m]), np\u001b[38;5;241m.\u001b[39marray(el[\u001b[38;5;241m1\u001b[39m][\u001b[38;5;241m1\u001b[39m]))), \n\u001b[1;32m    324\u001b[0m             merged_angle_vv_soils_mvs\u001b[38;5;241m.\u001b[39mitems()))\n\u001b[1;32m    325\u001b[0m         wcm_param_doy[day_of_year] \u001b[38;5;241m=\u001b[39m [categorized_angle_Avv_mean, categorized_angle_Bvv_mean, categorized_angle_Cvv_Dvv]\n\u001b[1;32m    327\u001b[0m \u001b[38;5;28;01mreturn\u001b[39;00m wcm_param_doy\n",
      "File \u001b[0;32m~/.local/lib/python3.11/site-packages/wcmi/core.py:323\u001b[0m, in \u001b[0;36mVegParamCal.calculate_WCM_param.<locals>.<lambda>\u001b[0;34m(el)\u001b[0m\n\u001b[1;32m    320\u001b[0m         categorized_angle_Bvv_mean \u001b[38;5;241m=\u001b[39m \u001b[38;5;28mdict\u001b[39m(\u001b[38;5;28mmap\u001b[39m(\u001b[38;5;28;01mlambda\u001b[39;00m el: (el[\u001b[38;5;241m0\u001b[39m], np\u001b[38;5;241m.\u001b[39marray(el[\u001b[38;5;241m1\u001b[39m])\u001b[38;5;241m.\u001b[39mmean()), categorized_angle_Bvv\u001b[38;5;241m.\u001b[39mitems()))\n\u001b[1;32m    322\u001b[0m         merged_angle_vv_soils_mvs \u001b[38;5;241m=\u001b[39m \u001b[38;5;28mself\u001b[39m\u001b[38;5;241m.\u001b[39mmergeDictionary(categorized_angle_vv_soil, categorized_angle_mvs)\n\u001b[0;32m--> 323\u001b[0m         categorized_angle_Cvv_Dvv \u001b[38;5;241m=\u001b[39m \u001b[38;5;28mdict\u001b[39m(\u001b[38;5;28mmap\u001b[39m(\u001b[38;5;28;01mlambda\u001b[39;00m el: (el[\u001b[38;5;241m0\u001b[39m], \u001b[38;5;28;43mself\u001b[39;49m\u001b[38;5;241;43m.\u001b[39;49m\u001b[43mcurve_fit_Cvv_Dvv\u001b[49m\u001b[43m(\u001b[49m\u001b[43mnp\u001b[49m\u001b[38;5;241;43m.\u001b[39;49m\u001b[43marray\u001b[49m\u001b[43m(\u001b[49m\u001b[43mel\u001b[49m\u001b[43m[\u001b[49m\u001b[38;5;241;43m1\u001b[39;49m\u001b[43m]\u001b[49m\u001b[43m[\u001b[49m\u001b[38;5;241;43m0\u001b[39;49m\u001b[43m]\u001b[49m\u001b[43m)\u001b[49m\u001b[43m,\u001b[49m\u001b[43m \u001b[49m\u001b[43mnp\u001b[49m\u001b[38;5;241;43m.\u001b[39;49m\u001b[43marray\u001b[49m\u001b[43m(\u001b[49m\u001b[43mel\u001b[49m\u001b[43m[\u001b[49m\u001b[38;5;241;43m1\u001b[39;49m\u001b[43m]\u001b[49m\u001b[43m[\u001b[49m\u001b[38;5;241;43m1\u001b[39;49m\u001b[43m]\u001b[49m\u001b[43m)\u001b[49m\u001b[43m)\u001b[49m), \n\u001b[1;32m    324\u001b[0m             merged_angle_vv_soils_mvs\u001b[38;5;241m.\u001b[39mitems()))\n\u001b[1;32m    325\u001b[0m         wcm_param_doy[day_of_year] \u001b[38;5;241m=\u001b[39m [categorized_angle_Avv_mean, categorized_angle_Bvv_mean, categorized_angle_Cvv_Dvv]\n\u001b[1;32m    327\u001b[0m \u001b[38;5;28;01mreturn\u001b[39;00m wcm_param_doy\n",
      "File \u001b[0;32m~/.local/lib/python3.11/site-packages/wcmi/core.py:81\u001b[0m, in \u001b[0;36mVegParamCal.curve_fit_Cvv_Dvv\u001b[0;34m(self, x_arr, y_arr)\u001b[0m\n\u001b[1;32m     80\u001b[0m \u001b[38;5;28;01mdef\u001b[39;00m \u001b[38;5;21mcurve_fit_Cvv_Dvv\u001b[39m(\u001b[38;5;28mself\u001b[39m, x_arr, y_arr):\n\u001b[0;32m---> 81\u001b[0m     params, covariance \u001b[38;5;241m=\u001b[39m curve_fit(\u001b[43mexp_func\u001b[49m, x_arr, y_arr)\n\u001b[1;32m     82\u001b[0m     Cvv, Dvv \u001b[38;5;241m=\u001b[39m params\n\u001b[1;32m     83\u001b[0m     \u001b[38;5;28;01mreturn\u001b[39;00m Cvv, Dvv\n",
      "\u001b[0;31mNameError\u001b[0m: name 'exp_func' is not defined"
     ]
    }
   ],
   "source": [
    "from wcmi import VegParamCal\n",
    "\n",
    "opt_obj = VegParamCal(dir_radar_sigma='../datasets/backscatter/', \n",
    "                      dir_risma='../datasets/RISMA/', \n",
    "                      aafc_croptype=[158, ], \n",
    "                      risma_station=['MB5', ], \n",
    "                      sensor_depth=[0, 5])\n",
    "wcm_param = opt_obj.run()\n",
    "print(wcm_param)"
   ]
  },
  {
   "cell_type": "code",
   "execution_count": 3,
   "id": "ba08e842-3bba-482b-81a5-492421ba8ce6",
   "metadata": {},
   "outputs": [
    {
     "data": {
      "text/plain": [
       "[{34: np.float64(0.28425770708816844),\n",
       "  32: np.float64(0.2869220369912305),\n",
       "  31: np.float64(0.2935595385301648),\n",
       "  33: np.float64(0.2929047192175405),\n",
       "  35: np.float64(0.30731422450499857),\n",
       "  36: np.float64(0.2527296258490607),\n",
       "  30: np.float64(0.2637314776317429)},\n",
       " {34: np.float64(0.014093485241817642),\n",
       "  32: np.float64(0.010229133059048455),\n",
       "  31: np.float64(0.00795447514533129),\n",
       "  33: np.float64(0.009323742839752144),\n",
       "  35: np.float64(0.011450505077768106),\n",
       "  36: np.float64(0.015603219157362692),\n",
       "  30: np.float64(0.005282797868243712)},\n",
       " {34: ((108,), (108,)),\n",
       "  32: ((129,), (129,)),\n",
       "  31: ((62,), (62,)),\n",
       "  33: ((105,), (105,)),\n",
       "  35: ((80,), (80,)),\n",
       "  36: ((9,), (9,)),\n",
       "  30: ((7,), (7,))}]"
      ]
     },
     "execution_count": 3,
     "metadata": {},
     "output_type": "execute_result"
    }
   ],
   "source": [
    "angle_doy = wcm_param[158]['MB5'][5][222]\n",
    "angle_doy"
   ]
  },
  {
   "cell_type": "code",
   "execution_count": 10,
   "id": "4bce07e9-5701-40cb-8db7-9c65e1726446",
   "metadata": {},
   "outputs": [],
   "source": [
    "def mergeDictionary(dict_1, dict_2):\n",
    "   dict_3 = {**dict_1, **dict_2}\n",
    "   for key, value in dict_3.items():\n",
    "       if key in dict_1 and key in dict_2:\n",
    "               dict_3[key] = [value , dict_1[key]]\n",
    "   return dict_3"
   ]
  },
  {
   "cell_type": "code",
   "execution_count": 11,
   "id": "04c57db9-bce4-4562-87e8-4e29f100484c",
   "metadata": {},
   "outputs": [
    {
     "name": "stdout",
     "output_type": "stream",
     "text": [
      "{34: [np.float64(0.014093485241817642), np.float64(0.28425770708816844)], 32: [np.float64(0.010229133059048455), np.float64(0.2869220369912305)], 31: [np.float64(0.00795447514533129), np.float64(0.2935595385301648)], 33: [np.float64(0.009323742839752144), np.float64(0.2929047192175405)], 35: [np.float64(0.011450505077768106), np.float64(0.30731422450499857)], 36: [np.float64(0.015603219157362692), np.float64(0.2527296258490607)], 30: [np.float64(0.005282797868243712), np.float64(0.2637314776317429)]}\n"
     ]
    }
   ],
   "source": [
    "dict_3 = mergeDictionary(angle_doy[0], angle_doy[1])\n",
    "print(dict_3)"
   ]
  },
  {
   "cell_type": "code",
   "execution_count": 17,
   "id": "a5d863f0-6288-4d75-b758-1faab702407e",
   "metadata": {},
   "outputs": [
    {
     "name": "stdout",
     "output_type": "stream",
     "text": [
      "ChainMap({34: np.float64(0.28425770708816844), 32: np.float64(0.2869220369912305), 31: np.float64(0.2935595385301648), 33: np.float64(0.2929047192175405), 35: np.float64(0.30731422450499857), 36: np.float64(0.2527296258490607), 30: np.float64(0.2637314776317429)}, {34: np.float64(0.014093485241817642), 32: np.float64(0.010229133059048455), 31: np.float64(0.00795447514533129), 33: np.float64(0.009323742839752144), 35: np.float64(0.011450505077768106), 36: np.float64(0.015603219157362692), 30: np.float64(0.005282797868243712)})\n"
     ]
    }
   ],
   "source": [
    "from collections import ChainMap\n",
    "\n",
    "dict_3 = ChainMap(angle_doy[0], angle_doy[1])\n",
    "print(dict_3)"
   ]
  },
  {
   "cell_type": "code",
   "execution_count": null,
   "id": "44c656ee-2bf5-48fb-af2c-274504af3be7",
   "metadata": {},
   "outputs": [],
   "source": []
  }
 ],
 "metadata": {
  "kernelspec": {
   "display_name": "Python 3 (ipykernel)",
   "language": "python",
   "name": "python3"
  },
  "language_info": {
   "codemirror_mode": {
    "name": "ipython",
    "version": 3
   },
   "file_extension": ".py",
   "mimetype": "text/x-python",
   "name": "python",
   "nbconvert_exporter": "python",
   "pygments_lexer": "ipython3",
   "version": "3.11.2"
  }
 },
 "nbformat": 4,
 "nbformat_minor": 5
}
