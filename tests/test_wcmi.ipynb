{
 "cells": [
  {
   "cell_type": "code",
   "execution_count": 1,
   "id": "48d28fa0-b4f4-46cc-ac68-0b70a8f2330e",
   "metadata": {},
   "outputs": [],
   "source": [
    "import numpy as np"
   ]
  },
  {
   "cell_type": "code",
   "execution_count": 2,
   "id": "190100ee-023c-42f8-9a3d-588f612d3fd1",
   "metadata": {},
   "outputs": [
    {
     "name": "stdout",
     "output_type": "stream",
     "text": [
      "2020-01-06 00:00:00, doy: 6\n"
     ]
    },
    {
     "name": "stderr",
     "output_type": "stream",
     "text": [
      "/home/morteza/.local/lib/python3.11/site-packages/wcmi/core.py:82: RuntimeWarning: invalid value encountered in log\n",
      "  return c * np.log(d * x + 1e-9) #add a small value to avoid log(0)\n",
      "/home/morteza/.local/lib/python3.11/site-packages/wcmi/core.py:85: OptimizeWarning: Covariance of the parameters could not be estimated\n",
      "  params, covariance = curve_fit(exp_func, x_arr, y_arr)\n"
     ]
    },
    {
     "name": "stdout",
     "output_type": "stream",
     "text": [
      "2020-01-11 00:00:00, doy: 11\n"
     ]
    },
    {
     "name": "stderr",
     "output_type": "stream",
     "text": [
      "/home/morteza/.local/lib/python3.11/site-packages/wcmi/core.py:82: RuntimeWarning: invalid value encountered in log\n",
      "  return c * np.log(d * x + 1e-9) #add a small value to avoid log(0)\n"
     ]
    },
    {
     "name": "stdout",
     "output_type": "stream",
     "text": [
      "2020-01-18 00:00:00, doy: 18\n"
     ]
    },
    {
     "name": "stderr",
     "output_type": "stream",
     "text": [
      "/home/morteza/.local/lib/python3.11/site-packages/wcmi/core.py:82: RuntimeWarning: invalid value encountered in log\n",
      "  return c * np.log(d * x + 1e-9) #add a small value to avoid log(0)\n"
     ]
    },
    {
     "name": "stdout",
     "output_type": "stream",
     "text": [
      "2020-01-23 00:00:00, doy: 23\n"
     ]
    },
    {
     "name": "stderr",
     "output_type": "stream",
     "text": [
      "/home/morteza/.local/lib/python3.11/site-packages/wcmi/core.py:82: RuntimeWarning: invalid value encountered in log\n",
      "  return c * np.log(d * x + 1e-9) #add a small value to avoid log(0)\n"
     ]
    },
    {
     "name": "stdout",
     "output_type": "stream",
     "text": [
      "2020-01-30 00:00:00, doy: 30\n"
     ]
    },
    {
     "name": "stderr",
     "output_type": "stream",
     "text": [
      "/home/morteza/.local/lib/python3.11/site-packages/wcmi/core.py:82: RuntimeWarning: invalid value encountered in log\n",
      "  return c * np.log(d * x + 1e-9) #add a small value to avoid log(0)\n",
      "/home/morteza/.local/lib/python3.11/site-packages/wcmi/core.py:85: OptimizeWarning: Covariance of the parameters could not be estimated\n",
      "  params, covariance = curve_fit(exp_func, x_arr, y_arr)\n"
     ]
    },
    {
     "name": "stdout",
     "output_type": "stream",
     "text": [
      "2020-02-04 00:00:00, doy: 35\n"
     ]
    },
    {
     "name": "stderr",
     "output_type": "stream",
     "text": [
      "/home/morteza/.local/lib/python3.11/site-packages/wcmi/core.py:82: RuntimeWarning: invalid value encountered in log\n",
      "  return c * np.log(d * x + 1e-9) #add a small value to avoid log(0)\n"
     ]
    },
    {
     "name": "stdout",
     "output_type": "stream",
     "text": [
      "2020-02-11 00:00:00, doy: 42\n"
     ]
    },
    {
     "name": "stderr",
     "output_type": "stream",
     "text": [
      "/home/morteza/.local/lib/python3.11/site-packages/wcmi/core.py:82: RuntimeWarning: invalid value encountered in log\n",
      "  return c * np.log(d * x + 1e-9) #add a small value to avoid log(0)\n"
     ]
    },
    {
     "name": "stdout",
     "output_type": "stream",
     "text": [
      "2020-02-16 00:00:00, doy: 47\n"
     ]
    },
    {
     "name": "stderr",
     "output_type": "stream",
     "text": [
      "/home/morteza/.local/lib/python3.11/site-packages/wcmi/core.py:82: RuntimeWarning: invalid value encountered in log\n",
      "  return c * np.log(d * x + 1e-9) #add a small value to avoid log(0)\n"
     ]
    },
    {
     "name": "stdout",
     "output_type": "stream",
     "text": [
      "2020-02-23 00:00:00, doy: 54\n"
     ]
    },
    {
     "name": "stderr",
     "output_type": "stream",
     "text": [
      "/home/morteza/.local/lib/python3.11/site-packages/wcmi/core.py:82: RuntimeWarning: invalid value encountered in log\n",
      "  return c * np.log(d * x + 1e-9) #add a small value to avoid log(0)\n"
     ]
    },
    {
     "name": "stdout",
     "output_type": "stream",
     "text": [
      "2020-03-11 00:00:00, doy: 71\n"
     ]
    },
    {
     "name": "stderr",
     "output_type": "stream",
     "text": [
      "/home/morteza/.local/lib/python3.11/site-packages/wcmi/core.py:82: RuntimeWarning: invalid value encountered in log\n",
      "  return c * np.log(d * x + 1e-9) #add a small value to avoid log(0)\n"
     ]
    },
    {
     "name": "stdout",
     "output_type": "stream",
     "text": [
      "2020-03-18 00:00:00, doy: 78\n"
     ]
    },
    {
     "name": "stderr",
     "output_type": "stream",
     "text": [
      "/home/morteza/.local/lib/python3.11/site-packages/wcmi/core.py:82: RuntimeWarning: invalid value encountered in log\n",
      "  return c * np.log(d * x + 1e-9) #add a small value to avoid log(0)\n"
     ]
    },
    {
     "name": "stdout",
     "output_type": "stream",
     "text": [
      "2020-03-30 00:00:00, doy: 90\n"
     ]
    },
    {
     "name": "stderr",
     "output_type": "stream",
     "text": [
      "/home/morteza/.local/lib/python3.11/site-packages/wcmi/core.py:82: RuntimeWarning: invalid value encountered in log\n",
      "  return c * np.log(d * x + 1e-9) #add a small value to avoid log(0)\n"
     ]
    },
    {
     "name": "stdout",
     "output_type": "stream",
     "text": [
      "2020-04-04 00:00:00, doy: 95\n"
     ]
    },
    {
     "name": "stderr",
     "output_type": "stream",
     "text": [
      "/home/morteza/.local/lib/python3.11/site-packages/wcmi/core.py:82: RuntimeWarning: invalid value encountered in log\n",
      "  return c * np.log(d * x + 1e-9) #add a small value to avoid log(0)\n"
     ]
    },
    {
     "name": "stdout",
     "output_type": "stream",
     "text": [
      "2020-04-11 00:00:00, doy: 102\n"
     ]
    },
    {
     "name": "stderr",
     "output_type": "stream",
     "text": [
      "/home/morteza/.local/lib/python3.11/site-packages/wcmi/core.py:82: RuntimeWarning: invalid value encountered in log\n",
      "  return c * np.log(d * x + 1e-9) #add a small value to avoid log(0)\n"
     ]
    },
    {
     "name": "stdout",
     "output_type": "stream",
     "text": [
      "2020-04-16 00:00:00, doy: 107\n"
     ]
    },
    {
     "name": "stderr",
     "output_type": "stream",
     "text": [
      "/home/morteza/.local/lib/python3.11/site-packages/wcmi/core.py:82: RuntimeWarning: invalid value encountered in log\n",
      "  return c * np.log(d * x + 1e-9) #add a small value to avoid log(0)\n"
     ]
    },
    {
     "name": "stdout",
     "output_type": "stream",
     "text": [
      "2020-04-28 00:00:00, doy: 119\n"
     ]
    },
    {
     "name": "stderr",
     "output_type": "stream",
     "text": [
      "/home/morteza/.local/lib/python3.11/site-packages/wcmi/core.py:82: RuntimeWarning: invalid value encountered in log\n",
      "  return c * np.log(d * x + 1e-9) #add a small value to avoid log(0)\n"
     ]
    },
    {
     "name": "stdout",
     "output_type": "stream",
     "text": [
      "2020-05-10 00:00:00, doy: 131\n"
     ]
    },
    {
     "name": "stderr",
     "output_type": "stream",
     "text": [
      "/home/morteza/.local/lib/python3.11/site-packages/wcmi/core.py:82: RuntimeWarning: invalid value encountered in log\n",
      "  return c * np.log(d * x + 1e-9) #add a small value to avoid log(0)\n"
     ]
    },
    {
     "name": "stdout",
     "output_type": "stream",
     "text": [
      "2020-05-17 00:00:00, doy: 138\n"
     ]
    },
    {
     "name": "stderr",
     "output_type": "stream",
     "text": [
      "/home/morteza/.local/lib/python3.11/site-packages/wcmi/core.py:82: RuntimeWarning: invalid value encountered in log\n",
      "  return c * np.log(d * x + 1e-9) #add a small value to avoid log(0)\n"
     ]
    },
    {
     "name": "stdout",
     "output_type": "stream",
     "text": [
      "2020-05-29 00:00:00, doy: 150\n"
     ]
    },
    {
     "name": "stderr",
     "output_type": "stream",
     "text": [
      "/home/morteza/.local/lib/python3.11/site-packages/wcmi/core.py:82: RuntimeWarning: invalid value encountered in log\n",
      "  return c * np.log(d * x + 1e-9) #add a small value to avoid log(0)\n"
     ]
    },
    {
     "name": "stdout",
     "output_type": "stream",
     "text": [
      "2020-06-03 00:00:00, doy: 155\n"
     ]
    },
    {
     "name": "stderr",
     "output_type": "stream",
     "text": [
      "/home/morteza/.local/lib/python3.11/site-packages/wcmi/core.py:82: RuntimeWarning: invalid value encountered in log\n",
      "  return c * np.log(d * x + 1e-9) #add a small value to avoid log(0)\n"
     ]
    },
    {
     "name": "stdout",
     "output_type": "stream",
     "text": [
      "2020-06-10 00:00:00, doy: 162\n"
     ]
    },
    {
     "name": "stderr",
     "output_type": "stream",
     "text": [
      "/home/morteza/.local/lib/python3.11/site-packages/wcmi/core.py:82: RuntimeWarning: invalid value encountered in log\n",
      "  return c * np.log(d * x + 1e-9) #add a small value to avoid log(0)\n"
     ]
    },
    {
     "name": "stdout",
     "output_type": "stream",
     "text": [
      "2020-06-15 00:00:00, doy: 167\n"
     ]
    },
    {
     "name": "stderr",
     "output_type": "stream",
     "text": [
      "/home/morteza/.local/lib/python3.11/site-packages/wcmi/core.py:82: RuntimeWarning: invalid value encountered in log\n",
      "  return c * np.log(d * x + 1e-9) #add a small value to avoid log(0)\n"
     ]
    },
    {
     "name": "stdout",
     "output_type": "stream",
     "text": [
      "2020-06-22 00:00:00, doy: 174\n"
     ]
    },
    {
     "name": "stderr",
     "output_type": "stream",
     "text": [
      "/home/morteza/.local/lib/python3.11/site-packages/wcmi/core.py:82: RuntimeWarning: invalid value encountered in log\n",
      "  return c * np.log(d * x + 1e-9) #add a small value to avoid log(0)\n"
     ]
    },
    {
     "name": "stdout",
     "output_type": "stream",
     "text": [
      "2020-06-27 00:00:00, doy: 179\n"
     ]
    },
    {
     "name": "stderr",
     "output_type": "stream",
     "text": [
      "/home/morteza/.local/lib/python3.11/site-packages/wcmi/core.py:82: RuntimeWarning: invalid value encountered in log\n",
      "  return c * np.log(d * x + 1e-9) #add a small value to avoid log(0)\n"
     ]
    },
    {
     "name": "stdout",
     "output_type": "stream",
     "text": [
      "2020-07-04 00:00:00, doy: 186\n"
     ]
    },
    {
     "name": "stderr",
     "output_type": "stream",
     "text": [
      "/home/morteza/.local/lib/python3.11/site-packages/wcmi/core.py:82: RuntimeWarning: invalid value encountered in log\n",
      "  return c * np.log(d * x + 1e-9) #add a small value to avoid log(0)\n"
     ]
    },
    {
     "name": "stdout",
     "output_type": "stream",
     "text": [
      "2020-07-09 00:00:00, doy: 191\n"
     ]
    },
    {
     "name": "stderr",
     "output_type": "stream",
     "text": [
      "/home/morteza/.local/lib/python3.11/site-packages/wcmi/core.py:82: RuntimeWarning: invalid value encountered in log\n",
      "  return c * np.log(d * x + 1e-9) #add a small value to avoid log(0)\n"
     ]
    },
    {
     "name": "stdout",
     "output_type": "stream",
     "text": [
      "2020-07-16 00:00:00, doy: 198\n"
     ]
    },
    {
     "name": "stderr",
     "output_type": "stream",
     "text": [
      "/home/morteza/.local/lib/python3.11/site-packages/wcmi/core.py:82: RuntimeWarning: invalid value encountered in log\n",
      "  return c * np.log(d * x + 1e-9) #add a small value to avoid log(0)\n"
     ]
    },
    {
     "name": "stdout",
     "output_type": "stream",
     "text": [
      "2020-07-21 00:00:00, doy: 203\n"
     ]
    },
    {
     "name": "stderr",
     "output_type": "stream",
     "text": [
      "/home/morteza/.local/lib/python3.11/site-packages/wcmi/core.py:82: RuntimeWarning: invalid value encountered in log\n",
      "  return c * np.log(d * x + 1e-9) #add a small value to avoid log(0)\n"
     ]
    },
    {
     "name": "stdout",
     "output_type": "stream",
     "text": [
      "2020-07-28 00:00:00, doy: 210\n"
     ]
    },
    {
     "name": "stderr",
     "output_type": "stream",
     "text": [
      "/home/morteza/.local/lib/python3.11/site-packages/wcmi/core.py:82: RuntimeWarning: invalid value encountered in log\n",
      "  return c * np.log(d * x + 1e-9) #add a small value to avoid log(0)\n"
     ]
    },
    {
     "name": "stdout",
     "output_type": "stream",
     "text": [
      "2020-08-02 00:00:00, doy: 215\n"
     ]
    },
    {
     "name": "stderr",
     "output_type": "stream",
     "text": [
      "/home/morteza/.local/lib/python3.11/site-packages/wcmi/core.py:82: RuntimeWarning: invalid value encountered in log\n",
      "  return c * np.log(d * x + 1e-9) #add a small value to avoid log(0)\n"
     ]
    },
    {
     "name": "stdout",
     "output_type": "stream",
     "text": [
      "2020-08-09 00:00:00, doy: 222\n"
     ]
    },
    {
     "name": "stderr",
     "output_type": "stream",
     "text": [
      "/home/morteza/.local/lib/python3.11/site-packages/wcmi/core.py:82: RuntimeWarning: invalid value encountered in log\n",
      "  return c * np.log(d * x + 1e-9) #add a small value to avoid log(0)\n"
     ]
    },
    {
     "name": "stdout",
     "output_type": "stream",
     "text": [
      "2020-08-14 00:00:00, doy: 227\n"
     ]
    },
    {
     "name": "stderr",
     "output_type": "stream",
     "text": [
      "/home/morteza/.local/lib/python3.11/site-packages/wcmi/core.py:82: RuntimeWarning: invalid value encountered in log\n",
      "  return c * np.log(d * x + 1e-9) #add a small value to avoid log(0)\n"
     ]
    },
    {
     "name": "stdout",
     "output_type": "stream",
     "text": [
      "2020-08-21 00:00:00, doy: 234\n"
     ]
    },
    {
     "name": "stderr",
     "output_type": "stream",
     "text": [
      "/home/morteza/.local/lib/python3.11/site-packages/wcmi/core.py:82: RuntimeWarning: invalid value encountered in log\n",
      "  return c * np.log(d * x + 1e-9) #add a small value to avoid log(0)\n"
     ]
    },
    {
     "name": "stdout",
     "output_type": "stream",
     "text": [
      "2020-08-26 00:00:00, doy: 239\n"
     ]
    },
    {
     "name": "stderr",
     "output_type": "stream",
     "text": [
      "/home/morteza/.local/lib/python3.11/site-packages/wcmi/core.py:82: RuntimeWarning: invalid value encountered in log\n",
      "  return c * np.log(d * x + 1e-9) #add a small value to avoid log(0)\n"
     ]
    },
    {
     "name": "stdout",
     "output_type": "stream",
     "text": [
      "2020-09-02 00:00:00, doy: 246\n"
     ]
    },
    {
     "name": "stderr",
     "output_type": "stream",
     "text": [
      "/home/morteza/.local/lib/python3.11/site-packages/wcmi/core.py:82: RuntimeWarning: invalid value encountered in log\n",
      "  return c * np.log(d * x + 1e-9) #add a small value to avoid log(0)\n"
     ]
    },
    {
     "name": "stdout",
     "output_type": "stream",
     "text": [
      "2020-09-07 00:00:00, doy: 251\n"
     ]
    },
    {
     "name": "stderr",
     "output_type": "stream",
     "text": [
      "/home/morteza/.local/lib/python3.11/site-packages/wcmi/core.py:82: RuntimeWarning: invalid value encountered in log\n",
      "  return c * np.log(d * x + 1e-9) #add a small value to avoid log(0)\n"
     ]
    },
    {
     "name": "stdout",
     "output_type": "stream",
     "text": [
      "2020-09-14 00:00:00, doy: 258\n"
     ]
    },
    {
     "name": "stderr",
     "output_type": "stream",
     "text": [
      "/home/morteza/.local/lib/python3.11/site-packages/wcmi/core.py:82: RuntimeWarning: invalid value encountered in log\n",
      "  return c * np.log(d * x + 1e-9) #add a small value to avoid log(0)\n"
     ]
    },
    {
     "name": "stdout",
     "output_type": "stream",
     "text": [
      "2020-09-26 00:00:00, doy: 270\n"
     ]
    },
    {
     "name": "stderr",
     "output_type": "stream",
     "text": [
      "/home/morteza/.local/lib/python3.11/site-packages/wcmi/core.py:82: RuntimeWarning: invalid value encountered in log\n",
      "  return c * np.log(d * x + 1e-9) #add a small value to avoid log(0)\n"
     ]
    },
    {
     "name": "stdout",
     "output_type": "stream",
     "text": [
      "2020-10-01 00:00:00, doy: 275\n"
     ]
    },
    {
     "name": "stderr",
     "output_type": "stream",
     "text": [
      "/home/morteza/.local/lib/python3.11/site-packages/wcmi/core.py:82: RuntimeWarning: invalid value encountered in log\n",
      "  return c * np.log(d * x + 1e-9) #add a small value to avoid log(0)\n"
     ]
    },
    {
     "name": "stdout",
     "output_type": "stream",
     "text": [
      "2020-10-08 00:00:00, doy: 282\n"
     ]
    },
    {
     "name": "stderr",
     "output_type": "stream",
     "text": [
      "/home/morteza/.local/lib/python3.11/site-packages/wcmi/core.py:82: RuntimeWarning: invalid value encountered in log\n",
      "  return c * np.log(d * x + 1e-9) #add a small value to avoid log(0)\n"
     ]
    },
    {
     "name": "stdout",
     "output_type": "stream",
     "text": [
      "2020-10-13 00:00:00, doy: 287\n"
     ]
    },
    {
     "name": "stderr",
     "output_type": "stream",
     "text": [
      "/home/morteza/.local/lib/python3.11/site-packages/wcmi/core.py:82: RuntimeWarning: invalid value encountered in log\n",
      "  return c * np.log(d * x + 1e-9) #add a small value to avoid log(0)\n"
     ]
    },
    {
     "name": "stdout",
     "output_type": "stream",
     "text": [
      "2020-10-20 00:00:00, doy: 294\n"
     ]
    },
    {
     "name": "stderr",
     "output_type": "stream",
     "text": [
      "/home/morteza/.local/lib/python3.11/site-packages/wcmi/core.py:82: RuntimeWarning: invalid value encountered in log\n",
      "  return c * np.log(d * x + 1e-9) #add a small value to avoid log(0)\n"
     ]
    },
    {
     "name": "stdout",
     "output_type": "stream",
     "text": [
      "2020-10-25 00:00:00, doy: 299\n"
     ]
    },
    {
     "name": "stderr",
     "output_type": "stream",
     "text": [
      "/home/morteza/.local/lib/python3.11/site-packages/wcmi/core.py:82: RuntimeWarning: invalid value encountered in log\n",
      "  return c * np.log(d * x + 1e-9) #add a small value to avoid log(0)\n"
     ]
    },
    {
     "name": "stdout",
     "output_type": "stream",
     "text": [
      "2020-11-01 00:00:00, doy: 306\n"
     ]
    },
    {
     "name": "stderr",
     "output_type": "stream",
     "text": [
      "/home/morteza/.local/lib/python3.11/site-packages/wcmi/core.py:82: RuntimeWarning: invalid value encountered in log\n",
      "  return c * np.log(d * x + 1e-9) #add a small value to avoid log(0)\n",
      "/home/morteza/.local/lib/python3.11/site-packages/wcmi/core.py:82: RuntimeWarning: invalid value encountered in log\n",
      "  return c * np.log(d * x + 1e-9) #add a small value to avoid log(0)\n"
     ]
    },
    {
     "name": "stdout",
     "output_type": "stream",
     "text": [
      "2020-11-06 00:00:00, doy: 311\n",
      "2020-11-13 00:00:00, doy: 318\n"
     ]
    },
    {
     "name": "stderr",
     "output_type": "stream",
     "text": [
      "/home/morteza/.local/lib/python3.11/site-packages/wcmi/core.py:82: RuntimeWarning: invalid value encountered in log\n",
      "  return c * np.log(d * x + 1e-9) #add a small value to avoid log(0)\n",
      "/home/morteza/.local/lib/python3.11/site-packages/wcmi/core.py:85: OptimizeWarning: Covariance of the parameters could not be estimated\n",
      "  params, covariance = curve_fit(exp_func, x_arr, y_arr)\n"
     ]
    },
    {
     "name": "stdout",
     "output_type": "stream",
     "text": [
      "2020-11-18 00:00:00, doy: 323\n"
     ]
    },
    {
     "name": "stderr",
     "output_type": "stream",
     "text": [
      "/home/morteza/.local/lib/python3.11/site-packages/wcmi/core.py:82: RuntimeWarning: invalid value encountered in log\n",
      "  return c * np.log(d * x + 1e-9) #add a small value to avoid log(0)\n"
     ]
    },
    {
     "name": "stdout",
     "output_type": "stream",
     "text": [
      "2020-11-25 00:00:00, doy: 330\n"
     ]
    },
    {
     "name": "stderr",
     "output_type": "stream",
     "text": [
      "/home/morteza/.local/lib/python3.11/site-packages/wcmi/core.py:82: RuntimeWarning: invalid value encountered in log\n",
      "  return c * np.log(d * x + 1e-9) #add a small value to avoid log(0)\n"
     ]
    },
    {
     "name": "stdout",
     "output_type": "stream",
     "text": [
      "2020-11-30 00:00:00, doy: 335\n"
     ]
    },
    {
     "name": "stderr",
     "output_type": "stream",
     "text": [
      "/home/morteza/.local/lib/python3.11/site-packages/wcmi/core.py:82: RuntimeWarning: invalid value encountered in log\n",
      "  return c * np.log(d * x + 1e-9) #add a small value to avoid log(0)\n"
     ]
    },
    {
     "name": "stdout",
     "output_type": "stream",
     "text": [
      "2020-12-07 00:00:00, doy: 342\n"
     ]
    },
    {
     "name": "stderr",
     "output_type": "stream",
     "text": [
      "/home/morteza/.local/lib/python3.11/site-packages/wcmi/core.py:82: RuntimeWarning: invalid value encountered in log\n",
      "  return c * np.log(d * x + 1e-9) #add a small value to avoid log(0)\n",
      "/home/morteza/.local/lib/python3.11/site-packages/wcmi/core.py:85: OptimizeWarning: Covariance of the parameters could not be estimated\n",
      "  params, covariance = curve_fit(exp_func, x_arr, y_arr)\n"
     ]
    },
    {
     "name": "stdout",
     "output_type": "stream",
     "text": [
      "2020-12-12 00:00:00, doy: 347\n"
     ]
    },
    {
     "name": "stderr",
     "output_type": "stream",
     "text": [
      "/home/morteza/.local/lib/python3.11/site-packages/wcmi/core.py:82: RuntimeWarning: invalid value encountered in log\n",
      "  return c * np.log(d * x + 1e-9) #add a small value to avoid log(0)\n"
     ]
    },
    {
     "name": "stdout",
     "output_type": "stream",
     "text": [
      "2020-12-19 00:00:00, doy: 354\n"
     ]
    },
    {
     "name": "stderr",
     "output_type": "stream",
     "text": [
      "/home/morteza/.local/lib/python3.11/site-packages/wcmi/core.py:82: RuntimeWarning: invalid value encountered in log\n",
      "  return c * np.log(d * x + 1e-9) #add a small value to avoid log(0)\n"
     ]
    },
    {
     "name": "stdout",
     "output_type": "stream",
     "text": [
      "2020-12-24 00:00:00, doy: 359\n"
     ]
    },
    {
     "name": "stderr",
     "output_type": "stream",
     "text": [
      "/home/morteza/.local/lib/python3.11/site-packages/wcmi/core.py:82: RuntimeWarning: invalid value encountered in log\n",
      "  return c * np.log(d * x + 1e-9) #add a small value to avoid log(0)\n"
     ]
    },
    {
     "name": "stdout",
     "output_type": "stream",
     "text": [
      "2020-01-06 00:00:00, doy: 6\n"
     ]
    },
    {
     "name": "stderr",
     "output_type": "stream",
     "text": [
      "/home/morteza/.local/lib/python3.11/site-packages/wcmi/core.py:82: RuntimeWarning: invalid value encountered in log\n",
      "  return c * np.log(d * x + 1e-9) #add a small value to avoid log(0)\n",
      "/home/morteza/.local/lib/python3.11/site-packages/wcmi/core.py:85: OptimizeWarning: Covariance of the parameters could not be estimated\n",
      "  params, covariance = curve_fit(exp_func, x_arr, y_arr)\n"
     ]
    },
    {
     "name": "stdout",
     "output_type": "stream",
     "text": [
      "2020-01-11 00:00:00, doy: 11\n"
     ]
    },
    {
     "name": "stderr",
     "output_type": "stream",
     "text": [
      "/home/morteza/.local/lib/python3.11/site-packages/wcmi/core.py:82: RuntimeWarning: invalid value encountered in log\n",
      "  return c * np.log(d * x + 1e-9) #add a small value to avoid log(0)\n"
     ]
    },
    {
     "name": "stdout",
     "output_type": "stream",
     "text": [
      "2020-01-18 00:00:00, doy: 18\n"
     ]
    },
    {
     "name": "stderr",
     "output_type": "stream",
     "text": [
      "/home/morteza/.local/lib/python3.11/site-packages/wcmi/core.py:82: RuntimeWarning: invalid value encountered in log\n",
      "  return c * np.log(d * x + 1e-9) #add a small value to avoid log(0)\n"
     ]
    },
    {
     "name": "stdout",
     "output_type": "stream",
     "text": [
      "2020-01-23 00:00:00, doy: 23\n"
     ]
    },
    {
     "name": "stderr",
     "output_type": "stream",
     "text": [
      "/home/morteza/.local/lib/python3.11/site-packages/wcmi/core.py:82: RuntimeWarning: invalid value encountered in log\n",
      "  return c * np.log(d * x + 1e-9) #add a small value to avoid log(0)\n"
     ]
    },
    {
     "name": "stdout",
     "output_type": "stream",
     "text": [
      "2020-01-30 00:00:00, doy: 30\n"
     ]
    },
    {
     "name": "stderr",
     "output_type": "stream",
     "text": [
      "/home/morteza/.local/lib/python3.11/site-packages/wcmi/core.py:82: RuntimeWarning: invalid value encountered in log\n",
      "  return c * np.log(d * x + 1e-9) #add a small value to avoid log(0)\n",
      "/home/morteza/.local/lib/python3.11/site-packages/wcmi/core.py:85: OptimizeWarning: Covariance of the parameters could not be estimated\n",
      "  params, covariance = curve_fit(exp_func, x_arr, y_arr)\n"
     ]
    },
    {
     "name": "stdout",
     "output_type": "stream",
     "text": [
      "2020-02-04 00:00:00, doy: 35\n"
     ]
    },
    {
     "name": "stderr",
     "output_type": "stream",
     "text": [
      "/home/morteza/.local/lib/python3.11/site-packages/wcmi/core.py:82: RuntimeWarning: invalid value encountered in log\n",
      "  return c * np.log(d * x + 1e-9) #add a small value to avoid log(0)\n"
     ]
    },
    {
     "name": "stdout",
     "output_type": "stream",
     "text": [
      "2020-02-11 00:00:00, doy: 42\n"
     ]
    },
    {
     "name": "stderr",
     "output_type": "stream",
     "text": [
      "/home/morteza/.local/lib/python3.11/site-packages/wcmi/core.py:82: RuntimeWarning: invalid value encountered in log\n",
      "  return c * np.log(d * x + 1e-9) #add a small value to avoid log(0)\n"
     ]
    },
    {
     "name": "stdout",
     "output_type": "stream",
     "text": [
      "2020-02-16 00:00:00, doy: 47\n"
     ]
    },
    {
     "name": "stderr",
     "output_type": "stream",
     "text": [
      "/home/morteza/.local/lib/python3.11/site-packages/wcmi/core.py:82: RuntimeWarning: invalid value encountered in log\n",
      "  return c * np.log(d * x + 1e-9) #add a small value to avoid log(0)\n"
     ]
    },
    {
     "name": "stdout",
     "output_type": "stream",
     "text": [
      "2020-02-23 00:00:00, doy: 54\n"
     ]
    },
    {
     "name": "stderr",
     "output_type": "stream",
     "text": [
      "/home/morteza/.local/lib/python3.11/site-packages/wcmi/core.py:82: RuntimeWarning: invalid value encountered in log\n",
      "  return c * np.log(d * x + 1e-9) #add a small value to avoid log(0)\n"
     ]
    },
    {
     "name": "stdout",
     "output_type": "stream",
     "text": [
      "2020-03-11 00:00:00, doy: 71\n"
     ]
    },
    {
     "name": "stderr",
     "output_type": "stream",
     "text": [
      "/home/morteza/.local/lib/python3.11/site-packages/wcmi/core.py:82: RuntimeWarning: invalid value encountered in log\n",
      "  return c * np.log(d * x + 1e-9) #add a small value to avoid log(0)\n"
     ]
    },
    {
     "name": "stdout",
     "output_type": "stream",
     "text": [
      "2020-03-18 00:00:00, doy: 78\n"
     ]
    },
    {
     "name": "stderr",
     "output_type": "stream",
     "text": [
      "/home/morteza/.local/lib/python3.11/site-packages/wcmi/core.py:82: RuntimeWarning: invalid value encountered in log\n",
      "  return c * np.log(d * x + 1e-9) #add a small value to avoid log(0)\n"
     ]
    },
    {
     "name": "stdout",
     "output_type": "stream",
     "text": [
      "2020-03-30 00:00:00, doy: 90\n"
     ]
    },
    {
     "name": "stderr",
     "output_type": "stream",
     "text": [
      "/home/morteza/.local/lib/python3.11/site-packages/wcmi/core.py:82: RuntimeWarning: invalid value encountered in log\n",
      "  return c * np.log(d * x + 1e-9) #add a small value to avoid log(0)\n"
     ]
    },
    {
     "name": "stdout",
     "output_type": "stream",
     "text": [
      "2020-04-04 00:00:00, doy: 95\n"
     ]
    },
    {
     "name": "stderr",
     "output_type": "stream",
     "text": [
      "/home/morteza/.local/lib/python3.11/site-packages/wcmi/core.py:82: RuntimeWarning: invalid value encountered in log\n",
      "  return c * np.log(d * x + 1e-9) #add a small value to avoid log(0)\n"
     ]
    },
    {
     "name": "stdout",
     "output_type": "stream",
     "text": [
      "2020-04-11 00:00:00, doy: 102\n"
     ]
    },
    {
     "name": "stderr",
     "output_type": "stream",
     "text": [
      "/home/morteza/.local/lib/python3.11/site-packages/wcmi/core.py:82: RuntimeWarning: invalid value encountered in log\n",
      "  return c * np.log(d * x + 1e-9) #add a small value to avoid log(0)\n"
     ]
    },
    {
     "name": "stdout",
     "output_type": "stream",
     "text": [
      "2020-04-16 00:00:00, doy: 107\n"
     ]
    },
    {
     "name": "stderr",
     "output_type": "stream",
     "text": [
      "/home/morteza/.local/lib/python3.11/site-packages/wcmi/core.py:82: RuntimeWarning: invalid value encountered in log\n",
      "  return c * np.log(d * x + 1e-9) #add a small value to avoid log(0)\n"
     ]
    },
    {
     "name": "stdout",
     "output_type": "stream",
     "text": [
      "2020-04-28 00:00:00, doy: 119\n"
     ]
    },
    {
     "name": "stderr",
     "output_type": "stream",
     "text": [
      "/home/morteza/.local/lib/python3.11/site-packages/wcmi/core.py:82: RuntimeWarning: invalid value encountered in log\n",
      "  return c * np.log(d * x + 1e-9) #add a small value to avoid log(0)\n"
     ]
    },
    {
     "name": "stdout",
     "output_type": "stream",
     "text": [
      "2020-05-10 00:00:00, doy: 131\n"
     ]
    },
    {
     "name": "stderr",
     "output_type": "stream",
     "text": [
      "/home/morteza/.local/lib/python3.11/site-packages/wcmi/core.py:82: RuntimeWarning: invalid value encountered in log\n",
      "  return c * np.log(d * x + 1e-9) #add a small value to avoid log(0)\n"
     ]
    },
    {
     "name": "stdout",
     "output_type": "stream",
     "text": [
      "2020-05-17 00:00:00, doy: 138\n"
     ]
    },
    {
     "name": "stderr",
     "output_type": "stream",
     "text": [
      "/home/morteza/.local/lib/python3.11/site-packages/wcmi/core.py:82: RuntimeWarning: invalid value encountered in log\n",
      "  return c * np.log(d * x + 1e-9) #add a small value to avoid log(0)\n"
     ]
    },
    {
     "name": "stdout",
     "output_type": "stream",
     "text": [
      "2020-05-29 00:00:00, doy: 150\n"
     ]
    },
    {
     "name": "stderr",
     "output_type": "stream",
     "text": [
      "/home/morteza/.local/lib/python3.11/site-packages/wcmi/core.py:82: RuntimeWarning: invalid value encountered in log\n",
      "  return c * np.log(d * x + 1e-9) #add a small value to avoid log(0)\n"
     ]
    },
    {
     "name": "stdout",
     "output_type": "stream",
     "text": [
      "2020-06-03 00:00:00, doy: 155\n"
     ]
    },
    {
     "name": "stderr",
     "output_type": "stream",
     "text": [
      "/home/morteza/.local/lib/python3.11/site-packages/wcmi/core.py:82: RuntimeWarning: invalid value encountered in log\n",
      "  return c * np.log(d * x + 1e-9) #add a small value to avoid log(0)\n"
     ]
    },
    {
     "name": "stdout",
     "output_type": "stream",
     "text": [
      "2020-06-10 00:00:00, doy: 162\n"
     ]
    },
    {
     "name": "stderr",
     "output_type": "stream",
     "text": [
      "/home/morteza/.local/lib/python3.11/site-packages/wcmi/core.py:82: RuntimeWarning: invalid value encountered in log\n",
      "  return c * np.log(d * x + 1e-9) #add a small value to avoid log(0)\n"
     ]
    },
    {
     "name": "stdout",
     "output_type": "stream",
     "text": [
      "2020-06-15 00:00:00, doy: 167\n"
     ]
    },
    {
     "name": "stderr",
     "output_type": "stream",
     "text": [
      "/home/morteza/.local/lib/python3.11/site-packages/wcmi/core.py:82: RuntimeWarning: invalid value encountered in log\n",
      "  return c * np.log(d * x + 1e-9) #add a small value to avoid log(0)\n"
     ]
    },
    {
     "name": "stdout",
     "output_type": "stream",
     "text": [
      "2020-06-22 00:00:00, doy: 174\n"
     ]
    },
    {
     "name": "stderr",
     "output_type": "stream",
     "text": [
      "/home/morteza/.local/lib/python3.11/site-packages/wcmi/core.py:82: RuntimeWarning: invalid value encountered in log\n",
      "  return c * np.log(d * x + 1e-9) #add a small value to avoid log(0)\n"
     ]
    },
    {
     "name": "stdout",
     "output_type": "stream",
     "text": [
      "2020-06-27 00:00:00, doy: 179\n"
     ]
    },
    {
     "name": "stderr",
     "output_type": "stream",
     "text": [
      "/home/morteza/.local/lib/python3.11/site-packages/wcmi/core.py:82: RuntimeWarning: invalid value encountered in log\n",
      "  return c * np.log(d * x + 1e-9) #add a small value to avoid log(0)\n"
     ]
    },
    {
     "name": "stdout",
     "output_type": "stream",
     "text": [
      "2020-07-04 00:00:00, doy: 186\n"
     ]
    },
    {
     "name": "stderr",
     "output_type": "stream",
     "text": [
      "/home/morteza/.local/lib/python3.11/site-packages/wcmi/core.py:82: RuntimeWarning: invalid value encountered in log\n",
      "  return c * np.log(d * x + 1e-9) #add a small value to avoid log(0)\n"
     ]
    },
    {
     "name": "stdout",
     "output_type": "stream",
     "text": [
      "2020-07-09 00:00:00, doy: 191\n"
     ]
    },
    {
     "name": "stderr",
     "output_type": "stream",
     "text": [
      "/home/morteza/.local/lib/python3.11/site-packages/wcmi/core.py:82: RuntimeWarning: invalid value encountered in log\n",
      "  return c * np.log(d * x + 1e-9) #add a small value to avoid log(0)\n"
     ]
    },
    {
     "name": "stdout",
     "output_type": "stream",
     "text": [
      "2020-07-16 00:00:00, doy: 198\n"
     ]
    },
    {
     "name": "stderr",
     "output_type": "stream",
     "text": [
      "/home/morteza/.local/lib/python3.11/site-packages/wcmi/core.py:82: RuntimeWarning: invalid value encountered in log\n",
      "  return c * np.log(d * x + 1e-9) #add a small value to avoid log(0)\n"
     ]
    },
    {
     "name": "stdout",
     "output_type": "stream",
     "text": [
      "2020-07-21 00:00:00, doy: 203\n"
     ]
    },
    {
     "name": "stderr",
     "output_type": "stream",
     "text": [
      "/home/morteza/.local/lib/python3.11/site-packages/wcmi/core.py:82: RuntimeWarning: invalid value encountered in log\n",
      "  return c * np.log(d * x + 1e-9) #add a small value to avoid log(0)\n"
     ]
    },
    {
     "name": "stdout",
     "output_type": "stream",
     "text": [
      "2020-07-28 00:00:00, doy: 210\n"
     ]
    },
    {
     "name": "stderr",
     "output_type": "stream",
     "text": [
      "/home/morteza/.local/lib/python3.11/site-packages/wcmi/core.py:82: RuntimeWarning: invalid value encountered in log\n",
      "  return c * np.log(d * x + 1e-9) #add a small value to avoid log(0)\n"
     ]
    },
    {
     "name": "stdout",
     "output_type": "stream",
     "text": [
      "2020-08-02 00:00:00, doy: 215\n"
     ]
    },
    {
     "name": "stderr",
     "output_type": "stream",
     "text": [
      "/home/morteza/.local/lib/python3.11/site-packages/wcmi/core.py:82: RuntimeWarning: invalid value encountered in log\n",
      "  return c * np.log(d * x + 1e-9) #add a small value to avoid log(0)\n"
     ]
    },
    {
     "name": "stdout",
     "output_type": "stream",
     "text": [
      "2020-08-09 00:00:00, doy: 222\n"
     ]
    },
    {
     "name": "stderr",
     "output_type": "stream",
     "text": [
      "/home/morteza/.local/lib/python3.11/site-packages/wcmi/core.py:82: RuntimeWarning: invalid value encountered in log\n",
      "  return c * np.log(d * x + 1e-9) #add a small value to avoid log(0)\n"
     ]
    },
    {
     "name": "stdout",
     "output_type": "stream",
     "text": [
      "2020-08-14 00:00:00, doy: 227\n"
     ]
    },
    {
     "name": "stderr",
     "output_type": "stream",
     "text": [
      "/home/morteza/.local/lib/python3.11/site-packages/wcmi/core.py:82: RuntimeWarning: invalid value encountered in log\n",
      "  return c * np.log(d * x + 1e-9) #add a small value to avoid log(0)\n"
     ]
    },
    {
     "name": "stdout",
     "output_type": "stream",
     "text": [
      "2020-08-21 00:00:00, doy: 234\n"
     ]
    },
    {
     "name": "stderr",
     "output_type": "stream",
     "text": [
      "/home/morteza/.local/lib/python3.11/site-packages/wcmi/core.py:82: RuntimeWarning: invalid value encountered in log\n",
      "  return c * np.log(d * x + 1e-9) #add a small value to avoid log(0)\n"
     ]
    },
    {
     "name": "stdout",
     "output_type": "stream",
     "text": [
      "2020-08-26 00:00:00, doy: 239\n"
     ]
    },
    {
     "name": "stderr",
     "output_type": "stream",
     "text": [
      "/home/morteza/.local/lib/python3.11/site-packages/wcmi/core.py:82: RuntimeWarning: invalid value encountered in log\n",
      "  return c * np.log(d * x + 1e-9) #add a small value to avoid log(0)\n"
     ]
    },
    {
     "name": "stdout",
     "output_type": "stream",
     "text": [
      "2020-09-02 00:00:00, doy: 246\n"
     ]
    },
    {
     "name": "stderr",
     "output_type": "stream",
     "text": [
      "/home/morteza/.local/lib/python3.11/site-packages/wcmi/core.py:82: RuntimeWarning: invalid value encountered in log\n",
      "  return c * np.log(d * x + 1e-9) #add a small value to avoid log(0)\n"
     ]
    },
    {
     "name": "stdout",
     "output_type": "stream",
     "text": [
      "2020-09-07 00:00:00, doy: 251\n"
     ]
    },
    {
     "name": "stderr",
     "output_type": "stream",
     "text": [
      "/home/morteza/.local/lib/python3.11/site-packages/wcmi/core.py:82: RuntimeWarning: invalid value encountered in log\n",
      "  return c * np.log(d * x + 1e-9) #add a small value to avoid log(0)\n"
     ]
    },
    {
     "name": "stdout",
     "output_type": "stream",
     "text": [
      "2020-09-14 00:00:00, doy: 258\n"
     ]
    },
    {
     "name": "stderr",
     "output_type": "stream",
     "text": [
      "/home/morteza/.local/lib/python3.11/site-packages/wcmi/core.py:82: RuntimeWarning: invalid value encountered in log\n",
      "  return c * np.log(d * x + 1e-9) #add a small value to avoid log(0)\n"
     ]
    },
    {
     "name": "stdout",
     "output_type": "stream",
     "text": [
      "2020-09-26 00:00:00, doy: 270\n"
     ]
    },
    {
     "name": "stderr",
     "output_type": "stream",
     "text": [
      "/home/morteza/.local/lib/python3.11/site-packages/wcmi/core.py:82: RuntimeWarning: invalid value encountered in log\n",
      "  return c * np.log(d * x + 1e-9) #add a small value to avoid log(0)\n"
     ]
    },
    {
     "name": "stdout",
     "output_type": "stream",
     "text": [
      "2020-10-01 00:00:00, doy: 275\n"
     ]
    },
    {
     "name": "stderr",
     "output_type": "stream",
     "text": [
      "/home/morteza/.local/lib/python3.11/site-packages/wcmi/core.py:82: RuntimeWarning: invalid value encountered in log\n",
      "  return c * np.log(d * x + 1e-9) #add a small value to avoid log(0)\n"
     ]
    },
    {
     "name": "stdout",
     "output_type": "stream",
     "text": [
      "2020-10-08 00:00:00, doy: 282\n"
     ]
    },
    {
     "name": "stderr",
     "output_type": "stream",
     "text": [
      "/home/morteza/.local/lib/python3.11/site-packages/wcmi/core.py:82: RuntimeWarning: invalid value encountered in log\n",
      "  return c * np.log(d * x + 1e-9) #add a small value to avoid log(0)\n"
     ]
    },
    {
     "name": "stdout",
     "output_type": "stream",
     "text": [
      "2020-10-13 00:00:00, doy: 287\n"
     ]
    },
    {
     "name": "stderr",
     "output_type": "stream",
     "text": [
      "/home/morteza/.local/lib/python3.11/site-packages/wcmi/core.py:82: RuntimeWarning: invalid value encountered in log\n",
      "  return c * np.log(d * x + 1e-9) #add a small value to avoid log(0)\n"
     ]
    },
    {
     "name": "stdout",
     "output_type": "stream",
     "text": [
      "2020-10-20 00:00:00, doy: 294\n"
     ]
    },
    {
     "name": "stderr",
     "output_type": "stream",
     "text": [
      "/home/morteza/.local/lib/python3.11/site-packages/wcmi/core.py:82: RuntimeWarning: invalid value encountered in log\n",
      "  return c * np.log(d * x + 1e-9) #add a small value to avoid log(0)\n"
     ]
    },
    {
     "name": "stdout",
     "output_type": "stream",
     "text": [
      "2020-10-25 00:00:00, doy: 299\n"
     ]
    },
    {
     "name": "stderr",
     "output_type": "stream",
     "text": [
      "/home/morteza/.local/lib/python3.11/site-packages/wcmi/core.py:82: RuntimeWarning: invalid value encountered in log\n",
      "  return c * np.log(d * x + 1e-9) #add a small value to avoid log(0)\n"
     ]
    },
    {
     "name": "stdout",
     "output_type": "stream",
     "text": [
      "2020-11-01 00:00:00, doy: 306\n"
     ]
    },
    {
     "name": "stderr",
     "output_type": "stream",
     "text": [
      "/home/morteza/.local/lib/python3.11/site-packages/wcmi/core.py:82: RuntimeWarning: invalid value encountered in log\n",
      "  return c * np.log(d * x + 1e-9) #add a small value to avoid log(0)\n",
      "/home/morteza/.local/lib/python3.11/site-packages/wcmi/core.py:82: RuntimeWarning: invalid value encountered in log\n",
      "  return c * np.log(d * x + 1e-9) #add a small value to avoid log(0)\n"
     ]
    },
    {
     "name": "stdout",
     "output_type": "stream",
     "text": [
      "2020-11-06 00:00:00, doy: 311\n",
      "2020-11-13 00:00:00, doy: 318\n"
     ]
    },
    {
     "name": "stderr",
     "output_type": "stream",
     "text": [
      "/home/morteza/.local/lib/python3.11/site-packages/wcmi/core.py:82: RuntimeWarning: invalid value encountered in log\n",
      "  return c * np.log(d * x + 1e-9) #add a small value to avoid log(0)\n",
      "/home/morteza/.local/lib/python3.11/site-packages/wcmi/core.py:85: OptimizeWarning: Covariance of the parameters could not be estimated\n",
      "  params, covariance = curve_fit(exp_func, x_arr, y_arr)\n"
     ]
    },
    {
     "name": "stdout",
     "output_type": "stream",
     "text": [
      "2020-11-18 00:00:00, doy: 323\n"
     ]
    },
    {
     "name": "stderr",
     "output_type": "stream",
     "text": [
      "/home/morteza/.local/lib/python3.11/site-packages/wcmi/core.py:82: RuntimeWarning: invalid value encountered in log\n",
      "  return c * np.log(d * x + 1e-9) #add a small value to avoid log(0)\n"
     ]
    },
    {
     "name": "stdout",
     "output_type": "stream",
     "text": [
      "2020-11-25 00:00:00, doy: 330\n"
     ]
    },
    {
     "name": "stderr",
     "output_type": "stream",
     "text": [
      "/home/morteza/.local/lib/python3.11/site-packages/wcmi/core.py:82: RuntimeWarning: invalid value encountered in log\n",
      "  return c * np.log(d * x + 1e-9) #add a small value to avoid log(0)\n"
     ]
    },
    {
     "name": "stdout",
     "output_type": "stream",
     "text": [
      "2020-11-30 00:00:00, doy: 335\n"
     ]
    },
    {
     "name": "stderr",
     "output_type": "stream",
     "text": [
      "/home/morteza/.local/lib/python3.11/site-packages/wcmi/core.py:82: RuntimeWarning: invalid value encountered in log\n",
      "  return c * np.log(d * x + 1e-9) #add a small value to avoid log(0)\n"
     ]
    },
    {
     "name": "stdout",
     "output_type": "stream",
     "text": [
      "2020-12-07 00:00:00, doy: 342\n"
     ]
    },
    {
     "name": "stderr",
     "output_type": "stream",
     "text": [
      "/home/morteza/.local/lib/python3.11/site-packages/wcmi/core.py:82: RuntimeWarning: invalid value encountered in log\n",
      "  return c * np.log(d * x + 1e-9) #add a small value to avoid log(0)\n",
      "/home/morteza/.local/lib/python3.11/site-packages/wcmi/core.py:85: OptimizeWarning: Covariance of the parameters could not be estimated\n",
      "  params, covariance = curve_fit(exp_func, x_arr, y_arr)\n"
     ]
    },
    {
     "name": "stdout",
     "output_type": "stream",
     "text": [
      "2020-12-12 00:00:00, doy: 347\n"
     ]
    },
    {
     "name": "stderr",
     "output_type": "stream",
     "text": [
      "/home/morteza/.local/lib/python3.11/site-packages/wcmi/core.py:82: RuntimeWarning: invalid value encountered in log\n",
      "  return c * np.log(d * x + 1e-9) #add a small value to avoid log(0)\n"
     ]
    },
    {
     "name": "stdout",
     "output_type": "stream",
     "text": [
      "2020-12-19 00:00:00, doy: 354\n"
     ]
    },
    {
     "name": "stderr",
     "output_type": "stream",
     "text": [
      "/home/morteza/.local/lib/python3.11/site-packages/wcmi/core.py:82: RuntimeWarning: invalid value encountered in log\n",
      "  return c * np.log(d * x + 1e-9) #add a small value to avoid log(0)\n"
     ]
    },
    {
     "name": "stdout",
     "output_type": "stream",
     "text": [
      "2020-12-24 00:00:00, doy: 359\n"
     ]
    },
    {
     "name": "stderr",
     "output_type": "stream",
     "text": [
      "/home/morteza/.local/lib/python3.11/site-packages/wcmi/core.py:82: RuntimeWarning: invalid value encountered in log\n",
      "  return c * np.log(d * x + 1e-9) #add a small value to avoid log(0)\n"
     ]
    }
   ],
   "source": [
    "from wcmi import VegParamCal\n",
    "\n",
    "opt_obj = VegParamCal(dir_radar_sigma='../datasets/backscatter/', \n",
    "                      dir_risma='../datasets/RISMA/', \n",
    "                      aafc_croptype=[158, ], \n",
    "                      risma_station=['MB5', ], \n",
    "                      sensor_depth=[0, 5])\n",
    "wcm_param = opt_obj.run()\n",
    "# print(wcm_param)"
   ]
  },
  {
   "cell_type": "code",
   "execution_count": 10,
   "id": "ba08e842-3bba-482b-81a5-492421ba8ce6",
   "metadata": {},
   "outputs": [
    {
     "data": {
      "text/plain": [
       "{34: [[np.float64(0.014093485241817642), np.float64(0.28425770708816844)],\n",
       "  (np.float64(2.298661410561015), np.float64(0.04768383031973706))],\n",
       " 32: [[np.float64(0.010229133059048455), np.float64(0.2869220369912305)],\n",
       "  (np.float64(2.7197553337314715), np.float64(0.11628276490999208))],\n",
       " 31: [[np.float64(0.00795447514533129), np.float64(0.2935595385301648)],\n",
       "  (np.float64(2.697195482455285), np.float64(0.11771673466534373))],\n",
       " 33: [[np.float64(0.009323742839752144), np.float64(0.2929047192175405)],\n",
       "  (np.float64(2.4386163215739836), np.float64(0.06547539671750727))],\n",
       " 35: [[np.float64(0.011450505077768106), np.float64(0.30731422450499857)],\n",
       "  (np.float64(2.9911498103015104), np.float64(0.1342811281111704))],\n",
       " 36: [[np.float64(0.015603219157362692), np.float64(0.2527296258490607)],\n",
       "  (np.float64(1.6604360626415182), np.float64(0.006104439264041888))],\n",
       " 30: [[np.float64(0.005282797868243712), np.float64(0.2637314776317429)],\n",
       "  (np.float64(3.444167244486747), np.float64(0.2946451819312107))]}"
      ]
     },
     "execution_count": 10,
     "metadata": {},
     "output_type": "execute_result"
    }
   ],
   "source": [
    "angle_doy = wcm_param[158]['MB5'][5][222]\n",
    "angle_doy"
   ]
  },
  {
   "cell_type": "code",
   "execution_count": 4,
   "id": "4bce07e9-5701-40cb-8db7-9c65e1726446",
   "metadata": {},
   "outputs": [],
   "source": [
    "def mergeDictionary(dict_1, dict_2):\n",
    "   dict_3 = {**dict_1, **dict_2}\n",
    "   for key, value in dict_3.items():\n",
    "       if key in dict_1 and key in dict_2:\n",
    "               dict_3[key] = [value , dict_1[key]]\n",
    "   return dict_3"
   ]
  },
  {
   "cell_type": "code",
   "execution_count": 9,
   "id": "04c57db9-bce4-4562-87e8-4e29f100484c",
   "metadata": {},
   "outputs": [
    {
     "ename": "KeyError",
     "evalue": "0",
     "output_type": "error",
     "traceback": [
      "\u001b[0;31m---------------------------------------------------------------------------\u001b[0m",
      "\u001b[0;31mKeyError\u001b[0m                                  Traceback (most recent call last)",
      "Cell \u001b[0;32mIn[9], line 1\u001b[0m\n\u001b[0;32m----> 1\u001b[0m dict_3 \u001b[38;5;241m=\u001b[39m mergeDictionary(\u001b[43mangle_doy\u001b[49m\u001b[43m[\u001b[49m\u001b[38;5;241;43m0\u001b[39;49m\u001b[43m]\u001b[49m, angle_doy[\u001b[38;5;241m1\u001b[39m])\n\u001b[1;32m      2\u001b[0m \u001b[38;5;28mprint\u001b[39m(dict_3)\n",
      "\u001b[0;31mKeyError\u001b[0m: 0"
     ]
    }
   ],
   "source": [
    "dict_3 = mergeDictionary(angle_doy[0], angle_doy[1])\n",
    "print(dict_3)"
   ]
  },
  {
   "cell_type": "code",
   "execution_count": null,
   "id": "cbfe5898-0f53-4d5f-88d4-0d1bf6e0eddc",
   "metadata": {},
   "outputs": [],
   "source": []
  }
 ],
 "metadata": {
  "kernelspec": {
   "display_name": "Python 3 (ipykernel)",
   "language": "python",
   "name": "python3"
  },
  "language_info": {
   "codemirror_mode": {
    "name": "ipython",
    "version": 3
   },
   "file_extension": ".py",
   "mimetype": "text/x-python",
   "name": "python",
   "nbconvert_exporter": "python",
   "pygments_lexer": "ipython3",
   "version": "3.11.2"
  }
 },
 "nbformat": 4,
 "nbformat_minor": 5
}
